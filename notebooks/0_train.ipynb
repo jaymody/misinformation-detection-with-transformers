{
 "cells": [
  {
   "cell_type": "markdown",
   "metadata": {
    "colab_type": "text",
    "id": "u-4btrtreGdX"
   },
   "source": [
    "# Generate Examples\n",
    "---\n"
   ]
  },
  {
   "cell_type": "code",
   "execution_count": null,
   "metadata": {
    "colab": {},
    "colab_type": "code",
    "id": "aEE-kpZYfBrD"
   },
   "outputs": [],
   "source": [
    "import os\n",
    "import json\n",
    "\n",
    "from tqdm import tqdm\n",
    "\n",
    "from valerie.data import load_claims\n",
    "from valerie.utils import get_logger\n",
    "from valerie.modeling import SequenceClassificationModel\n",
    "from valerie.modeling import SequenceClassificationExample"
   ]
  },
  {
   "cell_type": "code",
   "execution_count": null,
   "metadata": {
    "colab": {},
    "colab_type": "code",
    "id": "W4lDlCxVfi3W"
   },
   "outputs": [],
   "source": [
    "examples_dir = os.path.join(\"models/phase2\", \"single-claim-claimant-date\")\n",
    "\n",
    "train_examples_file = os.path.join(examples_dir, \"train_examples_combined.json\")\n",
    "test_examples_file = os.path.join(examples_dir, \"test_examples.json\")\n",
    "trial_examples_file = os.path.join(examples_dir, \"trial_examples.json\")"
   ]
  },
  {
   "cell_type": "code",
   "execution_count": null,
   "metadata": {},
   "outputs": [],
   "source": [
    "train_claims = load_claims(\"data/combined/phase1-phase2/claims.json\")\n",
    "test_claims = load_claims(\"data/phase2/test-data/claims.json\")\n",
    "trial_claims = load_claims(\"data/phase2/trial-data/claims.json\")"
   ]
  },
  {
   "cell_type": "code",
   "execution_count": null,
   "metadata": {
    "colab": {},
    "colab_type": "code",
    "id": "YL_gA8rEeN7g"
   },
   "outputs": [],
   "source": [
    "def generate_examples(claims):\n",
    "    examples = []\n",
    "    for k, claim in tqdm(claims.items(), desc=\"generating examples\"):\n",
    "        examples.append(\n",
    "            SequenceClassificationExample(\n",
    "                guid=k,\n",
    "                text_a=claim.claim,\n",
    "                text_b=(claim.claimant if claim.claimant else \"no claimant\") + \" \" + (claim.date.split()[0] if claim.date else \"no date\"),\n",
    "                label=claim.label\n",
    "            )\n",
    "        )\n",
    "    return examples"
   ]
  },
  {
   "cell_type": "code",
   "execution_count": null,
   "metadata": {
    "colab": {},
    "colab_type": "code",
    "id": "tSal3hcVfSCJ"
   },
   "outputs": [],
   "source": [
    "os.makedirs(examples_dir)\n",
    "\n",
    "train_examples = generate_examples(train_claims)\n",
    "test_examples = generate_examples(test_claims)\n",
    "trial_examples = generate_examples(trial_claims)\n",
    "\n",
    "with open(train_examples_file, \"w\") as fo:\n",
    "    json.dump([e.__dict__ for e in train_examples], fo, indent=2)\n",
    "with open(test_examples_file, \"w\") as fo:\n",
    "    json.dump([e.__dict__ for e in test_examples], fo, indent=2)\n",
    "with open(trial_examples_file, \"w\") as fo:\n",
    "    json.dump([e.__dict__ for e in trial_examples], fo, indent=2)"
   ]
  },
  {
   "cell_type": "code",
   "execution_count": null,
   "metadata": {},
   "outputs": [],
   "source": [
    "train_examples = SequenceClassificationModel.load_examples(train_examples_file)\n",
    "test_examples = SequenceClassificationModel.load_examples(test_examples_file)\n",
    "trial_examples = SequenceClassificationModel.load_examples(trial_examples_file)"
   ]
  },
  {
   "cell_type": "code",
   "execution_count": null,
   "metadata": {
    "colab": {},
    "colab_type": "code",
    "id": "S56qGWF1kEZL"
   },
   "outputs": [],
   "source": [
    "print(json.dumps(train_examples[0].__dict__, indent=2))"
   ]
  },
  {
   "cell_type": "markdown",
   "metadata": {
    "colab_type": "text",
    "id": "aFcE0lSqYag4"
   },
   "source": [
    "# Train\n",
    "---"
   ]
  },
  {
   "cell_type": "code",
   "execution_count": null,
   "metadata": {
    "colab": {},
    "colab_type": "code",
    "id": "uGm9zLK7n77j"
   },
   "outputs": [],
   "source": [
    "# _logger = get_logger()"
   ]
  },
  {
   "cell_type": "code",
   "execution_count": null,
   "metadata": {
    "colab": {},
    "colab_type": "code",
    "id": "4sifwPMGZET4"
   },
   "outputs": [],
   "source": [
    "pretrained_model_name_or_path = \"roberta-large\"\n",
    "max_seq_length = 128\n",
    "trail_num = 2\n",
    "n_splits = 0\n",
    "is_combined = True\n",
    "\n",
    "props = [pretrained_model_name_or_path]\n",
    "if is_combined:\n",
    "    props += [\"combined\"]\n",
    "if n_splits:\n",
    "    props += [f\"{n_splits}fold\"]\n",
    "props += [str(max_seq_length), str(trail_num)]\n",
    "\n",
    "output_dir = os.path.join(examples_dir, \"-\".join(props))\n",
    "assert not os.path.exists(output_dir)\n",
    "print(output_dir)"
   ]
  },
  {
   "cell_type": "code",
   "execution_count": null,
   "metadata": {
    "colab": {},
    "colab_type": "code",
    "id": "ULJntdht-WLo"
   },
   "outputs": [],
   "source": [
    "i = 1\n",
    "while i <= 128:\n",
    "    bn = round(len(train_examples)/(i))\n",
    "    print(f\"{i}:\\t{bn} / 8 gpus\\t= {round(bn / 8)}\")\n",
    "    i *= 2"
   ]
  },
  {
   "cell_type": "code",
   "execution_count": null,
   "metadata": {
    "colab": {},
    "colab_type": "code",
    "id": "Gw8JJ7nak0BL"
   },
   "outputs": [],
   "source": [
    "data_args = {\n",
    "    \"train_examples_file\": train_examples_file,\n",
    "    \"test_examples_file\": test_examples_file,\n",
    "}\n",
    "training_args = {\n",
    "    \"evaluate_during_training\": True,\n",
    "    \"per_device_train_batch_size\": 16,\n",
    "    \"per_device_eval_batch_size\": 16,\n",
    "    \"gradient_accumulation_steps\": 1,\n",
    "    \"learning_rate\": 5e-5, # change this back to 2e-5 possibly\n",
    "    \"weight_decay\": 0.00,\n",
    "    \"adam_epsilon\": 1e-6,\n",
    "    \"max_grad_norm\": 1.0,\n",
    "    \"num_train_epochs\": 6,\n",
    "    \"warmup_steps\": 100,\n",
    "    \"logging_first_step\": False,\n",
    "    \"logging_steps\": 25,\n",
    "    \"save_steps\": 1e9,\n",
    "    \"save_total_limit\": 1,\n",
    "    \"seed\": 42\n",
    "}\n",
    "config_args = {\n",
    "    \"num_labels\": 3,\n",
    "    \"id2label\": {\n",
    "        \"0\": \"false\",\n",
    "        \"1\": \"partly\",\n",
    "        \"2\": \"true\"\n",
    "    },\n",
    "    \"label2id\": {\n",
    "        \"false\": 0,\n",
    "        \"partly\": 1, \n",
    "        \"true\": 2,\n",
    "    }\n",
    "}\n",
    "tokenizer_args = {\n",
    "    \"model_max_length\": max_seq_length\n",
    "}\n",
    "model_args = {}"
   ]
  },
  {
   "cell_type": "code",
   "execution_count": null,
   "metadata": {
    "colab": {},
    "colab_type": "code",
    "id": "MQC8bVkYq5y4"
   },
   "outputs": [],
   "source": [
    "model, train_dataset, test_dataset = SequenceClassificationModel.train_from_pretrained(\n",
    "    output_dir=output_dir,\n",
    "    pretrained_model_name_or_path=pretrained_model_name_or_path,\n",
    "    train_examples=train_examples,\n",
    "    test_examples=test_examples,\n",
    "    data_args=data_args,\n",
    "    training_args=training_args,\n",
    "    config_args=config_args,\n",
    "    tokenizer_args=tokenizer_args,\n",
    "    model_args=model_args,\n",
    "    nproc=2,\n",
    ")"
   ]
  },
  {
   "cell_type": "markdown",
   "metadata": {
    "colab_type": "text",
    "id": "ePoSv_Mm0WxT"
   },
   "source": [
    "# Eval\n",
    "---"
   ]
  },
  {
   "cell_type": "code",
   "execution_count": null,
   "metadata": {
    "colab": {},
    "colab_type": "code",
    "id": "V9zXYBV8N9WB"
   },
   "outputs": [],
   "source": [
    "import collections\n",
    "\n",
    "import numpy as np\n",
    "from sklearn.metrics import classification_report"
   ]
  },
  {
   "cell_type": "code",
   "execution_count": null,
   "metadata": {},
   "outputs": [],
   "source": [
    "model = SequenceClassificationModel.from_pretrained(\"models/phase2/single-claim-claimant/bert-base-cased-combined-128-2\")"
   ]
  },
  {
   "cell_type": "code",
   "execution_count": null,
   "metadata": {},
   "outputs": [],
   "source": [
    "# test_dataset = model.create_dataset(test_examples)"
   ]
  },
  {
   "cell_type": "markdown",
   "metadata": {},
   "source": [
    "### Test Data"
   ]
  },
  {
   "cell_type": "code",
   "execution_count": null,
   "metadata": {},
   "outputs": [],
   "source": [
    "predict_output = model.predict(test_dataset, predict_batch_size=8)"
   ]
  },
  {
   "cell_type": "code",
   "execution_count": null,
   "metadata": {},
   "outputs": [],
   "source": [
    "_labels = []\n",
    "_preds = []\n",
    "for example, prob in zip(test_examples, predict_output.predictions):\n",
    "    _labels.append(example.label)\n",
    "    _preds.append(np.argmax(prob))\n",
    "\n",
    "assert len(_labels) == len(test_claims)   \n",
    "print(classification_report(_labels, _preds))"
   ]
  },
  {
   "cell_type": "markdown",
   "metadata": {
    "colab": {},
    "colab_type": "code",
    "id": "6JyqRtOERF4l"
   },
   "source": [
    "### Trial Data"
   ]
  },
  {
   "cell_type": "code",
   "execution_count": null,
   "metadata": {},
   "outputs": [],
   "source": [
    "trial_dataset = model.create_dataset(trial_examples)\n",
    "predict_output = model.predict(trial_dataset, predict_batch_size=1)"
   ]
  },
  {
   "cell_type": "code",
   "execution_count": null,
   "metadata": {},
   "outputs": [],
   "source": [
    "_labels = []\n",
    "_preds = []\n",
    "for example, prob in zip(trial_examples, predict_output.predictions):\n",
    "    _labels.append(example.label)\n",
    "    _preds.append(np.argmax(prob))\n",
    "\n",
    "assert len(_labels) == len(trial_claims)   \n",
    "print(classification_report(_labels, _preds))"
   ]
  },
  {
   "cell_type": "code",
   "execution_count": null,
   "metadata": {},
   "outputs": [],
   "source": []
  }
 ],
 "metadata": {
  "accelerator": "GPU",
  "colab": {
   "collapsed_sections": [],
   "name": "_train_kfold.ipynb",
   "private_outputs": true,
   "provenance": []
  },
  "kernelspec": {
   "display_name": "Python 3",
   "language": "python",
   "name": "python3"
  },
  "language_info": {
   "codemirror_mode": {
    "name": "ipython",
    "version": 3
   },
   "file_extension": ".py",
   "mimetype": "text/x-python",
   "name": "python",
   "nbconvert_exporter": "python",
   "pygments_lexer": "ipython3",
   "version": "3.7.7"
  }
 },
 "nbformat": 4,
 "nbformat_minor": 4
}
