{
 "cells": [
  {
   "cell_type": "code",
   "execution_count": 1,
   "metadata": {},
   "outputs": [
    {
     "name": "stderr",
     "output_type": "stream",
     "text": [
      "/Users/jay/.pyenv/versions/3.7.5/envs/valerie/lib/python3.7/site-packages/pandas/compat/__init__.py:117: UserWarning: Could not import the lzma module. Your installed Python is incomplete. Attempting to use lzma compression will result in a RuntimeError.\n",
      "  warnings.warn(msg)\n"
     ]
    }
   ],
   "source": [
    "import json\n",
    "\n",
    "from valerie.utils import get_logger\n",
    "from valerie.datasets import Phase2Dataset"
   ]
  },
  {
   "cell_type": "code",
   "execution_count": 2,
   "metadata": {},
   "outputs": [],
   "source": [
    "logger = get_logger()"
   ]
  },
  {
   "cell_type": "code",
   "execution_count": 3,
   "metadata": {},
   "outputs": [],
   "source": [
    "metadata = [\n",
    "    {\n",
    "        \"id\": 0,\n",
    "        \"claim\": \"this is a claim\",\n",
    "        \"claimant\": \"jay\",\n",
    "        \"date\": \"2020-07-13\"\n",
    "    },\n",
    "    {\n",
    "        \"id\": 1,\n",
    "        \"claim\": \"this is a claim\",\n",
    "        \"claimant\": \"jay\",\n",
    "        \"date\": \"2020-07-13\"\n",
    "    }\n",
    "]"
   ]
  },
  {
   "cell_type": "code",
   "execution_count": 4,
   "metadata": {},
   "outputs": [],
   "source": [
    "with open(\"logs/temp.json\", \"w\") as fo:\n",
    "    json.dump(metadata, fo)"
   ]
  },
  {
   "cell_type": "code",
   "execution_count": 5,
   "metadata": {},
   "outputs": [
    {
     "data": {
      "application/vnd.jupyter.widget-view+json": {
       "model_id": "84a012947b9d47a4b96fd3a7bdaeb7c9",
       "version_major": 2,
       "version_minor": 0
      },
      "text/plain": [
       "HBox(children=(FloatProgress(value=0.0, description='Phase2Dataset to claims', max=2.0, style=ProgressStyle(de…"
      ]
     },
     "metadata": {},
     "output_type": "display_data"
    },
    {
     "name": "stdout",
     "output_type": "stream",
     "text": [
      "\n",
      "[2020-07-13 01:02:35,226] INFO:valerie.datasets: missed row to claim conversions: 0\n",
      "[2020-07-13 01:02:35,226] INFO:valerie.datasets: Phase2Dataset claims set change 2 --> 1\n"
     ]
    }
   ],
   "source": [
    "set_dataset = Phase2Dataset.from_raw(\"logs/temp.json\")"
   ]
  },
  {
   "cell_type": "code",
   "execution_count": 6,
   "metadata": {},
   "outputs": [
    {
     "data": {
      "application/vnd.jupyter.widget-view+json": {
       "model_id": "775cf61841374b7faa7e3501e39a28d1",
       "version_major": 2,
       "version_minor": 0
      },
      "text/plain": [
       "HBox(children=(FloatProgress(value=0.0, description='Phase2Dataset to claims', max=2.0, style=ProgressStyle(de…"
      ]
     },
     "metadata": {},
     "output_type": "display_data"
    },
    {
     "name": "stdout",
     "output_type": "stream",
     "text": [
      "\n",
      "[2020-07-13 01:02:35,276] INFO:valerie.datasets: missed row to claim conversions: 0\n",
      "[2020-07-13 01:02:35,276] INFO:valerie.datasets: Phase2Dataset claims set change 2 --> 1\n"
     ]
    }
   ],
   "source": [
    "set_dataset = Phase2Dataset.from_raw(\"logs/temp.json\", setify=True)"
   ]
  },
  {
   "cell_type": "code",
   "execution_count": 7,
   "metadata": {},
   "outputs": [
    {
     "data": {
      "application/vnd.jupyter.widget-view+json": {
       "model_id": "095b914e8d064fdea4c06eefce6d1aa1",
       "version_major": 2,
       "version_minor": 0
      },
      "text/plain": [
       "HBox(children=(FloatProgress(value=0.0, description='Phase2Dataset to claims', max=2.0, style=ProgressStyle(de…"
      ]
     },
     "metadata": {},
     "output_type": "display_data"
    },
    {
     "name": "stdout",
     "output_type": "stream",
     "text": [
      "\n",
      "[2020-07-13 01:02:35,331] INFO:valerie.datasets: missed row to claim conversions: 0\n",
      "[2020-07-13 01:02:35,331] INFO:valerie.datasets: len of claims: 2\n"
     ]
    }
   ],
   "source": [
    "set_dataset = Phase2Dataset.from_raw(\"logs/temp.json\", setify=False)"
   ]
  },
  {
   "cell_type": "code",
   "execution_count": null,
   "metadata": {},
   "outputs": [],
   "source": []
  }
 ],
 "metadata": {
  "kernelspec": {
   "display_name": "Python 3",
   "language": "python",
   "name": "python3"
  },
  "language_info": {
   "codemirror_mode": {
    "name": "ipython",
    "version": 3
   },
   "file_extension": ".py",
   "mimetype": "text/x-python",
   "name": "python",
   "nbconvert_exporter": "python",
   "pygments_lexer": "ipython3",
   "version": "3.7.5"
  }
 },
 "nbformat": 4,
 "nbformat_minor": 4
}
