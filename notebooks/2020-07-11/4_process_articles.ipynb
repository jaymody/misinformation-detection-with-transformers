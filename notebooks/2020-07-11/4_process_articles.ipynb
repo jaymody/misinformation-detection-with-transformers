{
 "cells": [
  {
   "cell_type": "code",
   "execution_count": 7,
   "metadata": {},
   "outputs": [],
   "source": [
    "import os\n",
    "import pickle\n",
    "\n",
    "from valerie.utils import get_logger\n",
    "from valerie.datasets import Phase1Dataset, Phase2Dataset\n",
    "\n",
    "logger = get_logger()"
   ]
  },
  {
   "cell_type": "markdown",
   "metadata": {},
   "source": [
    "# Phase1"
   ]
  },
  {
   "cell_type": "code",
   "execution_count": 3,
   "metadata": {},
   "outputs": [
    {
     "data": {
      "application/vnd.jupyter.widget-view+json": {
       "model_id": "4655b2abbc01463bbf809c36cbbbe0c1",
       "version_major": 2,
       "version_minor": 0
      },
      "text/plain": [
       "HBox(children=(FloatProgress(value=0.0, description='Phase1Dataset to claims', max=15555.0, style=ProgressStyl…"
      ]
     },
     "metadata": {},
     "output_type": "display_data"
    },
    {
     "name": "stdout",
     "output_type": "stream",
     "text": [
      "\n",
      "[2020-07-11 03:37:06,760] INFO:valerie.datasets: missed row to claim conversions: 0\n"
     ]
    },
    {
     "data": {
      "application/vnd.jupyter.widget-view+json": {
       "model_id": "1cef0237ff76429ba9c858dfeefa197a",
       "version_major": 2,
       "version_minor": 0
      },
      "text/plain": [
       "HBox(children=(FloatProgress(value=0.0, description='loading articles from phase1', max=64974.0, style=Progres…"
      ]
     },
     "metadata": {},
     "output_type": "display_data"
    },
    {
     "name": "stdout",
     "output_type": "stream",
     "text": [
      "\n",
      "[2020-07-11 03:39:55,839] INFO:valerie.datasets: Phase1Dataset claims set change 15555 --> 15555\n",
      "[2020-07-11 03:39:55,869] INFO:valerie.datasets: Phase1Dataset articles set change 64974 --> 64974\n"
     ]
    }
   ],
   "source": [
    "phase1_dataset = Phase1Dataset.from_raw(\"data/phase1/raw/metadata.json\", \"data/phase1/raw/articles\", nproc=6)"
   ]
  },
  {
   "cell_type": "code",
   "execution_count": 4,
   "metadata": {},
   "outputs": [
    {
     "data": {
      "text/plain": [
       "64974"
      ]
     },
     "execution_count": 4,
     "metadata": {},
     "output_type": "execute_result"
    }
   ],
   "source": [
    "len(phase1_dataset.articles)"
   ]
  },
  {
   "cell_type": "code",
   "execution_count": 8,
   "metadata": {},
   "outputs": [],
   "source": [
    "os.makedirs(\"data/phase1/processed\")\n",
    "\n",
    "with open(\"data/phase1/processed/articles_dict.pkl\", \"wb\") as fi:\n",
    "    pickle.dump({article.index: article for article in phase1_dataset.articles}, fi)"
   ]
  },
  {
   "cell_type": "code",
   "execution_count": 9,
   "metadata": {},
   "outputs": [
    {
     "name": "stdout",
     "output_type": "stream",
     "text": [
      "336M\tdata/phase1/processed/articles_dict.pkl\n",
      "336M\ttotal\n"
     ]
    }
   ],
   "source": [
    "!du -csh data/phase1/processed/*"
   ]
  },
  {
   "cell_type": "code",
   "execution_count": 18,
   "metadata": {},
   "outputs": [
    {
     "name": "stdout",
     "output_type": "stream",
     "text": [
      "Copying file://data/phase1/processed/articles_dict.pkl [Content-Type=application/octet-stream]...\n",
      "==> NOTE: You are uploading one or more large file(s), which would run          \n",
      "significantly faster if you enable parallel composite uploads. This\n",
      "feature can be enabled by editing the\n",
      "\"parallel_composite_upload_threshold\" value in your .boto\n",
      "configuration file. However, note that if you do this large files will\n",
      "be uploaded as `composite objects\n",
      "<https://cloud.google.com/storage/docs/composite-objects>`_,which\n",
      "means that any user who downloads such objects will need to have a\n",
      "compiled crcmod installed (see \"gsutil help crcmod\"). This is because\n",
      "without a compiled crcmod, computing checksums on composite objects is\n",
      "so slow that gsutil disables downloads of composite objects.\n",
      "\n",
      "Catching up md5 for file://data/phase1/processed/articles_dict.pkl...           \n",
      "Catching up md5 for file://data/phase1/processed/articles_dict.pkl...           \n",
      "Catching up md5 for file://data/phase1/processed/articles_dict.pkl...           \n",
      "/ [1 files][336.5 MiB/336.5 MiB]      0.0 B/s                                   \n",
      "Operation completed over 1 objects/336.5 MiB.                                    \n"
     ]
    }
   ],
   "source": [
    "!gsutil cp data/phase1/processed/articles_dict.pkl gs://valerie-bucket/data/phase1/processed/articles_dict.pkl"
   ]
  },
  {
   "cell_type": "markdown",
   "metadata": {},
   "source": [
    "# Phase2"
   ]
  },
  {
   "cell_type": "code",
   "execution_count": 10,
   "metadata": {},
   "outputs": [
    {
     "data": {
      "application/vnd.jupyter.widget-view+json": {
       "model_id": "b86d1078db0f446594b096161f033f9a",
       "version_major": 2,
       "version_minor": 0
      },
      "text/plain": [
       "HBox(children=(FloatProgress(value=0.0, description='Phase2Dataset to claims', max=13102.0, style=ProgressStyl…"
      ]
     },
     "metadata": {},
     "output_type": "display_data"
    },
    {
     "name": "stdout",
     "output_type": "stream",
     "text": [
      "\n",
      "[2020-07-11 03:41:28,296] INFO:valerie.datasets: missed row to claim conversions: 0\n",
      "[2020-07-11 03:41:28,296] INFO:valerie.datasets: missed row to claim conversions: 0\n"
     ]
    },
    {
     "data": {
      "application/vnd.jupyter.widget-view+json": {
       "model_id": "32ae1b7888a04f97aa74e62821a9dcd2",
       "version_major": 2,
       "version_minor": 0
      },
      "text/plain": [
       "HBox(children=(FloatProgress(value=0.0, description='loading article from phase2', max=53459.0, style=Progress…"
      ]
     },
     "metadata": {},
     "output_type": "display_data"
    },
    {
     "name": "stdout",
     "output_type": "stream",
     "text": [
      "\n",
      "[2020-07-11 03:58:19,539] INFO:valerie.datasets: missed art index to url conversions: 76\n",
      "[2020-07-11 03:58:19,539] INFO:valerie.datasets: missed art index to url conversions: 76\n",
      "[2020-07-11 03:58:19,562] INFO:valerie.datasets: Phase2Dataset claims set change 13102 --> 13102\n",
      "[2020-07-11 03:58:19,562] INFO:valerie.datasets: Phase2Dataset claims set change 13102 --> 13102\n",
      "[2020-07-11 03:58:19,584] INFO:valerie.datasets: Phase2Dataset articles set change 53459 --> 53459\n",
      "[2020-07-11 03:58:19,584] INFO:valerie.datasets: Phase2Dataset articles set change 53459 --> 53459\n"
     ]
    }
   ],
   "source": [
    "phase2_dataset = Phase2Dataset.from_raw(\"data/phase2-3/raw/metadata.json\", \"data/phase2-3/raw/articles\", nproc=6)"
   ]
  },
  {
   "cell_type": "code",
   "execution_count": 11,
   "metadata": {},
   "outputs": [
    {
     "data": {
      "text/plain": [
       "53459"
      ]
     },
     "execution_count": 11,
     "metadata": {},
     "output_type": "execute_result"
    }
   ],
   "source": [
    "len(phase2_dataset.articles)"
   ]
  },
  {
   "cell_type": "code",
   "execution_count": 14,
   "metadata": {},
   "outputs": [],
   "source": [
    "os.makedirs(\"data/phase2-3/processed\")\n",
    "\n",
    "with open(\"data/phase2-3/processed/articles_dict.pkl\", \"wb\") as fi:\n",
    "    pickle.dump({article.index: article for article in phase2_dataset.articles}, fi)"
   ]
  },
  {
   "cell_type": "code",
   "execution_count": 16,
   "metadata": {},
   "outputs": [
    {
     "name": "stdout",
     "output_type": "stream",
     "text": [
      "278M\tdata/phase2-3/processed/articles_dict.pkl\n",
      "278M\ttotal\n"
     ]
    }
   ],
   "source": [
    "!du -csh data/phase2-3/processed/*"
   ]
  },
  {
   "cell_type": "code",
   "execution_count": 17,
   "metadata": {},
   "outputs": [
    {
     "name": "stdout",
     "output_type": "stream",
     "text": [
      "\n",
      "\n",
      "Updates are available for some Cloud SDK components.  To install them,\n",
      "please run:\n",
      "  $ gcloud components update\n",
      "\n",
      "Copying file://data/phase2-3/processed/articles_dict.pkl [Content-Type=application/octet-stream]...\n",
      "==> NOTE: You are uploading one or more large file(s), which would run          \n",
      "significantly faster if you enable parallel composite uploads. This\n",
      "feature can be enabled by editing the\n",
      "\"parallel_composite_upload_threshold\" value in your .boto\n",
      "configuration file. However, note that if you do this large files will\n",
      "be uploaded as `composite objects\n",
      "<https://cloud.google.com/storage/docs/composite-objects>`_,which\n",
      "means that any user who downloads such objects will need to have a\n",
      "compiled crcmod installed (see \"gsutil help crcmod\"). This is because\n",
      "without a compiled crcmod, computing checksums on composite objects is\n",
      "so slow that gsutil disables downloads of composite objects.\n",
      "\n",
      "- [1 files][278.1 MiB/278.1 MiB]      0.0 B/s                                   \n",
      "Operation completed over 1 objects/278.1 MiB.                                    \n"
     ]
    }
   ],
   "source": [
    "!gsutil cp data/phase2-3/processed/articles_dict.pkl gs://valerie-bucket/data/phase2-3/processed/articles_dict.pkl"
   ]
  },
  {
   "cell_type": "code",
   "execution_count": null,
   "metadata": {},
   "outputs": [],
   "source": []
  }
 ],
 "metadata": {
  "kernelspec": {
   "display_name": "Python 3",
   "language": "python",
   "name": "python3"
  },
  "language_info": {
   "codemirror_mode": {
    "name": "ipython",
    "version": 3
   },
   "file_extension": ".py",
   "mimetype": "text/x-python",
   "name": "python",
   "nbconvert_exporter": "python",
   "pygments_lexer": "ipython3",
   "version": "3.7.5"
  }
 },
 "nbformat": 4,
 "nbformat_minor": 4
}
