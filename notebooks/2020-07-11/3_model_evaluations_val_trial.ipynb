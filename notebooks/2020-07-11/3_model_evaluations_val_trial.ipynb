{
 "cells": [
  {
   "cell_type": "code",
   "execution_count": 23,
   "metadata": {},
   "outputs": [],
   "source": [
    "import os\n",
    "import glob\n",
    "\n",
    "import wandb\n",
    "import numpy as np\n",
    "from tqdm.auto import tqdm\n",
    "from sklearn.metrics import classification_report\n",
    "\n",
    "from valerie.datasets import Phase2ValidationDataset, Phase2TrialDataset, Phase2Dataset\n",
    "from valerie.modeling import SequenceClassificationModel, SequenceClassificationExample\n",
    "\n",
    "\n",
    "def run_eval(models_to_run, examples):\n",
    "    for run_dir, checkpoint_dirs in models_to_run.items():\n",
    "        for checkpoint_dir in checkpoint_dirs:\n",
    "            print(\"-\" * 100)\n",
    "            print(os.path.join(run_dir, checkpoint_dir).center(100, \"-\"))\n",
    "            print(\"-\" * 100)\n",
    "            model = SequenceClassificationModel.from_pretrained(\n",
    "                pretrained_model_name_or_path=run_dir, checkpoint_dir=checkpoint_dir\n",
    "            )\n",
    "            predict_dataset = model.create_dataset(examples)\n",
    "            predict_output = model.predict(predict_dataset, predict_batch_size=8)\n",
    "            labels = predict_output.label_ids\n",
    "            predictions = [np.argmax(proba) for proba in predict_output.predictions]\n",
    "            report = classification_report(labels, predictions)\n",
    "            print(report)\n",
    "            print()"
   ]
  },
  {
   "cell_type": "code",
   "execution_count": 4,
   "metadata": {},
   "outputs": [],
   "source": [
    "def ge_plain(claims):\n",
    "    examples = []\n",
    "    for claim in tqdm(claims, desc=\"generating examples\"):\n",
    "        examples.append(\n",
    "            SequenceClassificationExample(\n",
    "                guid=claim.id, text_a=claim.claim, text_b=None, label=claim.label,\n",
    "            )\n",
    "        )\n",
    "    return examples\n",
    "\n",
    "def ge_claim_claimant(claims):\n",
    "    examples = []\n",
    "    for claim in tqdm(claims, desc=\"generating examples\"):\n",
    "        examples.append(\n",
    "            SequenceClassificationExample(\n",
    "                guid=claim.id,\n",
    "                text_a=claim.claim,\n",
    "                text_b=claim.claimant if claim.claimant else \"no claimant\",\n",
    "                label=claim.label,\n",
    "            )\n",
    "        )\n",
    "    return examples\n",
    "    \n",
    "def ge_claim_claimant_date(claims):\n",
    "    examples = []\n",
    "    for claim in tqdm(claims, desc=\"generating examples\"):\n",
    "        examples.append(\n",
    "            SequenceClassificationExample(\n",
    "                guid=claim.id,\n",
    "                text_a=claim.claim,\n",
    "                text_b=(claim.claimant if claim.claimant else \"no claimant\")\n",
    "                + \" \"\n",
    "                + (claim.date.split()[0] if claim.date else \"no date\"),\n",
    "                label=claim.label,\n",
    "            )\n",
    "        )\n",
    "    return examples"
   ]
  },
  {
   "cell_type": "code",
   "execution_count": 33,
   "metadata": {},
   "outputs": [],
   "source": [
    "# 4 the generate examples experiments\n",
    "def ge_claimant_date(claims):\n",
    "    examples = []\n",
    "    for claim in tqdm(claims, desc=\"generating examples\"):\n",
    "        text_b = claim.claimant if claim.claimant else \"claimant\"\n",
    "        text_b += \" \"\n",
    "        text_b += claim.date.split()[0] if claim.date else \"placeholder\"\n",
    "        examples.append(\n",
    "            SequenceClassificationExample(\n",
    "                guid=claim.id, text_a=claim.claim, text_b=text_b, label=claim.label,\n",
    "            )\n",
    "        )\n",
    "    return examples\n",
    "\n",
    "\n",
    "def ge_date(claims):\n",
    "    examples = []\n",
    "    for claim in tqdm(claims, desc=\"generating examples\"):\n",
    "        examples.append(\n",
    "            SequenceClassificationExample(\n",
    "                guid=claim.id,\n",
    "                text_a=claim.claim,\n",
    "                text_b=claim.date.split()[0] if claim.date else \"placeholder\",\n",
    "                label=claim.label,\n",
    "            )\n",
    "        )\n",
    "    return examples\n",
    "\n",
    "\n",
    "def ge_claimant(claims):\n",
    "    examples = []\n",
    "    for claim in tqdm(claims, desc=\"generating examples\"):\n",
    "        examples.append(\n",
    "            SequenceClassificationExample(\n",
    "                guid=claim.id,\n",
    "                text_a=claim.claim,\n",
    "                text_b=claim.claimant if claim.claimant else \"claimant\",\n",
    "                label=claim.label,\n",
    "            )\n",
    "        )\n",
    "    return examples\n",
    "\n",
    "\n",
    "def ge_vanilla(claims):\n",
    "    examples = []\n",
    "    for claim in tqdm(claims, desc=\"generating examples\"):\n",
    "        examples.append(\n",
    "            SequenceClassificationExample(\n",
    "                guid=claim.id, text_a=claim.claim, text_b=None, label=claim.label,\n",
    "            )\n",
    "        )\n",
    "    return examples"
   ]
  },
  {
   "cell_type": "code",
   "execution_count": 38,
   "metadata": {},
   "outputs": [],
   "source": [
    "def main(dataset):\n",
    "#     # woops I don't have these saved\n",
    "#     # generate examples bois\n",
    "#     examples = ge_claimant_date(dataset.claims)\n",
    "#     runs = {\"models/fnc/initial_simple_generate_examples/initial_simple_generate_examples-0\": [\"\"]}\n",
    "#     run_eval(runs, examples)\n",
    "    \n",
    "#     examples = ge_date(dataset.claims)\n",
    "#     runs = {\"models/fnc/initial_simple_generate_examples/initial_simple_generate_examples-1\": [\"\"]}\n",
    "#     run_eval(runs, examples)\n",
    "    \n",
    "#     examples = ge_claimant(dataset.claims)\n",
    "#     runs = {\"models/fnc/initial_simple_generate_examples/initial_simple_generate_examples-2\": [\"\"]}\n",
    "#     run_eval(runs, examples)\n",
    "    \n",
    "#     examples = ge_vanilla(dataset.claims)\n",
    "#     runs = {\"models/fnc/initial_simple_generate_examples/initial_simple_generate_examples-3\": [\"\"]}\n",
    "#     run_eval(runs, examples)\n",
    "    \n",
    "    \n",
    "    \n",
    "#     # woops I don't have these saved as well :(\n",
    "#     # train test split bois\n",
    "#     group_dir = \"models/fnc/train_test_split_0.5_to_0.95\"\n",
    "#     examples = ge_plain(dataset.claims)\n",
    "#     runs = {k: [\"\"] for k in sorted(glob.glob(os.path.join(group_dir, \"train_test_split_0.5_to_0.95*\")))}\n",
    "#     run_eval(runs, examples)\n",
    "\n",
    "\n",
    "    \n",
    "    # combined dataset probe\n",
    "    examples = ge_plain(dataset.claims)\n",
    "    group_dir = \"models/fnc/combined_dataset_first_probe/combined_dataset_first_probe-0\"\n",
    "    runs = {\n",
    "        group_dir: sorted(\n",
    "            [\n",
    "                os.path.basename(path)\n",
    "                for path in glob.glob(os.path.join(group_dir, \"checkpoint*\"))\n",
    "            ]\n",
    "        )\n",
    "        + [\"\"]\n",
    "    }\n",
    "    run_eval(runs, examples)\n",
    "    \n",
    "    \n",
    "    \n",
    "    # initial test run\n",
    "    group_dir = \"models/fnc/initial_test_run\"\n",
    "    examples = ge_plain(dataset.claims)\n",
    "    runs = {k: [\"\"] for k in sorted(glob.glob(os.path.join(group_dir, \"initial_test*\")))}\n",
    "    run_eval(runs, examples)\n",
    "    \n",
    "    \n",
    "    \n",
    "    # single claim claimant\n",
    "    group_dir = \"models/phase2/single-claim-claimant\"\n",
    "    examples = ge_claim_claimant(dataset.claims)\n",
    "    runs = {k: [\"\"] for k in sorted(glob.glob(os.path.join(group_dir, \"bert-base-cased*\")))}\n",
    "    run_eval(runs, examples)\n",
    "    \n",
    "\n",
    "    \n",
    "    # single claim claimant date\n",
    "    group_dir = \"models/phase2/single-claim-claimant-date\"\n",
    "    examples = ge_claim_claimant_date(dataset.claims)\n",
    "    runs = {k: [\"\"] for k in sorted(glob.glob(os.path.join(group_dir, \"*-combined-*\"))) if \"fold\" not in k}\n",
    "    run_eval(runs, examples)"
   ]
  },
  {
   "cell_type": "markdown",
   "metadata": {},
   "source": [
    "# trial data results"
   ]
  },
  {
   "cell_type": "markdown",
   "metadata": {},
   "source": [
    "**for combined_dataset_first_probe, there was a dataleak so don't consider those results for the trail dataset**"
   ]
  },
  {
   "cell_type": "code",
   "execution_count": 39,
   "metadata": {},
   "outputs": [
    {
     "data": {
      "application/vnd.jupyter.widget-view+json": {
       "model_id": "e08dd36a75764252b64a5f9dba4f45c9",
       "version_major": 2,
       "version_minor": 0
      },
      "text/plain": [
       "HBox(children=(FloatProgress(value=0.0, description='Phase2TrialDataset to claims', style=ProgressStyle(descri…"
      ]
     },
     "metadata": {},
     "output_type": "display_data"
    },
    {
     "name": "stdout",
     "output_type": "stream",
     "text": [
      "\n"
     ]
    },
    {
     "data": {
      "application/vnd.jupyter.widget-view+json": {
       "model_id": "d51ee27cb48143bdb07c337acda99a93",
       "version_major": 2,
       "version_minor": 0
      },
      "text/plain": [
       "HBox(children=(FloatProgress(value=0.0, description='generating examples', style=ProgressStyle(description_wid…"
      ]
     },
     "metadata": {},
     "output_type": "display_data"
    },
    {
     "name": "stdout",
     "output_type": "stream",
     "text": [
      "\n",
      "----------------------------------------------------------------------------------------------------\n",
      "-------models/fnc/combined_dataset_first_probe/combined_dataset_first_probe-0/checkpoint-1000-------\n",
      "----------------------------------------------------------------------------------------------------\n"
     ]
    },
    {
     "data": {
      "application/vnd.jupyter.widget-view+json": {
       "model_id": "2c437d9ea3f44c9881e26dc5cce3608c",
       "version_major": 2,
       "version_minor": 0
      },
      "text/plain": [
       "HBox(children=(FloatProgress(value=0.0, description='converting examples to features', style=ProgressStyle(des…"
      ]
     },
     "metadata": {},
     "output_type": "display_data"
    },
    {
     "name": "stdout",
     "output_type": "stream",
     "text": [
      "\n"
     ]
    },
    {
     "data": {
      "application/vnd.jupyter.widget-view+json": {
       "model_id": "95cddaaa1215417d84dbf8a1f6d6dd2f",
       "version_major": 2,
       "version_minor": 0
      },
      "text/plain": [
       "HBox(children=(FloatProgress(value=0.0, description='Prediction', max=2.0, style=ProgressStyle(description_wid…"
      ]
     },
     "metadata": {},
     "output_type": "display_data"
    },
    {
     "name": "stderr",
     "output_type": "stream",
     "text": [
      "/home/jay/miniconda3/lib/python3.7/site-packages/torch/nn/parallel/_functions.py:61: UserWarning: Was asked to gather along dimension 0, but all input tensors were scalars; will instead unsqueeze and return a vector.\n",
      "  warnings.warn('Was asked to gather along dimension 0, but all '\n"
     ]
    },
    {
     "name": "stdout",
     "output_type": "stream",
     "text": [
      "\n",
      "              precision    recall  f1-score   support\n",
      "\n",
      "           0       0.51      0.90      0.65        41\n",
      "           1       0.58      0.39      0.47        38\n",
      "           2       1.00      0.05      0.09        21\n",
      "\n",
      "    accuracy                           0.53       100\n",
      "   macro avg       0.69      0.45      0.40       100\n",
      "weighted avg       0.64      0.53      0.46       100\n",
      "\n",
      "\n",
      "----------------------------------------------------------------------------------------------------\n",
      "-------models/fnc/combined_dataset_first_probe/combined_dataset_first_probe-0/checkpoint-2000-------\n",
      "----------------------------------------------------------------------------------------------------\n"
     ]
    },
    {
     "data": {
      "application/vnd.jupyter.widget-view+json": {
       "model_id": "e7f57a5f08b249caa2bad89d5947504e",
       "version_major": 2,
       "version_minor": 0
      },
      "text/plain": [
       "HBox(children=(FloatProgress(value=0.0, description='converting examples to features', style=ProgressStyle(des…"
      ]
     },
     "metadata": {},
     "output_type": "display_data"
    },
    {
     "name": "stdout",
     "output_type": "stream",
     "text": [
      "\n"
     ]
    },
    {
     "data": {
      "application/vnd.jupyter.widget-view+json": {
       "model_id": "d7fe8499c640473ab3d083504486db23",
       "version_major": 2,
       "version_minor": 0
      },
      "text/plain": [
       "HBox(children=(FloatProgress(value=0.0, description='Prediction', max=2.0, style=ProgressStyle(description_wid…"
      ]
     },
     "metadata": {},
     "output_type": "display_data"
    },
    {
     "name": "stdout",
     "output_type": "stream",
     "text": [
      "\n",
      "              precision    recall  f1-score   support\n",
      "\n",
      "           0       0.62      0.80      0.70        41\n",
      "           1       0.61      0.66      0.63        38\n",
      "           2       0.67      0.19      0.30        21\n",
      "\n",
      "    accuracy                           0.62       100\n",
      "   macro avg       0.63      0.55      0.54       100\n",
      "weighted avg       0.63      0.62      0.59       100\n",
      "\n",
      "\n",
      "----------------------------------------------------------------------------------------------------\n",
      "-------models/fnc/combined_dataset_first_probe/combined_dataset_first_probe-0/checkpoint-3000-------\n",
      "----------------------------------------------------------------------------------------------------\n"
     ]
    },
    {
     "data": {
      "application/vnd.jupyter.widget-view+json": {
       "model_id": "713a596d7d4049bd82ee6ab2bd9df7f4",
       "version_major": 2,
       "version_minor": 0
      },
      "text/plain": [
       "HBox(children=(FloatProgress(value=0.0, description='converting examples to features', style=ProgressStyle(des…"
      ]
     },
     "metadata": {},
     "output_type": "display_data"
    },
    {
     "name": "stdout",
     "output_type": "stream",
     "text": [
      "\n"
     ]
    },
    {
     "data": {
      "application/vnd.jupyter.widget-view+json": {
       "model_id": "c4e8eafd54e840c2bbf012a00f9642cf",
       "version_major": 2,
       "version_minor": 0
      },
      "text/plain": [
       "HBox(children=(FloatProgress(value=0.0, description='Prediction', max=2.0, style=ProgressStyle(description_wid…"
      ]
     },
     "metadata": {},
     "output_type": "display_data"
    },
    {
     "name": "stdout",
     "output_type": "stream",
     "text": [
      "\n",
      "              precision    recall  f1-score   support\n",
      "\n",
      "           0       0.79      0.76      0.77        41\n",
      "           1       0.62      0.79      0.70        38\n",
      "           2       0.62      0.38      0.47        21\n",
      "\n",
      "    accuracy                           0.69       100\n",
      "   macro avg       0.68      0.64      0.65       100\n",
      "weighted avg       0.69      0.69      0.68       100\n",
      "\n",
      "\n",
      "----------------------------------------------------------------------------------------------------\n",
      "-------models/fnc/combined_dataset_first_probe/combined_dataset_first_probe-0/checkpoint-4000-------\n",
      "----------------------------------------------------------------------------------------------------\n"
     ]
    },
    {
     "data": {
      "application/vnd.jupyter.widget-view+json": {
       "model_id": "444fcf4a84894a21bb2cb5f85a419fec",
       "version_major": 2,
       "version_minor": 0
      },
      "text/plain": [
       "HBox(children=(FloatProgress(value=0.0, description='converting examples to features', style=ProgressStyle(des…"
      ]
     },
     "metadata": {},
     "output_type": "display_data"
    },
    {
     "name": "stdout",
     "output_type": "stream",
     "text": [
      "\n"
     ]
    },
    {
     "data": {
      "application/vnd.jupyter.widget-view+json": {
       "model_id": "aefcaca786184b469f67d05304589247",
       "version_major": 2,
       "version_minor": 0
      },
      "text/plain": [
       "HBox(children=(FloatProgress(value=0.0, description='Prediction', max=2.0, style=ProgressStyle(description_wid…"
      ]
     },
     "metadata": {},
     "output_type": "display_data"
    },
    {
     "name": "stdout",
     "output_type": "stream",
     "text": [
      "\n",
      "              precision    recall  f1-score   support\n",
      "\n",
      "           0       0.94      0.83      0.88        41\n",
      "           1       0.74      0.92      0.82        38\n",
      "           2       0.88      0.71      0.79        21\n",
      "\n",
      "    accuracy                           0.84       100\n",
      "   macro avg       0.86      0.82      0.83       100\n",
      "weighted avg       0.86      0.84      0.84       100\n",
      "\n",
      "\n",
      "----------------------------------------------------------------------------------------------------\n",
      "--------------models/fnc/combined_dataset_first_probe/combined_dataset_first_probe-0/---------------\n",
      "----------------------------------------------------------------------------------------------------\n"
     ]
    },
    {
     "data": {
      "application/vnd.jupyter.widget-view+json": {
       "model_id": "129575453d504a1d8fd95dde129832f4",
       "version_major": 2,
       "version_minor": 0
      },
      "text/plain": [
       "HBox(children=(FloatProgress(value=0.0, description='converting examples to features', style=ProgressStyle(des…"
      ]
     },
     "metadata": {},
     "output_type": "display_data"
    },
    {
     "name": "stdout",
     "output_type": "stream",
     "text": [
      "\n"
     ]
    },
    {
     "data": {
      "application/vnd.jupyter.widget-view+json": {
       "model_id": "7c70ffd61eb64bd8869a096a309f6796",
       "version_major": 2,
       "version_minor": 0
      },
      "text/plain": [
       "HBox(children=(FloatProgress(value=0.0, description='Prediction', max=2.0, style=ProgressStyle(description_wid…"
      ]
     },
     "metadata": {},
     "output_type": "display_data"
    },
    {
     "name": "stdout",
     "output_type": "stream",
     "text": [
      "\n",
      "              precision    recall  f1-score   support\n",
      "\n",
      "           0       0.92      0.83      0.87        41\n",
      "           1       0.77      0.89      0.83        38\n",
      "           2       0.89      0.81      0.85        21\n",
      "\n",
      "    accuracy                           0.85       100\n",
      "   macro avg       0.86      0.84      0.85       100\n",
      "weighted avg       0.86      0.85      0.85       100\n",
      "\n",
      "\n"
     ]
    },
    {
     "data": {
      "application/vnd.jupyter.widget-view+json": {
       "model_id": "12a02b3e7c1d48d3b34e9cfcd7eb14a1",
       "version_major": 2,
       "version_minor": 0
      },
      "text/plain": [
       "HBox(children=(FloatProgress(value=0.0, description='generating examples', style=ProgressStyle(description_wid…"
      ]
     },
     "metadata": {},
     "output_type": "display_data"
    },
    {
     "name": "stdout",
     "output_type": "stream",
     "text": [
      "\n",
      "----------------------------------------------------------------------------------------------------\n",
      "--------------------------models/fnc/initial_test_run/initial_test_run-0/---------------------------\n",
      "----------------------------------------------------------------------------------------------------\n"
     ]
    },
    {
     "data": {
      "application/vnd.jupyter.widget-view+json": {
       "model_id": "7c31e87acf9e454a9b4f4c180d4796ba",
       "version_major": 2,
       "version_minor": 0
      },
      "text/plain": [
       "HBox(children=(FloatProgress(value=0.0, description='converting examples to features', style=ProgressStyle(des…"
      ]
     },
     "metadata": {},
     "output_type": "display_data"
    },
    {
     "name": "stdout",
     "output_type": "stream",
     "text": [
      "\n"
     ]
    },
    {
     "data": {
      "application/vnd.jupyter.widget-view+json": {
       "model_id": "db9fd68666b64e6bab1167f4f34e895f",
       "version_major": 2,
       "version_minor": 0
      },
      "text/plain": [
       "HBox(children=(FloatProgress(value=0.0, description='Prediction', max=2.0, style=ProgressStyle(description_wid…"
      ]
     },
     "metadata": {},
     "output_type": "display_data"
    },
    {
     "name": "stdout",
     "output_type": "stream",
     "text": [
      "\n",
      "              precision    recall  f1-score   support\n",
      "\n",
      "           0       0.46      0.54      0.49        41\n",
      "           1       0.45      0.55      0.49        38\n",
      "           2       0.40      0.10      0.15        21\n",
      "\n",
      "    accuracy                           0.45       100\n",
      "   macro avg       0.44      0.39      0.38       100\n",
      "weighted avg       0.44      0.45      0.42       100\n",
      "\n",
      "\n",
      "----------------------------------------------------------------------------------------------------\n",
      "--------------------------models/fnc/initial_test_run/initial_test_run-1/---------------------------\n",
      "----------------------------------------------------------------------------------------------------\n"
     ]
    },
    {
     "data": {
      "application/vnd.jupyter.widget-view+json": {
       "model_id": "f2d17a54746e4adda3102bdf900427c7",
       "version_major": 2,
       "version_minor": 0
      },
      "text/plain": [
       "HBox(children=(FloatProgress(value=0.0, description='converting examples to features', style=ProgressStyle(des…"
      ]
     },
     "metadata": {},
     "output_type": "display_data"
    },
    {
     "name": "stdout",
     "output_type": "stream",
     "text": [
      "\n"
     ]
    },
    {
     "data": {
      "application/vnd.jupyter.widget-view+json": {
       "model_id": "5b6d6bfd33bb4e3e8f277b8f124e9b87",
       "version_major": 2,
       "version_minor": 0
      },
      "text/plain": [
       "HBox(children=(FloatProgress(value=0.0, description='Prediction', max=2.0, style=ProgressStyle(description_wid…"
      ]
     },
     "metadata": {},
     "output_type": "display_data"
    },
    {
     "name": "stdout",
     "output_type": "stream",
     "text": [
      "\n",
      "              precision    recall  f1-score   support\n",
      "\n",
      "           0       0.50      0.49      0.49        41\n",
      "           1       0.48      0.61      0.53        38\n",
      "           2       0.25      0.14      0.18        21\n",
      "\n",
      "    accuracy                           0.46       100\n",
      "   macro avg       0.41      0.41      0.40       100\n",
      "weighted avg       0.44      0.46      0.44       100\n",
      "\n",
      "\n",
      "----------------------------------------------------------------------------------------------------\n",
      "--------------------------models/fnc/initial_test_run/initial_test_run-2/---------------------------\n",
      "----------------------------------------------------------------------------------------------------\n"
     ]
    },
    {
     "data": {
      "application/vnd.jupyter.widget-view+json": {
       "model_id": "31295592761e418f9c7cf40155965093",
       "version_major": 2,
       "version_minor": 0
      },
      "text/plain": [
       "HBox(children=(FloatProgress(value=0.0, description='converting examples to features', style=ProgressStyle(des…"
      ]
     },
     "metadata": {},
     "output_type": "display_data"
    },
    {
     "name": "stdout",
     "output_type": "stream",
     "text": [
      "\n"
     ]
    },
    {
     "data": {
      "application/vnd.jupyter.widget-view+json": {
       "model_id": "94d2cdd078c647f3bb9e70830d283b0b",
       "version_major": 2,
       "version_minor": 0
      },
      "text/plain": [
       "HBox(children=(FloatProgress(value=0.0, description='Prediction', max=2.0, style=ProgressStyle(description_wid…"
      ]
     },
     "metadata": {},
     "output_type": "display_data"
    },
    {
     "name": "stdout",
     "output_type": "stream",
     "text": [
      "\n",
      "              precision    recall  f1-score   support\n",
      "\n",
      "           0       0.49      0.66      0.56        41\n",
      "           1       0.56      0.53      0.54        38\n",
      "           2       0.33      0.14      0.20        21\n",
      "\n",
      "    accuracy                           0.50       100\n",
      "   macro avg       0.46      0.44      0.43       100\n",
      "weighted avg       0.48      0.50      0.48       100\n",
      "\n",
      "\n",
      "----------------------------------------------------------------------------------------------------\n",
      "--------------------------models/fnc/initial_test_run/initial_test_run-3/---------------------------\n",
      "----------------------------------------------------------------------------------------------------\n"
     ]
    },
    {
     "data": {
      "application/vnd.jupyter.widget-view+json": {
       "model_id": "8fa2f4d8594a4847ab58e96fffb299be",
       "version_major": 2,
       "version_minor": 0
      },
      "text/plain": [
       "HBox(children=(FloatProgress(value=0.0, description='converting examples to features', style=ProgressStyle(des…"
      ]
     },
     "metadata": {},
     "output_type": "display_data"
    },
    {
     "name": "stdout",
     "output_type": "stream",
     "text": [
      "\n"
     ]
    },
    {
     "data": {
      "application/vnd.jupyter.widget-view+json": {
       "model_id": "be77cff70d9745bab274a6990d58a1f7",
       "version_major": 2,
       "version_minor": 0
      },
      "text/plain": [
       "HBox(children=(FloatProgress(value=0.0, description='Prediction', max=2.0, style=ProgressStyle(description_wid…"
      ]
     },
     "metadata": {},
     "output_type": "display_data"
    },
    {
     "name": "stdout",
     "output_type": "stream",
     "text": [
      "\n",
      "              precision    recall  f1-score   support\n",
      "\n",
      "           0       0.57      0.66      0.61        41\n",
      "           1       0.54      0.55      0.55        38\n",
      "           2       0.29      0.19      0.23        21\n",
      "\n",
      "    accuracy                           0.52       100\n",
      "   macro avg       0.47      0.47      0.46       100\n",
      "weighted avg       0.50      0.52      0.51       100\n",
      "\n",
      "\n",
      "----------------------------------------------------------------------------------------------------\n",
      "--------------------------models/fnc/initial_test_run/initial_test_run-4/---------------------------\n",
      "----------------------------------------------------------------------------------------------------\n"
     ]
    },
    {
     "data": {
      "application/vnd.jupyter.widget-view+json": {
       "model_id": "89335cc3b2d1407fbc8be0b0e163dca3",
       "version_major": 2,
       "version_minor": 0
      },
      "text/plain": [
       "HBox(children=(FloatProgress(value=0.0, description='converting examples to features', style=ProgressStyle(des…"
      ]
     },
     "metadata": {},
     "output_type": "display_data"
    },
    {
     "name": "stdout",
     "output_type": "stream",
     "text": [
      "\n"
     ]
    },
    {
     "data": {
      "application/vnd.jupyter.widget-view+json": {
       "model_id": "ca17d10dab39454093d18fafdb1ebf0a",
       "version_major": 2,
       "version_minor": 0
      },
      "text/plain": [
       "HBox(children=(FloatProgress(value=0.0, description='Prediction', max=2.0, style=ProgressStyle(description_wid…"
      ]
     },
     "metadata": {},
     "output_type": "display_data"
    },
    {
     "name": "stdout",
     "output_type": "stream",
     "text": [
      "\n",
      "              precision    recall  f1-score   support\n",
      "\n",
      "           0       0.59      0.73      0.65        41\n",
      "           1       0.49      0.55      0.52        38\n",
      "           2       0.00      0.00      0.00        21\n",
      "\n",
      "    accuracy                           0.51       100\n",
      "   macro avg       0.36      0.43      0.39       100\n",
      "weighted avg       0.43      0.51      0.46       100\n",
      "\n",
      "\n",
      "----------------------------------------------------------------------------------------------------\n",
      "--------------------------models/fnc/initial_test_run/initial_test_run-5/---------------------------\n",
      "----------------------------------------------------------------------------------------------------\n"
     ]
    },
    {
     "data": {
      "application/vnd.jupyter.widget-view+json": {
       "model_id": "1650644c1f0c434d8281906ecc227209",
       "version_major": 2,
       "version_minor": 0
      },
      "text/plain": [
       "HBox(children=(FloatProgress(value=0.0, description='converting examples to features', style=ProgressStyle(des…"
      ]
     },
     "metadata": {},
     "output_type": "display_data"
    },
    {
     "name": "stdout",
     "output_type": "stream",
     "text": [
      "\n"
     ]
    },
    {
     "data": {
      "application/vnd.jupyter.widget-view+json": {
       "model_id": "1641a290fc8c4834815f8a95dab05e19",
       "version_major": 2,
       "version_minor": 0
      },
      "text/plain": [
       "HBox(children=(FloatProgress(value=0.0, description='Prediction', max=2.0, style=ProgressStyle(description_wid…"
      ]
     },
     "metadata": {},
     "output_type": "display_data"
    },
    {
     "name": "stdout",
     "output_type": "stream",
     "text": [
      "\n",
      "              precision    recall  f1-score   support\n",
      "\n",
      "           0       0.53      0.61      0.57        41\n",
      "           1       0.47      0.50      0.49        38\n",
      "           2       0.46      0.29      0.35        21\n",
      "\n",
      "    accuracy                           0.50       100\n",
      "   macro avg       0.49      0.47      0.47       100\n",
      "weighted avg       0.50      0.50      0.49       100\n",
      "\n",
      "\n"
     ]
    },
    {
     "data": {
      "application/vnd.jupyter.widget-view+json": {
       "model_id": "5e2e1e7d8e4a411ea764de343499a538",
       "version_major": 2,
       "version_minor": 0
      },
      "text/plain": [
       "HBox(children=(FloatProgress(value=0.0, description='generating examples', style=ProgressStyle(description_wid…"
      ]
     },
     "metadata": {},
     "output_type": "display_data"
    },
    {
     "name": "stdout",
     "output_type": "stream",
     "text": [
      "\n",
      "----------------------------------------------------------------------------------------------------\n",
      "---------------------models/phase2/single-claim-claimant/bert-base-cased-128-0/---------------------\n",
      "----------------------------------------------------------------------------------------------------\n"
     ]
    },
    {
     "data": {
      "application/vnd.jupyter.widget-view+json": {
       "model_id": "0b26aebc0ad441ebaec1c05ee9d2d23d",
       "version_major": 2,
       "version_minor": 0
      },
      "text/plain": [
       "HBox(children=(FloatProgress(value=0.0, description='converting examples to features', style=ProgressStyle(des…"
      ]
     },
     "metadata": {},
     "output_type": "display_data"
    },
    {
     "name": "stdout",
     "output_type": "stream",
     "text": [
      "\n"
     ]
    },
    {
     "data": {
      "application/vnd.jupyter.widget-view+json": {
       "model_id": "6ed7c326771d43b6a5b7b4e58c61ded5",
       "version_major": 2,
       "version_minor": 0
      },
      "text/plain": [
       "HBox(children=(FloatProgress(value=0.0, description='Prediction', max=2.0, style=ProgressStyle(description_wid…"
      ]
     },
     "metadata": {},
     "output_type": "display_data"
    },
    {
     "name": "stdout",
     "output_type": "stream",
     "text": [
      "\n",
      "              precision    recall  f1-score   support\n",
      "\n",
      "           0       0.51      0.78      0.62        41\n",
      "           1       0.56      0.50      0.53        38\n",
      "           2       1.00      0.14      0.25        21\n",
      "\n",
      "    accuracy                           0.54       100\n",
      "   macro avg       0.69      0.47      0.46       100\n",
      "weighted avg       0.63      0.54      0.51       100\n",
      "\n",
      "\n",
      "----------------------------------------------------------------------------------------------------\n",
      "----------------models/phase2/single-claim-claimant/bert-base-cased-combined-128-2/-----------------\n",
      "----------------------------------------------------------------------------------------------------\n"
     ]
    },
    {
     "data": {
      "application/vnd.jupyter.widget-view+json": {
       "model_id": "6a485b3ef6df402a9adb83d803360305",
       "version_major": 2,
       "version_minor": 0
      },
      "text/plain": [
       "HBox(children=(FloatProgress(value=0.0, description='converting examples to features', style=ProgressStyle(des…"
      ]
     },
     "metadata": {},
     "output_type": "display_data"
    },
    {
     "name": "stdout",
     "output_type": "stream",
     "text": [
      "\n"
     ]
    },
    {
     "data": {
      "application/vnd.jupyter.widget-view+json": {
       "model_id": "ca9196f2152745a3811aff15b34bd70e",
       "version_major": 2,
       "version_minor": 0
      },
      "text/plain": [
       "HBox(children=(FloatProgress(value=0.0, description='Prediction', max=2.0, style=ProgressStyle(description_wid…"
      ]
     },
     "metadata": {},
     "output_type": "display_data"
    },
    {
     "name": "stdout",
     "output_type": "stream",
     "text": [
      "\n",
      "              precision    recall  f1-score   support\n",
      "\n",
      "           0       0.57      0.66      0.61        41\n",
      "           1       0.49      0.58      0.53        38\n",
      "           2       0.25      0.10      0.14        21\n",
      "\n",
      "    accuracy                           0.51       100\n",
      "   macro avg       0.44      0.44      0.43       100\n",
      "weighted avg       0.47      0.51      0.48       100\n",
      "\n",
      "\n"
     ]
    },
    {
     "data": {
      "application/vnd.jupyter.widget-view+json": {
       "model_id": "b2559ef4a85c48d1907b899882b8cc60",
       "version_major": 2,
       "version_minor": 0
      },
      "text/plain": [
       "HBox(children=(FloatProgress(value=0.0, description='generating examples', style=ProgressStyle(description_wid…"
      ]
     },
     "metadata": {},
     "output_type": "display_data"
    },
    {
     "name": "stdout",
     "output_type": "stream",
     "text": [
      "\n",
      "----------------------------------------------------------------------------------------------------\n",
      "--------------models/phase2/single-claim-claimant-date/bert-base-cased-combined-128-0/--------------\n",
      "----------------------------------------------------------------------------------------------------\n"
     ]
    },
    {
     "data": {
      "application/vnd.jupyter.widget-view+json": {
       "model_id": "47007aee8479423583914a5833371634",
       "version_major": 2,
       "version_minor": 0
      },
      "text/plain": [
       "HBox(children=(FloatProgress(value=0.0, description='converting examples to features', style=ProgressStyle(des…"
      ]
     },
     "metadata": {},
     "output_type": "display_data"
    },
    {
     "name": "stdout",
     "output_type": "stream",
     "text": [
      "\n"
     ]
    },
    {
     "data": {
      "application/vnd.jupyter.widget-view+json": {
       "model_id": "5fad9d31084546ba8037267af0259618",
       "version_major": 2,
       "version_minor": 0
      },
      "text/plain": [
       "HBox(children=(FloatProgress(value=0.0, description='Prediction', max=2.0, style=ProgressStyle(description_wid…"
      ]
     },
     "metadata": {},
     "output_type": "display_data"
    },
    {
     "name": "stdout",
     "output_type": "stream",
     "text": [
      "\n",
      "              precision    recall  f1-score   support\n",
      "\n",
      "           0       0.57      0.73      0.64        41\n",
      "           1       0.51      0.53      0.52        38\n",
      "           2       0.38      0.14      0.21        21\n",
      "\n",
      "    accuracy                           0.53       100\n",
      "   macro avg       0.48      0.47      0.45       100\n",
      "weighted avg       0.51      0.53      0.50       100\n",
      "\n",
      "\n",
      "----------------------------------------------------------------------------------------------------\n",
      "---------------models/phase2/single-claim-claimant-date/roberta-large-combined-128-0/---------------\n",
      "----------------------------------------------------------------------------------------------------\n"
     ]
    },
    {
     "data": {
      "application/vnd.jupyter.widget-view+json": {
       "model_id": "bbf6fe41d7d04ac599ad9e1268deb62a",
       "version_major": 2,
       "version_minor": 0
      },
      "text/plain": [
       "HBox(children=(FloatProgress(value=0.0, description='converting examples to features', style=ProgressStyle(des…"
      ]
     },
     "metadata": {},
     "output_type": "display_data"
    },
    {
     "name": "stdout",
     "output_type": "stream",
     "text": [
      "\n"
     ]
    },
    {
     "data": {
      "application/vnd.jupyter.widget-view+json": {
       "model_id": "bf3b0e45bf664c289d38256b2795cc1d",
       "version_major": 2,
       "version_minor": 0
      },
      "text/plain": [
       "HBox(children=(FloatProgress(value=0.0, description='Prediction', max=2.0, style=ProgressStyle(description_wid…"
      ]
     },
     "metadata": {},
     "output_type": "display_data"
    },
    {
     "name": "stdout",
     "output_type": "stream",
     "text": [
      "\n",
      "              precision    recall  f1-score   support\n",
      "\n",
      "           0       0.58      0.63      0.60        41\n",
      "           1       0.48      0.58      0.52        38\n",
      "           2       0.44      0.19      0.27        21\n",
      "\n",
      "    accuracy                           0.52       100\n",
      "   macro avg       0.50      0.47      0.47       100\n",
      "weighted avg       0.51      0.52      0.50       100\n",
      "\n",
      "\n",
      "----------------------------------------------------------------------------------------------------\n",
      "---------------models/phase2/single-claim-claimant-date/roberta-large-combined-128-1/---------------\n",
      "----------------------------------------------------------------------------------------------------\n"
     ]
    },
    {
     "data": {
      "application/vnd.jupyter.widget-view+json": {
       "model_id": "6be96f31f63a4b3bb6bdb60e1c24b6b9",
       "version_major": 2,
       "version_minor": 0
      },
      "text/plain": [
       "HBox(children=(FloatProgress(value=0.0, description='converting examples to features', style=ProgressStyle(des…"
      ]
     },
     "metadata": {},
     "output_type": "display_data"
    },
    {
     "name": "stdout",
     "output_type": "stream",
     "text": [
      "\n"
     ]
    },
    {
     "data": {
      "application/vnd.jupyter.widget-view+json": {
       "model_id": "925265b61fdb4c10b8660f40ee312f96",
       "version_major": 2,
       "version_minor": 0
      },
      "text/plain": [
       "HBox(children=(FloatProgress(value=0.0, description='Prediction', max=2.0, style=ProgressStyle(description_wid…"
      ]
     },
     "metadata": {},
     "output_type": "display_data"
    },
    {
     "name": "stdout",
     "output_type": "stream",
     "text": [
      "\n",
      "              precision    recall  f1-score   support\n",
      "\n",
      "           0       0.60      0.73      0.66        41\n",
      "           1       0.52      0.58      0.55        38\n",
      "           2       0.50      0.19      0.28        21\n",
      "\n",
      "    accuracy                           0.56       100\n",
      "   macro avg       0.54      0.50      0.50       100\n",
      "weighted avg       0.55      0.56      0.54       100\n",
      "\n",
      "\n",
      "----------------------------------------------------------------------------------------------------\n",
      "---------------models/phase2/single-claim-claimant-date/roberta-large-combined-128-2/---------------\n",
      "----------------------------------------------------------------------------------------------------\n"
     ]
    },
    {
     "data": {
      "application/vnd.jupyter.widget-view+json": {
       "model_id": "f474d71b9f904d179ab711c0d068211d",
       "version_major": 2,
       "version_minor": 0
      },
      "text/plain": [
       "HBox(children=(FloatProgress(value=0.0, description='converting examples to features', style=ProgressStyle(des…"
      ]
     },
     "metadata": {},
     "output_type": "display_data"
    },
    {
     "name": "stdout",
     "output_type": "stream",
     "text": [
      "\n"
     ]
    },
    {
     "data": {
      "application/vnd.jupyter.widget-view+json": {
       "model_id": "2f208f96405543f7b84317b0128dfc10",
       "version_major": 2,
       "version_minor": 0
      },
      "text/plain": [
       "HBox(children=(FloatProgress(value=0.0, description='Prediction', max=2.0, style=ProgressStyle(description_wid…"
      ]
     },
     "metadata": {},
     "output_type": "display_data"
    },
    {
     "name": "stdout",
     "output_type": "stream",
     "text": [
      "\n",
      "              precision    recall  f1-score   support\n",
      "\n",
      "           0       0.62      0.76      0.68        41\n",
      "           1       0.54      0.58      0.56        38\n",
      "           2       0.44      0.19      0.27        21\n",
      "\n",
      "    accuracy                           0.57       100\n",
      "   macro avg       0.53      0.51      0.50       100\n",
      "weighted avg       0.55      0.57      0.55       100\n",
      "\n",
      "\n"
     ]
    }
   ],
   "source": [
    "main(Phase2TrialDataset.from_raw())"
   ]
  },
  {
   "cell_type": "markdown",
   "metadata": {},
   "source": [
    "# validation results"
   ]
  },
  {
   "cell_type": "code",
   "execution_count": 40,
   "metadata": {},
   "outputs": [
    {
     "data": {
      "application/vnd.jupyter.widget-view+json": {
       "model_id": "28de26a815114d4fb961ae212b7e57a0",
       "version_major": 2,
       "version_minor": 0
      },
      "text/plain": [
       "HBox(children=(FloatProgress(value=0.0, description='Phase2ValidationDataset to claims', max=500.0, style=Prog…"
      ]
     },
     "metadata": {},
     "output_type": "display_data"
    },
    {
     "name": "stdout",
     "output_type": "stream",
     "text": [
      "\n"
     ]
    },
    {
     "data": {
      "application/vnd.jupyter.widget-view+json": {
       "model_id": "013cc8ca06694d4abec7d6bbb8ceab5e",
       "version_major": 2,
       "version_minor": 0
      },
      "text/plain": [
       "HBox(children=(FloatProgress(value=0.0, description='generating examples', max=500.0, style=ProgressStyle(desc…"
      ]
     },
     "metadata": {},
     "output_type": "display_data"
    },
    {
     "name": "stdout",
     "output_type": "stream",
     "text": [
      "\n",
      "----------------------------------------------------------------------------------------------------\n",
      "-------models/fnc/combined_dataset_first_probe/combined_dataset_first_probe-0/checkpoint-1000-------\n",
      "----------------------------------------------------------------------------------------------------\n"
     ]
    },
    {
     "data": {
      "application/vnd.jupyter.widget-view+json": {
       "model_id": "0043067660ec407cbb5426396a51b7c4",
       "version_major": 2,
       "version_minor": 0
      },
      "text/plain": [
       "HBox(children=(FloatProgress(value=0.0, description='converting examples to features', max=500.0, style=Progre…"
      ]
     },
     "metadata": {},
     "output_type": "display_data"
    },
    {
     "name": "stdout",
     "output_type": "stream",
     "text": [
      "\n"
     ]
    },
    {
     "data": {
      "application/vnd.jupyter.widget-view+json": {
       "model_id": "558e64d5de674c94a35803f4aa87ca3c",
       "version_major": 2,
       "version_minor": 0
      },
      "text/plain": [
       "HBox(children=(FloatProgress(value=0.0, description='Prediction', max=8.0, style=ProgressStyle(description_wid…"
      ]
     },
     "metadata": {},
     "output_type": "display_data"
    },
    {
     "name": "stderr",
     "output_type": "stream",
     "text": [
      "/home/jay/miniconda3/lib/python3.7/site-packages/torch/nn/parallel/_functions.py:61: UserWarning: Was asked to gather along dimension 0, but all input tensors were scalars; will instead unsqueeze and return a vector.\n",
      "  warnings.warn('Was asked to gather along dimension 0, but all '\n"
     ]
    },
    {
     "name": "stdout",
     "output_type": "stream",
     "text": [
      "\n",
      "              precision    recall  f1-score   support\n",
      "\n",
      "           0       0.56      0.97      0.71       273\n",
      "           1       0.65      0.07      0.12       166\n",
      "           2       0.00      0.00      0.00        61\n",
      "\n",
      "    accuracy                           0.55       500\n",
      "   macro avg       0.40      0.35      0.28       500\n",
      "weighted avg       0.52      0.55      0.43       500\n",
      "\n",
      "\n",
      "----------------------------------------------------------------------------------------------------\n",
      "-------models/fnc/combined_dataset_first_probe/combined_dataset_first_probe-0/checkpoint-2000-------\n",
      "----------------------------------------------------------------------------------------------------\n"
     ]
    },
    {
     "data": {
      "application/vnd.jupyter.widget-view+json": {
       "model_id": "387d9b5dbae0408c90deea8ce645d758",
       "version_major": 2,
       "version_minor": 0
      },
      "text/plain": [
       "HBox(children=(FloatProgress(value=0.0, description='converting examples to features', max=500.0, style=Progre…"
      ]
     },
     "metadata": {},
     "output_type": "display_data"
    },
    {
     "name": "stdout",
     "output_type": "stream",
     "text": [
      "\n"
     ]
    },
    {
     "data": {
      "application/vnd.jupyter.widget-view+json": {
       "model_id": "1d9c4b8829de4110bd6ad74195a29bb1",
       "version_major": 2,
       "version_minor": 0
      },
      "text/plain": [
       "HBox(children=(FloatProgress(value=0.0, description='Prediction', max=8.0, style=ProgressStyle(description_wid…"
      ]
     },
     "metadata": {},
     "output_type": "display_data"
    },
    {
     "name": "stdout",
     "output_type": "stream",
     "text": [
      "\n",
      "              precision    recall  f1-score   support\n",
      "\n",
      "           0       0.60      0.89      0.71       273\n",
      "           1       0.56      0.24      0.34       166\n",
      "           2       0.35      0.13      0.19        61\n",
      "\n",
      "    accuracy                           0.58       500\n",
      "   macro avg       0.50      0.42      0.41       500\n",
      "weighted avg       0.55      0.58      0.52       500\n",
      "\n",
      "\n",
      "----------------------------------------------------------------------------------------------------\n",
      "-------models/fnc/combined_dataset_first_probe/combined_dataset_first_probe-0/checkpoint-3000-------\n",
      "----------------------------------------------------------------------------------------------------\n"
     ]
    },
    {
     "data": {
      "application/vnd.jupyter.widget-view+json": {
       "model_id": "1d6c1811706849688411b469dfd5a19b",
       "version_major": 2,
       "version_minor": 0
      },
      "text/plain": [
       "HBox(children=(FloatProgress(value=0.0, description='converting examples to features', max=500.0, style=Progre…"
      ]
     },
     "metadata": {},
     "output_type": "display_data"
    },
    {
     "name": "stdout",
     "output_type": "stream",
     "text": [
      "\n"
     ]
    },
    {
     "data": {
      "application/vnd.jupyter.widget-view+json": {
       "model_id": "0239ae81695144d6a5701e4db41a9298",
       "version_major": 2,
       "version_minor": 0
      },
      "text/plain": [
       "HBox(children=(FloatProgress(value=0.0, description='Prediction', max=8.0, style=ProgressStyle(description_wid…"
      ]
     },
     "metadata": {},
     "output_type": "display_data"
    },
    {
     "name": "stdout",
     "output_type": "stream",
     "text": [
      "\n",
      "              precision    recall  f1-score   support\n",
      "\n",
      "           0       0.63      0.79      0.70       273\n",
      "           1       0.52      0.40      0.46       166\n",
      "           2       0.44      0.20      0.27        61\n",
      "\n",
      "    accuracy                           0.59       500\n",
      "   macro avg       0.53      0.46      0.48       500\n",
      "weighted avg       0.57      0.59      0.57       500\n",
      "\n",
      "\n",
      "----------------------------------------------------------------------------------------------------\n",
      "-------models/fnc/combined_dataset_first_probe/combined_dataset_first_probe-0/checkpoint-4000-------\n",
      "----------------------------------------------------------------------------------------------------\n"
     ]
    },
    {
     "data": {
      "application/vnd.jupyter.widget-view+json": {
       "model_id": "a6fa051df7e94f2c8a4bbe851cbe614c",
       "version_major": 2,
       "version_minor": 0
      },
      "text/plain": [
       "HBox(children=(FloatProgress(value=0.0, description='converting examples to features', max=500.0, style=Progre…"
      ]
     },
     "metadata": {},
     "output_type": "display_data"
    },
    {
     "name": "stdout",
     "output_type": "stream",
     "text": [
      "\n"
     ]
    },
    {
     "data": {
      "application/vnd.jupyter.widget-view+json": {
       "model_id": "899f58d334bc49e68f15bc051b506631",
       "version_major": 2,
       "version_minor": 0
      },
      "text/plain": [
       "HBox(children=(FloatProgress(value=0.0, description='Prediction', max=8.0, style=ProgressStyle(description_wid…"
      ]
     },
     "metadata": {},
     "output_type": "display_data"
    },
    {
     "name": "stdout",
     "output_type": "stream",
     "text": [
      "\n",
      "              precision    recall  f1-score   support\n",
      "\n",
      "           0       0.65      0.71      0.68       273\n",
      "           1       0.48      0.46      0.47       166\n",
      "           2       0.44      0.33      0.38        61\n",
      "\n",
      "    accuracy                           0.58       500\n",
      "   macro avg       0.53      0.50      0.51       500\n",
      "weighted avg       0.57      0.58      0.57       500\n",
      "\n",
      "\n",
      "----------------------------------------------------------------------------------------------------\n",
      "--------------models/fnc/combined_dataset_first_probe/combined_dataset_first_probe-0/---------------\n",
      "----------------------------------------------------------------------------------------------------\n"
     ]
    },
    {
     "data": {
      "application/vnd.jupyter.widget-view+json": {
       "model_id": "02406ded8c6d44949e2d141f9750a60f",
       "version_major": 2,
       "version_minor": 0
      },
      "text/plain": [
       "HBox(children=(FloatProgress(value=0.0, description='converting examples to features', max=500.0, style=Progre…"
      ]
     },
     "metadata": {},
     "output_type": "display_data"
    },
    {
     "name": "stdout",
     "output_type": "stream",
     "text": [
      "\n"
     ]
    },
    {
     "data": {
      "application/vnd.jupyter.widget-view+json": {
       "model_id": "d2caeb362926487faa6617604918c76f",
       "version_major": 2,
       "version_minor": 0
      },
      "text/plain": [
       "HBox(children=(FloatProgress(value=0.0, description='Prediction', max=8.0, style=ProgressStyle(description_wid…"
      ]
     },
     "metadata": {},
     "output_type": "display_data"
    },
    {
     "name": "stdout",
     "output_type": "stream",
     "text": [
      "\n",
      "              precision    recall  f1-score   support\n",
      "\n",
      "           0       0.66      0.77      0.71       273\n",
      "           1       0.53      0.43      0.48       166\n",
      "           2       0.48      0.34      0.40        61\n",
      "\n",
      "    accuracy                           0.60       500\n",
      "   macro avg       0.55      0.51      0.53       500\n",
      "weighted avg       0.59      0.60      0.59       500\n",
      "\n",
      "\n"
     ]
    },
    {
     "data": {
      "application/vnd.jupyter.widget-view+json": {
       "model_id": "4a2a54c40ce84b0f94f9a57593872256",
       "version_major": 2,
       "version_minor": 0
      },
      "text/plain": [
       "HBox(children=(FloatProgress(value=0.0, description='generating examples', max=500.0, style=ProgressStyle(desc…"
      ]
     },
     "metadata": {},
     "output_type": "display_data"
    },
    {
     "name": "stdout",
     "output_type": "stream",
     "text": [
      "\n",
      "----------------------------------------------------------------------------------------------------\n",
      "--------------------------models/fnc/initial_test_run/initial_test_run-0/---------------------------\n",
      "----------------------------------------------------------------------------------------------------\n"
     ]
    },
    {
     "data": {
      "application/vnd.jupyter.widget-view+json": {
       "model_id": "028682dc5a0e4c149a7920d62c632e89",
       "version_major": 2,
       "version_minor": 0
      },
      "text/plain": [
       "HBox(children=(FloatProgress(value=0.0, description='converting examples to features', max=500.0, style=Progre…"
      ]
     },
     "metadata": {},
     "output_type": "display_data"
    },
    {
     "name": "stdout",
     "output_type": "stream",
     "text": [
      "\n"
     ]
    },
    {
     "data": {
      "application/vnd.jupyter.widget-view+json": {
       "model_id": "32332b9007f742afb82187a2873457c3",
       "version_major": 2,
       "version_minor": 0
      },
      "text/plain": [
       "HBox(children=(FloatProgress(value=0.0, description='Prediction', max=8.0, style=ProgressStyle(description_wid…"
      ]
     },
     "metadata": {},
     "output_type": "display_data"
    },
    {
     "name": "stdout",
     "output_type": "stream",
     "text": [
      "\n",
      "              precision    recall  f1-score   support\n",
      "\n",
      "           0       0.61      0.73      0.66       273\n",
      "           1       0.48      0.48      0.48       166\n",
      "           2       0.57      0.07      0.12        61\n",
      "\n",
      "    accuracy                           0.57       500\n",
      "   macro avg       0.55      0.42      0.42       500\n",
      "weighted avg       0.56      0.57      0.54       500\n",
      "\n",
      "\n",
      "----------------------------------------------------------------------------------------------------\n",
      "--------------------------models/fnc/initial_test_run/initial_test_run-1/---------------------------\n",
      "----------------------------------------------------------------------------------------------------\n"
     ]
    },
    {
     "data": {
      "application/vnd.jupyter.widget-view+json": {
       "model_id": "6ec52518e53148f981b8329a325b1491",
       "version_major": 2,
       "version_minor": 0
      },
      "text/plain": [
       "HBox(children=(FloatProgress(value=0.0, description='converting examples to features', max=500.0, style=Progre…"
      ]
     },
     "metadata": {},
     "output_type": "display_data"
    },
    {
     "name": "stdout",
     "output_type": "stream",
     "text": [
      "\n"
     ]
    },
    {
     "data": {
      "application/vnd.jupyter.widget-view+json": {
       "model_id": "235e7f7ecc884b9eb4d96d535cae924f",
       "version_major": 2,
       "version_minor": 0
      },
      "text/plain": [
       "HBox(children=(FloatProgress(value=0.0, description='Prediction', max=8.0, style=ProgressStyle(description_wid…"
      ]
     },
     "metadata": {},
     "output_type": "display_data"
    },
    {
     "name": "stdout",
     "output_type": "stream",
     "text": [
      "\n",
      "              precision    recall  f1-score   support\n",
      "\n",
      "           0       0.60      0.63      0.62       273\n",
      "           1       0.43      0.47      0.45       166\n",
      "           2       0.27      0.15      0.19        61\n",
      "\n",
      "    accuracy                           0.52       500\n",
      "   macro avg       0.44      0.42      0.42       500\n",
      "weighted avg       0.51      0.52      0.51       500\n",
      "\n",
      "\n",
      "----------------------------------------------------------------------------------------------------\n",
      "--------------------------models/fnc/initial_test_run/initial_test_run-2/---------------------------\n",
      "----------------------------------------------------------------------------------------------------\n"
     ]
    },
    {
     "data": {
      "application/vnd.jupyter.widget-view+json": {
       "model_id": "7e0441111f7241e2b26213f62cdd29f6",
       "version_major": 2,
       "version_minor": 0
      },
      "text/plain": [
       "HBox(children=(FloatProgress(value=0.0, description='converting examples to features', max=500.0, style=Progre…"
      ]
     },
     "metadata": {},
     "output_type": "display_data"
    },
    {
     "name": "stdout",
     "output_type": "stream",
     "text": [
      "\n"
     ]
    },
    {
     "data": {
      "application/vnd.jupyter.widget-view+json": {
       "model_id": "3a784d7c44d24d04a993f92b85a9bd4a",
       "version_major": 2,
       "version_minor": 0
      },
      "text/plain": [
       "HBox(children=(FloatProgress(value=0.0, description='Prediction', max=8.0, style=ProgressStyle(description_wid…"
      ]
     },
     "metadata": {},
     "output_type": "display_data"
    },
    {
     "name": "stdout",
     "output_type": "stream",
     "text": [
      "\n",
      "              precision    recall  f1-score   support\n",
      "\n",
      "           0       0.61      0.69      0.65       273\n",
      "           1       0.45      0.46      0.46       166\n",
      "           2       0.25      0.08      0.12        61\n",
      "\n",
      "    accuracy                           0.54       500\n",
      "   macro avg       0.44      0.41      0.41       500\n",
      "weighted avg       0.51      0.54      0.52       500\n",
      "\n",
      "\n",
      "----------------------------------------------------------------------------------------------------\n",
      "--------------------------models/fnc/initial_test_run/initial_test_run-3/---------------------------\n",
      "----------------------------------------------------------------------------------------------------\n"
     ]
    },
    {
     "data": {
      "application/vnd.jupyter.widget-view+json": {
       "model_id": "b9b53d7fe3a84410bc2c37084c3248ea",
       "version_major": 2,
       "version_minor": 0
      },
      "text/plain": [
       "HBox(children=(FloatProgress(value=0.0, description='converting examples to features', max=500.0, style=Progre…"
      ]
     },
     "metadata": {},
     "output_type": "display_data"
    },
    {
     "name": "stdout",
     "output_type": "stream",
     "text": [
      "\n"
     ]
    },
    {
     "data": {
      "application/vnd.jupyter.widget-view+json": {
       "model_id": "20e03256758642e4bbdf0c792dd82b10",
       "version_major": 2,
       "version_minor": 0
      },
      "text/plain": [
       "HBox(children=(FloatProgress(value=0.0, description='Prediction', max=8.0, style=ProgressStyle(description_wid…"
      ]
     },
     "metadata": {},
     "output_type": "display_data"
    },
    {
     "name": "stdout",
     "output_type": "stream",
     "text": [
      "\n",
      "              precision    recall  f1-score   support\n",
      "\n",
      "           0       0.65      0.81      0.72       273\n",
      "           1       0.54      0.45      0.49       166\n",
      "           2       0.25      0.10      0.14        61\n",
      "\n",
      "    accuracy                           0.60       500\n",
      "   macro avg       0.48      0.45      0.45       500\n",
      "weighted avg       0.57      0.60      0.57       500\n",
      "\n",
      "\n",
      "----------------------------------------------------------------------------------------------------\n",
      "--------------------------models/fnc/initial_test_run/initial_test_run-4/---------------------------\n",
      "----------------------------------------------------------------------------------------------------\n"
     ]
    },
    {
     "data": {
      "application/vnd.jupyter.widget-view+json": {
       "model_id": "c989d9079e684f2199bfde676191a618",
       "version_major": 2,
       "version_minor": 0
      },
      "text/plain": [
       "HBox(children=(FloatProgress(value=0.0, description='converting examples to features', max=500.0, style=Progre…"
      ]
     },
     "metadata": {},
     "output_type": "display_data"
    },
    {
     "name": "stdout",
     "output_type": "stream",
     "text": [
      "\n"
     ]
    },
    {
     "data": {
      "application/vnd.jupyter.widget-view+json": {
       "model_id": "927f6c62546d492caeb8c5f7dcf66cc6",
       "version_major": 2,
       "version_minor": 0
      },
      "text/plain": [
       "HBox(children=(FloatProgress(value=0.0, description='Prediction', max=8.0, style=ProgressStyle(description_wid…"
      ]
     },
     "metadata": {},
     "output_type": "display_data"
    },
    {
     "name": "stdout",
     "output_type": "stream",
     "text": [
      "\n",
      "              precision    recall  f1-score   support\n",
      "\n",
      "           0       0.58      0.71      0.64       273\n",
      "           1       0.39      0.36      0.37       166\n",
      "           2       0.13      0.03      0.05        61\n",
      "\n",
      "    accuracy                           0.51       500\n",
      "   macro avg       0.37      0.37      0.36       500\n",
      "weighted avg       0.46      0.51      0.48       500\n",
      "\n",
      "\n",
      "----------------------------------------------------------------------------------------------------\n",
      "--------------------------models/fnc/initial_test_run/initial_test_run-5/---------------------------\n",
      "----------------------------------------------------------------------------------------------------\n"
     ]
    },
    {
     "data": {
      "application/vnd.jupyter.widget-view+json": {
       "model_id": "8ff25e499e1d4bdda713bc4624f33106",
       "version_major": 2,
       "version_minor": 0
      },
      "text/plain": [
       "HBox(children=(FloatProgress(value=0.0, description='converting examples to features', max=500.0, style=Progre…"
      ]
     },
     "metadata": {},
     "output_type": "display_data"
    },
    {
     "name": "stdout",
     "output_type": "stream",
     "text": [
      "\n"
     ]
    },
    {
     "data": {
      "application/vnd.jupyter.widget-view+json": {
       "model_id": "a91307bce42d474b997413ee89af08e4",
       "version_major": 2,
       "version_minor": 0
      },
      "text/plain": [
       "HBox(children=(FloatProgress(value=0.0, description='Prediction', max=8.0, style=ProgressStyle(description_wid…"
      ]
     },
     "metadata": {},
     "output_type": "display_data"
    },
    {
     "name": "stdout",
     "output_type": "stream",
     "text": [
      "\n",
      "              precision    recall  f1-score   support\n",
      "\n",
      "           0       0.57      0.71      0.63       273\n",
      "           1       0.43      0.37      0.39       166\n",
      "           2       0.33      0.08      0.13        61\n",
      "\n",
      "    accuracy                           0.52       500\n",
      "   macro avg       0.44      0.39      0.39       500\n",
      "weighted avg       0.49      0.52      0.49       500\n",
      "\n",
      "\n"
     ]
    },
    {
     "data": {
      "application/vnd.jupyter.widget-view+json": {
       "model_id": "f696f869b27a420593b6dfe1ce044c65",
       "version_major": 2,
       "version_minor": 0
      },
      "text/plain": [
       "HBox(children=(FloatProgress(value=0.0, description='generating examples', max=500.0, style=ProgressStyle(desc…"
      ]
     },
     "metadata": {},
     "output_type": "display_data"
    },
    {
     "name": "stdout",
     "output_type": "stream",
     "text": [
      "\n",
      "----------------------------------------------------------------------------------------------------\n",
      "---------------------models/phase2/single-claim-claimant/bert-base-cased-128-0/---------------------\n",
      "----------------------------------------------------------------------------------------------------\n"
     ]
    },
    {
     "data": {
      "application/vnd.jupyter.widget-view+json": {
       "model_id": "f7b51b01f7154a77980ab474f3512f31",
       "version_major": 2,
       "version_minor": 0
      },
      "text/plain": [
       "HBox(children=(FloatProgress(value=0.0, description='converting examples to features', max=500.0, style=Progre…"
      ]
     },
     "metadata": {},
     "output_type": "display_data"
    },
    {
     "name": "stdout",
     "output_type": "stream",
     "text": [
      "\n"
     ]
    },
    {
     "data": {
      "application/vnd.jupyter.widget-view+json": {
       "model_id": "bc591aec8daf471d828e3804b2c53b5b",
       "version_major": 2,
       "version_minor": 0
      },
      "text/plain": [
       "HBox(children=(FloatProgress(value=0.0, description='Prediction', max=8.0, style=ProgressStyle(description_wid…"
      ]
     },
     "metadata": {},
     "output_type": "display_data"
    },
    {
     "name": "stdout",
     "output_type": "stream",
     "text": [
      "\n",
      "              precision    recall  f1-score   support\n",
      "\n",
      "           0       0.58      0.81      0.68       273\n",
      "           1       0.44      0.30      0.36       166\n",
      "           2       0.40      0.03      0.06        61\n",
      "\n",
      "    accuracy                           0.55       500\n",
      "   macro avg       0.47      0.38      0.36       500\n",
      "weighted avg       0.51      0.55      0.49       500\n",
      "\n",
      "\n",
      "----------------------------------------------------------------------------------------------------\n",
      "----------------models/phase2/single-claim-claimant/bert-base-cased-combined-128-2/-----------------\n",
      "----------------------------------------------------------------------------------------------------\n"
     ]
    },
    {
     "data": {
      "application/vnd.jupyter.widget-view+json": {
       "model_id": "d308ce0db8514dbabdff1efc202b6c71",
       "version_major": 2,
       "version_minor": 0
      },
      "text/plain": [
       "HBox(children=(FloatProgress(value=0.0, description='converting examples to features', max=500.0, style=Progre…"
      ]
     },
     "metadata": {},
     "output_type": "display_data"
    },
    {
     "name": "stdout",
     "output_type": "stream",
     "text": [
      "\n"
     ]
    },
    {
     "data": {
      "application/vnd.jupyter.widget-view+json": {
       "model_id": "d9703fff41ca4f4c9f447ba22e5d112a",
       "version_major": 2,
       "version_minor": 0
      },
      "text/plain": [
       "HBox(children=(FloatProgress(value=0.0, description='Prediction', max=8.0, style=ProgressStyle(description_wid…"
      ]
     },
     "metadata": {},
     "output_type": "display_data"
    },
    {
     "name": "stdout",
     "output_type": "stream",
     "text": [
      "\n",
      "              precision    recall  f1-score   support\n",
      "\n",
      "           0       0.63      0.73      0.67       273\n",
      "           1       0.43      0.42      0.43       166\n",
      "           2       0.62      0.21      0.32        61\n",
      "\n",
      "    accuracy                           0.56       500\n",
      "   macro avg       0.56      0.45      0.47       500\n",
      "weighted avg       0.56      0.56      0.55       500\n",
      "\n",
      "\n"
     ]
    },
    {
     "data": {
      "application/vnd.jupyter.widget-view+json": {
       "model_id": "490de44eda05433d877a4a01fc82b153",
       "version_major": 2,
       "version_minor": 0
      },
      "text/plain": [
       "HBox(children=(FloatProgress(value=0.0, description='generating examples', max=500.0, style=ProgressStyle(desc…"
      ]
     },
     "metadata": {},
     "output_type": "display_data"
    },
    {
     "name": "stdout",
     "output_type": "stream",
     "text": [
      "\n",
      "----------------------------------------------------------------------------------------------------\n",
      "--------------models/phase2/single-claim-claimant-date/bert-base-cased-combined-128-0/--------------\n",
      "----------------------------------------------------------------------------------------------------\n"
     ]
    },
    {
     "data": {
      "application/vnd.jupyter.widget-view+json": {
       "model_id": "47d363b424814bfa957cc6921a5c50c8",
       "version_major": 2,
       "version_minor": 0
      },
      "text/plain": [
       "HBox(children=(FloatProgress(value=0.0, description='converting examples to features', max=500.0, style=Progre…"
      ]
     },
     "metadata": {},
     "output_type": "display_data"
    },
    {
     "name": "stdout",
     "output_type": "stream",
     "text": [
      "\n"
     ]
    },
    {
     "data": {
      "application/vnd.jupyter.widget-view+json": {
       "model_id": "87032f3fc7314ba49630e4ed209a644a",
       "version_major": 2,
       "version_minor": 0
      },
      "text/plain": [
       "HBox(children=(FloatProgress(value=0.0, description='Prediction', max=8.0, style=ProgressStyle(description_wid…"
      ]
     },
     "metadata": {},
     "output_type": "display_data"
    },
    {
     "name": "stdout",
     "output_type": "stream",
     "text": [
      "\n",
      "              precision    recall  f1-score   support\n",
      "\n",
      "           0       0.60      0.86      0.71       273\n",
      "           1       0.46      0.28      0.34       166\n",
      "           2       1.00      0.08      0.15        61\n",
      "\n",
      "    accuracy                           0.57       500\n",
      "   macro avg       0.68      0.41      0.40       500\n",
      "weighted avg       0.60      0.57      0.52       500\n",
      "\n",
      "\n",
      "----------------------------------------------------------------------------------------------------\n",
      "---------------models/phase2/single-claim-claimant-date/roberta-large-combined-128-0/---------------\n",
      "----------------------------------------------------------------------------------------------------\n"
     ]
    },
    {
     "data": {
      "application/vnd.jupyter.widget-view+json": {
       "model_id": "b7f58f4b7220461585c4675503a42dc1",
       "version_major": 2,
       "version_minor": 0
      },
      "text/plain": [
       "HBox(children=(FloatProgress(value=0.0, description='converting examples to features', max=500.0, style=Progre…"
      ]
     },
     "metadata": {},
     "output_type": "display_data"
    },
    {
     "name": "stdout",
     "output_type": "stream",
     "text": [
      "\n"
     ]
    },
    {
     "data": {
      "application/vnd.jupyter.widget-view+json": {
       "model_id": "0429787e76d5450db7ca3e22fe04a839",
       "version_major": 2,
       "version_minor": 0
      },
      "text/plain": [
       "HBox(children=(FloatProgress(value=0.0, description='Prediction', max=8.0, style=ProgressStyle(description_wid…"
      ]
     },
     "metadata": {},
     "output_type": "display_data"
    },
    {
     "name": "stdout",
     "output_type": "stream",
     "text": [
      "\n",
      "              precision    recall  f1-score   support\n",
      "\n",
      "           0       0.68      0.81      0.74       273\n",
      "           1       0.52      0.43      0.47       166\n",
      "           2       0.56      0.33      0.41        61\n",
      "\n",
      "    accuracy                           0.62       500\n",
      "   macro avg       0.58      0.52      0.54       500\n",
      "weighted avg       0.61      0.62      0.61       500\n",
      "\n",
      "\n",
      "----------------------------------------------------------------------------------------------------\n",
      "---------------models/phase2/single-claim-claimant-date/roberta-large-combined-128-1/---------------\n",
      "----------------------------------------------------------------------------------------------------\n"
     ]
    },
    {
     "data": {
      "application/vnd.jupyter.widget-view+json": {
       "model_id": "d013a587b7f54c28a7a5674d8bf63367",
       "version_major": 2,
       "version_minor": 0
      },
      "text/plain": [
       "HBox(children=(FloatProgress(value=0.0, description='converting examples to features', max=500.0, style=Progre…"
      ]
     },
     "metadata": {},
     "output_type": "display_data"
    },
    {
     "name": "stdout",
     "output_type": "stream",
     "text": [
      "\n"
     ]
    },
    {
     "data": {
      "application/vnd.jupyter.widget-view+json": {
       "model_id": "67e9ad4631ee45359e6c5dbd2a042b5d",
       "version_major": 2,
       "version_minor": 0
      },
      "text/plain": [
       "HBox(children=(FloatProgress(value=0.0, description='Prediction', max=8.0, style=ProgressStyle(description_wid…"
      ]
     },
     "metadata": {},
     "output_type": "display_data"
    },
    {
     "name": "stdout",
     "output_type": "stream",
     "text": [
      "\n",
      "              precision    recall  f1-score   support\n",
      "\n",
      "           0       0.66      0.80      0.72       273\n",
      "           1       0.50      0.43      0.46       166\n",
      "           2       0.68      0.31      0.43        61\n",
      "\n",
      "    accuracy                           0.62       500\n",
      "   macro avg       0.61      0.51      0.54       500\n",
      "weighted avg       0.61      0.62      0.60       500\n",
      "\n",
      "\n",
      "----------------------------------------------------------------------------------------------------\n",
      "---------------models/phase2/single-claim-claimant-date/roberta-large-combined-128-2/---------------\n",
      "----------------------------------------------------------------------------------------------------\n"
     ]
    },
    {
     "data": {
      "application/vnd.jupyter.widget-view+json": {
       "model_id": "09367c73d4dc4fa7bdaa62d9f45a0dc9",
       "version_major": 2,
       "version_minor": 0
      },
      "text/plain": [
       "HBox(children=(FloatProgress(value=0.0, description='converting examples to features', max=500.0, style=Progre…"
      ]
     },
     "metadata": {},
     "output_type": "display_data"
    },
    {
     "name": "stdout",
     "output_type": "stream",
     "text": [
      "\n"
     ]
    },
    {
     "data": {
      "application/vnd.jupyter.widget-view+json": {
       "model_id": "c62cf13cdcd74ee582d85427be8c1d93",
       "version_major": 2,
       "version_minor": 0
      },
      "text/plain": [
       "HBox(children=(FloatProgress(value=0.0, description='Prediction', max=8.0, style=ProgressStyle(description_wid…"
      ]
     },
     "metadata": {},
     "output_type": "display_data"
    },
    {
     "name": "stdout",
     "output_type": "stream",
     "text": [
      "\n",
      "              precision    recall  f1-score   support\n",
      "\n",
      "           0       0.68      0.78      0.73       273\n",
      "           1       0.52      0.44      0.48       166\n",
      "           2       0.54      0.41      0.47        61\n",
      "\n",
      "    accuracy                           0.62       500\n",
      "   macro avg       0.58      0.54      0.56       500\n",
      "weighted avg       0.61      0.62      0.61       500\n",
      "\n",
      "\n"
     ]
    }
   ],
   "source": [
    "main(Phase2ValidationDataset.from_raw())"
   ]
  },
  {
   "cell_type": "code",
   "execution_count": null,
   "metadata": {},
   "outputs": [],
   "source": []
  }
 ],
 "metadata": {
  "kernelspec": {
   "display_name": "Python 3",
   "language": "python",
   "name": "python3"
  },
  "language_info": {
   "codemirror_mode": {
    "name": "ipython",
    "version": 3
   },
   "file_extension": ".py",
   "mimetype": "text/x-python",
   "name": "python",
   "nbconvert_exporter": "python",
   "pygments_lexer": "ipython3",
   "version": "3.7.7"
  }
 },
 "nbformat": 4,
 "nbformat_minor": 4
}
