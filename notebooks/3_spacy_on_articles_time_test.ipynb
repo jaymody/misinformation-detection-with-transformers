{
 "cells": [
  {
   "cell_type": "markdown",
   "metadata": {},
   "source": [
    "# nlp time\n",
    "Tests time to run spacy on article hits (~30 per claim). In this case, we look at the time taken for 100 claims, which is about 3000 articles."
   ]
  },
  {
   "cell_type": "code",
   "execution_count": 1,
   "metadata": {},
   "outputs": [],
   "source": [
    "import pickle\n",
    "import spacy\n",
    "from tqdm import tqdm"
   ]
  },
  {
   "cell_type": "code",
   "execution_count": 2,
   "metadata": {},
   "outputs": [],
   "source": [
    "nlp = spacy.load(\"en_core_web_lg\")\n",
    "with open(\"data/phase2-validation/processed/responses.pkl\", \"rb\") as fi:\n",
    "    responses = pickle.load(fi)"
   ]
  },
  {
   "cell_type": "code",
   "execution_count": 3,
   "metadata": {},
   "outputs": [
    {
     "name": "stderr",
     "output_type": "stream",
     "text": [
      "100%|██████████| 100/100 [04:53<00:00,  2.94s/it]\n"
     ]
    }
   ],
   "source": [
    "# only sentence tokenizer and vectors\n",
    "# time taken = ~20 seconds\n",
    "for res in tqdm(responses[:100]):\n",
    "    _ = [nlp(hit[\"article\"].content, disable=[\"textcat\", \"tagger\", \"ner\"]) for hit in res[\"res\"][\"hits\"][\"hits\"]]"
   ]
  },
  {
   "cell_type": "markdown",
   "metadata": {},
   "source": [
    "# similarity time\n",
    "Now we're going to test how long it takes to find the n most relevant sentences for a claim given it's top 2 it's top two related articles."
   ]
  },
  {
   "cell_type": "code",
   "execution_count": 4,
   "metadata": {},
   "outputs": [],
   "source": [
    "import heapq\n",
    "from valerie.preprocessing import clean_text, extract_words_from_url"
   ]
  },
  {
   "cell_type": "code",
   "execution_count": 5,
   "metadata": {},
   "outputs": [],
   "source": [
    "def create_text_a(claim):\n",
    "    text_a = claim.claim\n",
    "    text_a += \" \"\n",
    "    text_a += claim.claimant if claim.claimant else \"no claimant\"\n",
    "    text_a += \" \"\n",
    "    text_a += claim.date.split()[0].split(\"T\")[0] if claim.date else \"no date\"\n",
    "    return clean_text(text_a)\n",
    "\n",
    "def create_text_b(article):\n",
    "    text_b = \"\"\n",
    "    if article.source:\n",
    "        text_b += article.source + \". \"\n",
    "    if article.title:\n",
    "        text_b += article.title + \". \"\n",
    "    if article.url:\n",
    "        url_words = extract_words_from_url(article.url)\n",
    "        if url_words:\n",
    "            text_b += \" \".join(url_words) + \". \"\n",
    "    if article.content:\n",
    "        text_b += article.content\n",
    "    return clean_text(text_b)"
   ]
  },
  {
   "cell_type": "code",
   "execution_count": 6,
   "metadata": {},
   "outputs": [
    {
     "name": "stderr",
     "output_type": "stream",
     "text": [
      "  0%|          | 0/100 [00:00<?, ?it/s]/home/jay/miniconda3/lib/python3.7/site-packages/ipykernel_launcher.py:24: UserWarning: [W008] Evaluating Doc.similarity based on empty vectors.\n",
      "100%|██████████| 100/100 [00:27<00:00,  3.62it/s]\n"
     ]
    }
   ],
   "source": [
    "articles_dict = {}\n",
    "claims_dict = {}\n",
    "\n",
    "results = {}\n",
    "for res in tqdm(responses[:100]):\n",
    "    claim = res[\"claim\"]\n",
    "    claim.nlp = nlp(create_text_a(claim), disable=['parser', 'textcat', 'tagger', 'ner'])\n",
    "    claims_dict[claim.index] = claim\n",
    "    \n",
    "    top2_articles = []\n",
    "    for hit in res[\"res\"][\"hits\"][\"hits\"][:2]:\n",
    "        article = hit[\"article\"]\n",
    "        article.nlp = nlp(create_text_b(article), disable=['textcat', 'tagger', 'ner'])\n",
    "        articles_dict[article.index] = article\n",
    "        top2_articles.append(article)\n",
    "        \n",
    "    sentences = []\n",
    "    for article in top2_articles:\n",
    "        for sent in article.nlp.sents:\n",
    "            sent_nlp = nlp(sent.text, disable=[\"textcat\", \"tagger\", \"parser\", \"ner\"])\n",
    "            sentences.append({\n",
    "                \"article_index\": article.index,\n",
    "                \"sentence\": sent.text,\n",
    "                \"score\": sent_nlp.similarity(claim.nlp)\n",
    "            })\n",
    "    sentences = heapq.nlargest(5, sentences, key=lambda x: x[\"score\"])\n",
    "    results[claim.index] = sentences"
   ]
  },
  {
   "cell_type": "code",
   "execution_count": 17,
   "metadata": {},
   "outputs": [],
   "source": [
    "claim_idx = list(results.keys())[0]"
   ]
  },
  {
   "cell_type": "code",
   "execution_count": 18,
   "metadata": {},
   "outputs": [
    {
     "data": {
      "text/plain": [
       "{\n",
       "  \"id\": 383,\n",
       "  \"claim\": \"\\\"Huge! Results From Breaking Chloroquine Study Show 100% Cure Rate For Patients Infected With The Coronavirus.\\\"\",\n",
       "  \"claimant\": \"Facebook post\",\n",
       "  \"label\": 0,\n",
       "  \"date\": \"2020-03-19T00:00:00Z\",\n",
       "  \"related_articles\": {\n",
       "    \"Phase2ValidationDataset/3682.html\": \"https://www.teaparty.org/huge-results-from-breaking-chloroquine-study-show-100-cure-rate-for-patients-infected-with-the-coronavirus-432559/\",\n",
       "    \"Phase2ValidationDataset/3684.html\": \"https://www.foxnews.com/transcript/trump-administration-not-ruling-out-domestic-travel-restrictions-amid-coronavirus-pandemic\",\n",
       "    \"Phase2ValidationDataset/3687.html\": \"https://www.wired.com/story/an-old-malaria-drug-may-fight-covid-19-and-silicon-valleys-into-it/\",\n",
       "    \"Phase2ValidationDataset/3688.html\": \"https://www.nytimes.com/2020/03/19/health/coronavirus-drugs-chloroquine.html\",\n",
       "    \"Phase2ValidationDataset/3689.html\": \"https://aidsinfo.nih.gov/drugs/569/chloroquine/0/patient\"\n",
       "  },\n",
       "  \"explanation\": null,\n",
       "  \"support\": null,\n",
       "  \"dataset_name\": \"Phase2ValidationDataset\",\n",
       "  \"index\": \"Phase2ValidationDataset/383\",\n",
       "  \"nlp\": null\n",
       "}"
      ]
     },
     "execution_count": 18,
     "metadata": {},
     "output_type": "execute_result"
    }
   ],
   "source": [
    "claims_dict[claim_idx].nlp = None\n",
    "claims_dict[claim_idx]"
   ]
  },
  {
   "cell_type": "code",
   "execution_count": 19,
   "metadata": {},
   "outputs": [
    {
     "name": "stdout",
     "output_type": "stream",
     "text": [
      "https://www.theguardian.com/world/2020/apr/06/hydroxychloroquine-trump-coronavirus-drug\n",
      "0.900891937071296\n",
      "this is how an experiment in which 15% of the treatment group and 0% of the control had poor clinical outcomes could end up being reported as showing a “100% cure rate”.\n",
      "\n",
      "https://www.teaparty.org/huge-results-from-breaking-chloroquine-study-show-100-cure-rate-for-patients-infected-with-the-coronavirus-432559/\n",
      "0.8817048878904338\n",
      "school of medicine advisor announced a 100% cure rate in a controlled study done in france of 40 people with the #chinacoronavirus with a malaria drug called #hydroxychloroquine.\n",
      "\n",
      "https://www.teaparty.org/huge-results-from-breaking-chloroquine-study-show-100-cure-rate-for-patients-infected-with-the-coronavirus-432559/\n",
      "0.8746766339001871\n",
      "results from breaking chloroquine study show 100% cure rate for patients infected with the coronavirus | tea party (gateway pundit) – on monday dr. anthony fauci, director of the national institute of allergy and infectious diseases, announced that the first trial vaccine for the coronavirus is now being tested.\n",
      "\n",
      "https://www.theguardian.com/world/2020/apr/06/hydroxychloroquine-trump-coronavirus-drug\n",
      "0.8746638469938047\n",
      "the doctors did not provide any data from their own patients, but referenced the french study, writing: “researchers in france treated a small number of patients with both hydroxychloroquine and a z-pak, and 100% of them were cured by day six of treatment.”\n",
      "\n",
      "https://www.theguardian.com/world/2020/apr/06/hydroxychloroquine-trump-coronavirus-drug\n",
      "0.8631980820339037\n",
      "if you had only heard about this study from the fox news assertion of a “100% cure rate”, you might assume that the four patients with poor clinical outcomes (the three icu visits and one death) had been unlucky enough to be in the group that did not receive the “cure”.\n",
      "\n"
     ]
    }
   ],
   "source": [
    "for d in results[claim_idx]:\n",
    "    print(d[\"article_index\"])\n",
    "    print(d[\"score\"])\n",
    "    print(d[\"sentence\"])\n",
    "    print()"
   ]
  },
  {
   "cell_type": "code",
   "execution_count": null,
   "metadata": {},
   "outputs": [],
   "source": []
  }
 ],
 "metadata": {
  "kernelspec": {
   "display_name": "Python 3",
   "language": "python",
   "name": "python3"
  },
  "language_info": {
   "codemirror_mode": {
    "name": "ipython",
    "version": 3
   },
   "file_extension": ".py",
   "mimetype": "text/x-python",
   "name": "python",
   "nbconvert_exporter": "python",
   "pygments_lexer": "ipython3",
   "version": "3.7.7"
  }
 },
 "nbformat": 4,
 "nbformat_minor": 4
}
