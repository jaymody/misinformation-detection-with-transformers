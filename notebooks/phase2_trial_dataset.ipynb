{
 "cells": [
  {
   "cell_type": "code",
   "execution_count": 7,
   "metadata": {},
   "outputs": [],
   "source": [
    "import json\n",
    "\n",
    "import pandas as pd\n",
    "\n",
    "from valerie.utils import get_logger\n",
    "from valerie.data import Claim\n",
    "from valerie.datasets import ValerieDataset\n",
    "logger = get_logger()"
   ]
  },
  {
   "cell_type": "code",
   "execution_count": 8,
   "metadata": {},
   "outputs": [],
   "source": [
    "unlabelled_metadata_file=\"data/phase2-trial/raw/2_trial_metadata.json\"\n",
    "labels_file=\"data/phase2-trial/raw/2_trial_labels.json\""
   ]
  },
  {
   "cell_type": "code",
   "execution_count": 9,
   "metadata": {},
   "outputs": [],
   "source": [
    "with open(unlabelled_metadata_file) as fi:\n",
    "    trial_metadata_unlabelled = json.load(fi)\n",
    "with open(labels_file) as fi:\n",
    "    trial_labels = json.load(fi)\n",
    "\n",
    "trial_metadata = [\n",
    "    {\n",
    "        **claim,\n",
    "        \"label\": trial_labels[str(claim[\"id\"])][\"label\"],\n",
    "        \"related_articles\": trial_labels[str(claim[\"id\"])][\"related_articles\"],\n",
    "    }\n",
    "    for claim in trial_metadata_unlabelled\n",
    "]\n",
    "\n",
    "df = pd.DataFrame(trial_metadata)"
   ]
  },
  {
   "cell_type": "code",
   "execution_count": 10,
   "metadata": {},
   "outputs": [
    {
     "output_type": "execute_result",
     "data": {
      "text/plain": "                                                claim            claimant  \\\n0   A transaction tax in countries like the UK \"di...  Kirsten Gillibrand   \n1        \"Food Stamp participation hits 10 year low.\"        Donald Trump   \n2   Leaving cut onions overnight makes them poisonous       Facebook user   \n3   Iceland has a shortage of men and will pay imm...       Facebook user   \n4      Nigeria has the highest suicide rate in Africa            Vanguard   \n..                                                ...                 ...   \n95  U.S. Rep. Steve King falsely identified the Uk...    Multiple Sources   \n96  Netflix is contacting users and telling them t...                       \n97  People should avoid plugging their phones into...                       \n98  Electric car manufacturers rely on child labor...    Multiple Sources   \n99  The smartwatch was first predicted in an episo...                       \n\n                         date   id  label  \\\n0         2019-07-09 00:00:00    0      1   \n1         2019-07-09 00:00:00    1      2   \n2   2019-07-09 00:00:00+00:00    5      0   \n3   2019-07-10 00:00:00+00:00   10      0   \n4   2019-07-10 11:17:56+00:00   13      0   \n..                        ...  ...    ...   \n95  2019-11-14 15:57:00+00:00  461      2   \n96  2019-11-15 11:34:00+00:00  464      0   \n97  2019-11-18 15:20:00+00:00  466      1   \n98  2019-11-27 12:02:00+00:00  487      1   \n99  2019-12-02 08:28:00+00:00  492      0   \n\n                                     related_articles  \n0   {'train_articles/14519.html': 'https://www.cbo...  \n1   {'train_articles/14750.html': 'https://www.oan...  \n2   {'train_articles/1368.html': 'https://www.onio...  \n3   {'train_articles/2960.html': 'https://www.geor...  \n4   {'train_articles/383.html': 'http://meaningful...  \n..                                                ...  \n95  {'train_articles/3125.html': 'https://www.whis...  \n96  {'train_articles/3114.html': 'https://www.cons...  \n97  {'train_articles/3108.html': 'http://da.lacoun...  \n98  {'train_articles/3064.html': 'https://www.dail...  \n99  {'train_articles/3045.html': 'https://www.pcwo...  \n\n[100 rows x 6 columns]",
      "text/html": "<div>\n<style scoped>\n    .dataframe tbody tr th:only-of-type {\n        vertical-align: middle;\n    }\n\n    .dataframe tbody tr th {\n        vertical-align: top;\n    }\n\n    .dataframe thead th {\n        text-align: right;\n    }\n</style>\n<table border=\"1\" class=\"dataframe\">\n  <thead>\n    <tr style=\"text-align: right;\">\n      <th></th>\n      <th>claim</th>\n      <th>claimant</th>\n      <th>date</th>\n      <th>id</th>\n      <th>label</th>\n      <th>related_articles</th>\n    </tr>\n  </thead>\n  <tbody>\n    <tr>\n      <th>0</th>\n      <td>A transaction tax in countries like the UK \"di...</td>\n      <td>Kirsten Gillibrand</td>\n      <td>2019-07-09 00:00:00</td>\n      <td>0</td>\n      <td>1</td>\n      <td>{'train_articles/14519.html': 'https://www.cbo...</td>\n    </tr>\n    <tr>\n      <th>1</th>\n      <td>\"Food Stamp participation hits 10 year low.\"</td>\n      <td>Donald Trump</td>\n      <td>2019-07-09 00:00:00</td>\n      <td>1</td>\n      <td>2</td>\n      <td>{'train_articles/14750.html': 'https://www.oan...</td>\n    </tr>\n    <tr>\n      <th>2</th>\n      <td>Leaving cut onions overnight makes them poisonous</td>\n      <td>Facebook user</td>\n      <td>2019-07-09 00:00:00+00:00</td>\n      <td>5</td>\n      <td>0</td>\n      <td>{'train_articles/1368.html': 'https://www.onio...</td>\n    </tr>\n    <tr>\n      <th>3</th>\n      <td>Iceland has a shortage of men and will pay imm...</td>\n      <td>Facebook user</td>\n      <td>2019-07-10 00:00:00+00:00</td>\n      <td>10</td>\n      <td>0</td>\n      <td>{'train_articles/2960.html': 'https://www.geor...</td>\n    </tr>\n    <tr>\n      <th>4</th>\n      <td>Nigeria has the highest suicide rate in Africa</td>\n      <td>Vanguard</td>\n      <td>2019-07-10 11:17:56+00:00</td>\n      <td>13</td>\n      <td>0</td>\n      <td>{'train_articles/383.html': 'http://meaningful...</td>\n    </tr>\n    <tr>\n      <th>...</th>\n      <td>...</td>\n      <td>...</td>\n      <td>...</td>\n      <td>...</td>\n      <td>...</td>\n      <td>...</td>\n    </tr>\n    <tr>\n      <th>95</th>\n      <td>U.S. Rep. Steve King falsely identified the Uk...</td>\n      <td>Multiple Sources</td>\n      <td>2019-11-14 15:57:00+00:00</td>\n      <td>461</td>\n      <td>2</td>\n      <td>{'train_articles/3125.html': 'https://www.whis...</td>\n    </tr>\n    <tr>\n      <th>96</th>\n      <td>Netflix is contacting users and telling them t...</td>\n      <td></td>\n      <td>2019-11-15 11:34:00+00:00</td>\n      <td>464</td>\n      <td>0</td>\n      <td>{'train_articles/3114.html': 'https://www.cons...</td>\n    </tr>\n    <tr>\n      <th>97</th>\n      <td>People should avoid plugging their phones into...</td>\n      <td></td>\n      <td>2019-11-18 15:20:00+00:00</td>\n      <td>466</td>\n      <td>1</td>\n      <td>{'train_articles/3108.html': 'http://da.lacoun...</td>\n    </tr>\n    <tr>\n      <th>98</th>\n      <td>Electric car manufacturers rely on child labor...</td>\n      <td>Multiple Sources</td>\n      <td>2019-11-27 12:02:00+00:00</td>\n      <td>487</td>\n      <td>1</td>\n      <td>{'train_articles/3064.html': 'https://www.dail...</td>\n    </tr>\n    <tr>\n      <th>99</th>\n      <td>The smartwatch was first predicted in an episo...</td>\n      <td></td>\n      <td>2019-12-02 08:28:00+00:00</td>\n      <td>492</td>\n      <td>0</td>\n      <td>{'train_articles/3045.html': 'https://www.pcwo...</td>\n    </tr>\n  </tbody>\n</table>\n<p>100 rows × 6 columns</p>\n</div>"
     },
     "metadata": {},
     "execution_count": 10
    }
   ],
   "source": [
    "df"
   ]
  },
  {
   "cell_type": "code",
   "execution_count": null,
   "metadata": {},
   "outputs": [],
   "source": []
  },
  {
   "cell_type": "code",
   "execution_count": null,
   "metadata": {},
   "outputs": [],
   "source": []
  },
  {
   "cell_type": "code",
   "execution_count": null,
   "metadata": {},
   "outputs": [],
   "source": []
  },
  {
   "cell_type": "code",
   "execution_count": 11,
   "metadata": {},
   "outputs": [],
   "source": [
    "class Phase2TrialDataset(ValerieDataset):\n",
    "    @classmethod\n",
    "    def from_raw(cls, unlabelled_metadata_file=\"data/phase2-trial/raw/2_trial_metadata.json\", labels_file=\"data/phase2-trial/raw/2_trial_labels.json\"):\n",
    "        with open(unlabelled_metadata_file) as fi:\n",
    "            trial_metadata_unlabelled = json.load(fi)\n",
    "        with open(labels_file) as fi:\n",
    "            trial_labels = json.load(fi)\n",
    "\n",
    "        trial_metadata = [\n",
    "            {\n",
    "                **claim,\n",
    "                \"label\": trial_labels[str(claim[\"id\"])][\"label\"],\n",
    "                \"related_articles\": trial_labels[str(claim[\"id\"])][\"related_articles\"],\n",
    "            }\n",
    "            for claim in trial_metadata_unlabelled\n",
    "        ]\n",
    "\n",
    "        df = pd.DataFrame(trial_metadata)\n",
    "        claims = cls.df_to_claims(df, cls.row_to_claim)\n",
    "\n",
    "        return cls(claims)\n",
    "\n",
    "    @classmethod\n",
    "    def row_to_claim(cls, i, row):\n",
    "        # THIS SHOULD BE KEPT UP TO DATE WITH THE row_to_claim FUNCTION\n",
    "        # OF Phase2Dataset. For now, there are two copies of this function, \n",
    "        # in the future I'll find a smarter way to do this\n",
    "\n",
    "        row = dict(row)\n",
    "        _id = row.pop(\"id\")\n",
    "\n",
    "        # only parse related articles if it exists\n",
    "        # (we do this check since related_articles is a removed field for the eval)\n",
    "        related_articles = {}\n",
    "        if \"related_articles\" in row:\n",
    "            for k, v in row.pop(\"related_articles\").items():\n",
    "                rel_art = cls.__name__ + \"/\" + os.path.basename(k)\n",
    "                related_articles[rel_art] = v\n",
    "\n",
    "        return Claim(\n",
    "            _id, related_articles=related_articles, dataset_name=cls.__name__, **row\n",
    "        )"
   ]
  },
  {
   "cell_type": "code",
   "execution_count": 12,
   "metadata": {
    "tags": []
   },
   "outputs": [
    {
     "output_type": "stream",
     "name": "stderr",
     "text": "Phase2TrialDataset to claims: 100%|██████████| 100/100 [00:00<00:00, 2494.59it/s][2020-07-08 14:47:25,867] INFO:valerie.datasets: missed row to claim conversions: 0\n[2020-07-08 14:47:25,867] INFO:valerie.datasets: missed row to claim conversions: 0\n[2020-07-08 14:47:25,867] INFO:valerie.datasets: Phase2TrialDataset claims set change 100 --> 100\n[2020-07-08 14:47:25,867] INFO:valerie.datasets: Phase2TrialDataset claims set change 100 --> 100\n\n"
    }
   ],
   "source": [
    "trial_dataset = Phase2TrialDataset.from_raw()"
   ]
  },
  {
   "cell_type": "code",
   "execution_count": 18,
   "metadata": {
    "tags": []
   },
   "outputs": [
    {
     "output_type": "execute_result",
     "data": {
      "text/plain": "{\n  \"id\": 146,\n  \"claim\": \"Says 12 restaurants and food companies are \\\"supporting Trump\\u2019s re-election.\\\"\",\n  \"claimant\": \"Instagram posts\",\n  \"label\": 0,\n  \"date\": \"2019-08-08 00:00:00\",\n  \"related_articles\": {\n    \"Phase2TrialDataset/13930.html\": \"https://www.eater.com/2016/10/18/13279282/clinton-vs-trump-whos-collected-the-most-fast-food-funding\",\n    \"Phase2TrialDataset/13931.html\": \"https://www.foodandwine.com/fwx/food/trump-taco-bell-campaign-donation\",\n    \"Phase2TrialDataset/13932.html\": \"https://www.opensecrets.org/industries/indus.php?ind=n01\",\n    \"Phase2TrialDataset/13934.html\": \"https://www.newsweek.com/viral-tweet-shows-list-fast-food-chains-that-are-reportedly-supporting-trumps-re-election-1453541\",\n    \"Phase2TrialDataset/13935.html\": \"https://www.salon.com/2015/06/22/5_radically_conservative_fast_food_companies/\"\n  },\n  \"explanation\": null,\n  \"support\": null,\n  \"dataset_name\": \"Phase2TrialDataset\",\n  \"index\": \"Phase2TrialDataset/146\"\n}"
     },
     "metadata": {},
     "execution_count": 18
    }
   ],
   "source": [
    "trial_dataset.claims[0]"
   ]
  },
  {
   "cell_type": "code",
   "execution_count": null,
   "metadata": {},
   "outputs": [],
   "source": []
  }
 ],
 "metadata": {
  "kernelspec": {
   "display_name": "Python 3",
   "language": "python",
   "name": "python3"
  },
  "language_info": {
   "codemirror_mode": {
    "name": "ipython",
    "version": 3
   },
   "file_extension": ".py",
   "mimetype": "text/x-python",
   "name": "python",
   "nbconvert_exporter": "python",
   "pygments_lexer": "ipython3",
   "version": "3.7.5"
  }
 },
 "nbformat": 4,
 "nbformat_minor": 4
}