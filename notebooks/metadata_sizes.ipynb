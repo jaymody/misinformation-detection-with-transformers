{
 "cells": [
  {
   "cell_type": "code",
   "execution_count": 2,
   "metadata": {
    "tags": []
   },
   "outputs": [
    {
     "output_type": "stream",
     "name": "stdout",
     "text": "15555 \t data/phase1/raw/metadata.json\n13130 \t data/phase2-0/raw/metadata.json\n13061 \t data/phase2-1/raw/metadata.json\n13230 \t data/phase2-2/raw/metadata.json\n13102 \t data/phase2-3/raw/metadata.json\n100 \t data/phase2-trial/raw/2_trial_metadata.json\n500 \t data/phase2-validation/raw/val_metadata_p2.json\n"
    }
   ],
   "source": [
    "import glob\n",
    "import json\n",
    "\n",
    "fpaths = sorted(glob.glob(\"data/*/raw/*metadata*.json\"))\n",
    "\n",
    "for path in fpaths:\n",
    "    with open(path) as fi:\n",
    "        data = json.load(fi)\n",
    "        print(len(data), \"\\t\", path)"
   ]
  },
  {
   "cell_type": "code",
   "execution_count": null,
   "metadata": {},
   "outputs": [],
   "source": []
  }
 ],
 "metadata": {
  "kernelspec": {
   "display_name": "Python 3",
   "language": "python",
   "name": "python3"
  },
  "language_info": {
   "codemirror_mode": {
    "name": "ipython",
    "version": 3
   },
   "file_extension": ".py",
   "mimetype": "text/x-python",
   "name": "python",
   "nbconvert_exporter": "python",
   "pygments_lexer": "ipython3",
   "version": "3.7.5"
  }
 },
 "nbformat": 4,
 "nbformat_minor": 4
}