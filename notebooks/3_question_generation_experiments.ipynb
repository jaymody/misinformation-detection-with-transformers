{
 "cells": [
  {
   "cell_type": "code",
   "execution_count": 20,
   "metadata": {},
   "outputs": [],
   "source": [
    "import json\n",
    "from valerie.datasets import Phase2Validation100Dataset, Phase2Dataset\n",
    "\n",
    "val_dataset = Phase2Validation100Dataset.from_raw()\n",
    "phase2_dataset = Phase2Dataset.from_raw()"
   ]
  },
  {
   "cell_type": "code",
   "execution_count": null,
   "metadata": {},
   "outputs": [],
   "source": [
    "# via https://github.com/patil-suraj/question_generation\n",
    "from question_generation.pipelines import pipeline"
   ]
  },
  {
   "cell_type": "code",
   "execution_count": 5,
   "metadata": {},
   "outputs": [
    {
     "data": {
      "application/vnd.jupyter.widget-view+json": {
       "model_id": "dcb8b25e400745f7a10eff2e7b66a964",
       "version_major": 2,
       "version_minor": 0
      },
      "text/plain": [
       "HBox(children=(FloatProgress(value=0.0, description='Downloading', max=1016.0, style=ProgressStyle(description…"
      ]
     },
     "metadata": {},
     "output_type": "display_data"
    },
    {
     "name": "stdout",
     "output_type": "stream",
     "text": [
      "\n"
     ]
    },
    {
     "data": {
      "application/vnd.jupyter.widget-view+json": {
       "model_id": "1e47dda1da9a41cda1a15831553c6149",
       "version_major": 2,
       "version_minor": 0
      },
      "text/plain": [
       "HBox(children=(FloatProgress(value=0.0, description='Downloading', max=791656.0, style=ProgressStyle(descripti…"
      ]
     },
     "metadata": {},
     "output_type": "display_data"
    },
    {
     "name": "stdout",
     "output_type": "stream",
     "text": [
      "\n"
     ]
    },
    {
     "data": {
      "application/vnd.jupyter.widget-view+json": {
       "model_id": "e777c69ac9904555a9bd16fbf54e886f",
       "version_major": 2,
       "version_minor": 0
      },
      "text/plain": [
       "HBox(children=(FloatProgress(value=0.0, description='Downloading', max=31.0, style=ProgressStyle(description_w…"
      ]
     },
     "metadata": {},
     "output_type": "display_data"
    },
    {
     "name": "stdout",
     "output_type": "stream",
     "text": [
      "\n"
     ]
    },
    {
     "data": {
      "application/vnd.jupyter.widget-view+json": {
       "model_id": "f219027298c64aa29ed2d7ddd02a2787",
       "version_major": 2,
       "version_minor": 0
      },
      "text/plain": [
       "HBox(children=(FloatProgress(value=0.0, description='Downloading', max=65.0, style=ProgressStyle(description_w…"
      ]
     },
     "metadata": {},
     "output_type": "display_data"
    },
    {
     "name": "stdout",
     "output_type": "stream",
     "text": [
      "\n"
     ]
    },
    {
     "data": {
      "application/vnd.jupyter.widget-view+json": {
       "model_id": "a4d7ddfdc6ce4fa19a05c2d723ceea78",
       "version_major": 2,
       "version_minor": 0
      },
      "text/plain": [
       "HBox(children=(FloatProgress(value=0.0, description='Downloading', max=90.0, style=ProgressStyle(description_w…"
      ]
     },
     "metadata": {},
     "output_type": "display_data"
    },
    {
     "name": "stdout",
     "output_type": "stream",
     "text": [
      "\n"
     ]
    },
    {
     "data": {
      "application/vnd.jupyter.widget-view+json": {
       "model_id": "cae031ec498441158ba4fdd7ee2896cc",
       "version_major": 2,
       "version_minor": 0
      },
      "text/plain": [
       "HBox(children=(FloatProgress(value=0.0, description='Downloading', max=242013444.0, style=ProgressStyle(descri…"
      ]
     },
     "metadata": {},
     "output_type": "display_data"
    },
    {
     "name": "stdout",
     "output_type": "stream",
     "text": [
      "\n"
     ]
    },
    {
     "data": {
      "application/vnd.jupyter.widget-view+json": {
       "model_id": "ce6726389d664c56ae2ed39fed2716a6",
       "version_major": 2,
       "version_minor": 0
      },
      "text/plain": [
       "HBox(children=(FloatProgress(value=0.0, description='Downloading', max=656.0, style=ProgressStyle(description_…"
      ]
     },
     "metadata": {},
     "output_type": "display_data"
    },
    {
     "name": "stdout",
     "output_type": "stream",
     "text": [
      "\n"
     ]
    },
    {
     "data": {
      "application/vnd.jupyter.widget-view+json": {
       "model_id": "6071d3da6cc64d69b3158287d24b653e",
       "version_major": 2,
       "version_minor": 0
      },
      "text/plain": [
       "HBox(children=(FloatProgress(value=0.0, description='Downloading', max=791656.0, style=ProgressStyle(descripti…"
      ]
     },
     "metadata": {},
     "output_type": "display_data"
    },
    {
     "name": "stdout",
     "output_type": "stream",
     "text": [
      "\n"
     ]
    },
    {
     "data": {
      "application/vnd.jupyter.widget-view+json": {
       "model_id": "c0e2ba4a93de4f6d83602016fa11a5ed",
       "version_major": 2,
       "version_minor": 0
      },
      "text/plain": [
       "HBox(children=(FloatProgress(value=0.0, description='Downloading', max=31.0, style=ProgressStyle(description_w…"
      ]
     },
     "metadata": {},
     "output_type": "display_data"
    },
    {
     "name": "stdout",
     "output_type": "stream",
     "text": [
      "\n"
     ]
    },
    {
     "data": {
      "application/vnd.jupyter.widget-view+json": {
       "model_id": "fa0c7572a70c43ca81491fde0bf1ce17",
       "version_major": 2,
       "version_minor": 0
      },
      "text/plain": [
       "HBox(children=(FloatProgress(value=0.0, description='Downloading', max=65.0, style=ProgressStyle(description_w…"
      ]
     },
     "metadata": {},
     "output_type": "display_data"
    },
    {
     "name": "stdout",
     "output_type": "stream",
     "text": [
      "\n"
     ]
    },
    {
     "data": {
      "application/vnd.jupyter.widget-view+json": {
       "model_id": "a8bdd5a1caf74cd987926edb8d0d993e",
       "version_major": 2,
       "version_minor": 0
      },
      "text/plain": [
       "HBox(children=(FloatProgress(value=0.0, description='Downloading', max=90.0, style=ProgressStyle(description_w…"
      ]
     },
     "metadata": {},
     "output_type": "display_data"
    },
    {
     "name": "stdout",
     "output_type": "stream",
     "text": [
      "\n"
     ]
    },
    {
     "data": {
      "application/vnd.jupyter.widget-view+json": {
       "model_id": "9cb2117042e84d83ab5eca8b03c4603f",
       "version_major": 2,
       "version_minor": 0
      },
      "text/plain": [
       "HBox(children=(FloatProgress(value=0.0, description='Downloading', max=242013376.0, style=ProgressStyle(descri…"
      ]
     },
     "metadata": {},
     "output_type": "display_data"
    },
    {
     "name": "stdout",
     "output_type": "stream",
     "text": [
      "\n"
     ]
    }
   ],
   "source": [
    "nlp = pipeline(\"question-generation\", model=\"valhalla/t5-small-qg-prepend\", qg_format=\"prepend\")"
   ]
  },
  {
   "cell_type": "code",
   "execution_count": 21,
   "metadata": {},
   "outputs": [
    {
     "name": "stdout",
     "output_type": "stream",
     "text": [
      "\"Pelosi Steals Closer To $5 Billion From Social Security To Pay For Impeachment – Not $2.4 Billion.\"\n",
      "[\n",
      "  {\n",
      "    \"answer\": \"$5 Billion \",\n",
      "    \"question\": \"How much does Pelosi get from Social Security To Pay For Impeachment?\"\n",
      "  }\n",
      "]\n",
      "\n",
      "\n",
      "A group of nine Senate Republicans has “joined Democrats on impeachment.”\n",
      "[\n",
      "  {\n",
      "    \"answer\": \"nine \",\n",
      "    \"question\": \"How many Senate Republicans have \\\"joined Democrats on impeachment\\\"?\"\n",
      "  }\n",
      "]\n",
      "\n",
      "\n",
      "A photo shows “the Lincoln Memorial. His head damaged and defaced.”\n",
      "[\n",
      "  {\n",
      "    \"answer\": \"Lincoln Memorial \",\n",
      "    \"question\": \"What was his head damaged and defaced?\"\n",
      "  },\n",
      "  {\n",
      "    \"answer\": \"defaced \",\n",
      "    \"question\": \"What was the head of Lincoln's head damaged?\"\n",
      "  }\n",
      "]\n",
      "\n",
      "\n",
      "The state of Virginia declared a state of emergency ahead of pro-gun rallies in Richmond, Virginia.\n",
      "[\n",
      "  {\n",
      "    \"answer\": \"Virginia \",\n",
      "    \"question\": \"What state declared a state of emergency ahead of pro-gun rallies?\"\n",
      "  },\n",
      "  {\n",
      "    \"answer\": \" pro-gun rallies \",\n",
      "    \"question\": \"What was Virginia declared a state of emergency ahead of?\"\n",
      "  }\n",
      "]\n",
      "\n",
      "\n",
      "“Pelosi’s new coronavirus bill allows illegals to receive billions in relief funds in past, current, and future payments.”\n",
      "[\n",
      "  {\n",
      "    \"answer\": \"billions \",\n",
      "    \"question\": \"How many relief funds does the new coronavirus bill allow illegals to receive?\"\n",
      "  }\n",
      "]\n",
      "\n",
      "\n",
      "\"The American people are overwhelmingly with us\" in calling witnesses in Senate trial\n",
      "[\n",
      "  {\n",
      "    \"answer\": \"Senate trial \",\n",
      "    \"question\": \"In what trial are witnesses called?\"\n",
      "  }\n",
      "]\n",
      "\n",
      "\n",
      "\"Buffalo protester shoved by Police could be an ANTIFA provocateur\" who was trying to \"black out\" police equipment.\n",
      "[\n",
      "  {\n",
      "    \"answer\": \"ANTIFA \",\n",
      "    \"question\": \"What type of provocateur was a \\\"Buffalo protester shoved by Police\\\"?\"\n",
      "  }\n",
      "]\n",
      "\n",
      "\n",
      "U.S. President Donald Trump has voted via mailed absentee ballot in United States elections.\n",
      "[\n",
      "  {\n",
      "    \"answer\": \"Donald Trump \",\n",
      "    \"question\": \"Who has voted via mailed absentee ballot?\"\n",
      "  }\n",
      "]\n",
      "\n",
      "\n",
      "\"And, look, right now you have this president, hasn’t allowed his scientists to speak, number one. He has the vice president speaking, not the scientists who know what they’re talking about, like [NIAID Director Dr. Anthony] Fauci.\"\n",
      "[\n",
      "  {\n",
      "    \"answer\": \"hasn\\u2019t allowed his scientists to speak \",\n",
      "    \"question\": \"What does NIAID Director Dr. Anthony Fauci say?\"\n",
      "  },\n",
      "  {\n",
      "    \"answer\": \"vice president \",\n",
      "    \"question\": \"What is the name of the president who has not allowed his scientists to speak?\"\n",
      "  }\n",
      "]\n",
      "\n",
      "\n",
      "\"Democrats stood with\" the repressive regimes in Venezuela, China and Iran rather than with the people in those countries.\n",
      "[\n",
      "  {\n",
      "    \"answer\": \"Democrats \",\n",
      "    \"question\": \"Who stood with the repressive regimes in Venezuela, China and Iran?\"\n",
      "  }\n",
      "]\n",
      "\n",
      "\n",
      "Queen Elizabeth said Philippine President Rodrigo Duterte “is the kind of leader who knows the way .... Filipinos are very lucky to have him.”\n",
      "[\n",
      "  {\n",
      "    \"answer\": \"Rodrigo Duterte \",\n",
      "    \"question\": \"Who is the Filipino President?\"\n",
      "  },\n",
      "  {\n",
      "    \"answer\": \" Queen Elizabeth \",\n",
      "    \"question\": \"Who said Rodrigo Duterte is a Filipino leader?\"\n",
      "  }\n",
      "]\n",
      "\n",
      "\n",
      "\"Nate McMurray wants to reward illegals with amnesty.\"\n",
      "[\n",
      "  {\n",
      "    \"answer\": \"amnesty \",\n",
      "    \"question\": \"What does McMurray want to reward illegals with?\"\n",
      "  }\n",
      "]\n",
      "\n",
      "\n",
      "\"We've done more tests in eight days than South Korea has done in eight weeks.\"\n",
      "[\n",
      "  {\n",
      "    \"answer\": \"eight days \",\n",
      "    \"question\": \"How long has South Korea done more tests?\"\n",
      "  },\n",
      "  {\n",
      "    \"answer\": \" South Korea \",\n",
      "    \"question\": \"Which country has done more tests in eight days?\"\n",
      "  },\n",
      "  {\n",
      "    \"answer\": \" eight weeks \",\n",
      "    \"question\": \"How long has South Korea done more tests?\"\n",
      "  }\n",
      "]\n",
      "\n",
      "\n",
      "\"45 nations had already moved” to enforce travel restrictions with China “before the president moved.”\n",
      "[\n",
      "  {\n",
      "    \"answer\": \"45 \",\n",
      "    \"question\": \"How many nations had already moved to enforce travel restrictions with China?\"\n",
      "  },\n",
      "  {\n",
      "    \"answer\": \" China \",\n",
      "    \"question\": \"Which country had already moved to enforce travel restrictions?\"\n",
      "  }\n",
      "]\n",
      "\n",
      "\n",
      "Amid the COVID-19 outbreak, “Minnesota now has the highest unemployment rate in U.S. history.”\n",
      "[\n",
      "  {\n",
      "    \"answer\": \"COVID-19 \",\n",
      "    \"question\": \"In what outbreak did Minnesota have the highest unemployment rate in history?\"\n",
      "  }\n",
      "]\n",
      "\n",
      "\n",
      "A 7-year-old named Emily Jones was decapitated in England by a Somali migrant.\n",
      "[\n",
      "  {\n",
      "    \"answer\": \"Emily Jones \",\n",
      "    \"question\": \"Who was decapitated in England by a Somali migrant?\"\n",
      "  }\n",
      "]\n",
      "\n",
      "\n",
      "“It (coronavirus) is like a strong flu.”\n",
      "[\n",
      "  {\n",
      "    \"answer\": \"coronavirus \",\n",
      "    \"question\": \"What is like a strong flu?\"\n",
      "  }\n",
      "]\n",
      "\n",
      "\n",
      "Racial comparisons on coronavirus statistics in Monroe County, N.Y., show that the impact on minorities is “basically on par, a little bit up, from the population numbers,” meaning that “we don’t see that disparity as much here.”\n",
      "[\n",
      "  {\n",
      "    \"answer\": \"coronavirus statistics \",\n",
      "    \"question\": \"Racial comparisons on what statistics in Monroe County, N.Y. show the impact on minorities is \\\"basically on par, a little\"\n",
      "  }\n",
      "]\n",
      "\n",
      "\n",
      "\"[C]ountless American children have been trapped in failing government schools. To rescue these students, 18 states have created school choice in the form of Opportunity Scholarships. The programs are so popular that tens of thousands of students remain on a waiting list. One of those students is Janiyah Davis, a fourth grader from Philadelphia.\"\n",
      "[\n",
      "  {\n",
      "    \"answer\": \"failing government schools \",\n",
      "    \"question\": \"What have the most unlucky American children been trapped in?\"\n",
      "  },\n",
      "  {\n",
      "    \"answer\": \"Opportunity Scholarships \",\n",
      "    \"question\": \"What is the name of the school choice that 18 states have created?\"\n",
      "  },\n",
      "  {\n",
      "    \"answer\": \"tens of thousands \",\n",
      "    \"question\": \"How many students remain on a waiting list?\"\n",
      "  },\n",
      "  {\n",
      "    \"answer\": \"Janiyah Davis \",\n",
      "    \"question\": \"Who is a fourth grader from Philadelphia?\"\n",
      "  }\n",
      "]\n",
      "\n",
      "\n",
      "\"Covid19 is a bacterium, easily treated with aspirin and coagulant.\"\n",
      "[\n",
      "  {\n",
      "    \"answer\": \"a bacterium \",\n",
      "    \"question\": \"What is Covid19?\"\n",
      "  },\n",
      "  {\n",
      "    \"answer\": \" aspirin and coagulant \",\n",
      "    \"question\": \"Covid19 is a bacterium that is easily treated with what?\"\n",
      "  }\n",
      "]\n",
      "\n",
      "\n",
      "“This is what Bill Gates and George Soros want to do… secretly stick you with a chip while testing you for the coronavirus... the Dems have a bill on the House floor ready to vote on it to require this.”\n",
      "[\n",
      "  {\n",
      "    \"answer\": \"the Dems \",\n",
      "    \"question\": \"Who has a bill on the House floor ready to vote on?\"\n",
      "  }\n",
      "]\n",
      "\n",
      "\n",
      "An audio message lists five ways people can prevent the novel coronavirus.\n",
      "[\n",
      "  {\n",
      "    \"answer\": \"five \",\n",
      "    \"question\": \"How many ways can people prevent the novel coronavirus?\"\n",
      "  }\n",
      "]\n",
      "\n",
      "\n",
      "Says the Asian, Hong Kong, swine and bird flus each “killed more people than coronavirus.”\n",
      "[\n",
      "  {\n",
      "    \"answer\": \"coronavirus \",\n",
      "    \"question\": \"What type of flu kills more people than the Asian, Hong Kong, swine and bird flu?\"\n",
      "  }\n",
      "]\n",
      "\n",
      "\n",
      "“Sweden has zero lockdown” and “is in no worse shape than Denmark or Norway,” which are in lockdown.\n",
      "[\n",
      "  {\n",
      "    \"answer\": \"Denmark or Norway \",\n",
      "    \"question\": \"What two countries are in lockdown?\"\n",
      "  },\n",
      "  {\n",
      "    \"answer\": \" zero \",\n",
      "    \"question\": \"What type of lockdown does Sweden have?\"\n",
      "  }\n",
      "]\n",
      "\n",
      "\n",
      "Says an image of armed anti-lockdown protesters and an image of unarmed Minneapolis protesters being tear gassed were taken in the “same state, same month.”\n",
      "[\n",
      "  {\n",
      "    \"answer\": \"same month \",\n",
      "    \"question\": \"In what month was the image of unarmed protesters being tear gassed?\"\n",
      "  },\n",
      "  {\n",
      "    \"answer\": \" tear gassed \",\n",
      "    \"question\": \"What did Minneapolis protesters say were taken in the same state?\"\n",
      "  }\n",
      "]\n",
      "\n",
      "\n"
     ]
    }
   ],
   "source": [
    "for claim in val_dataset.claims[:25]:\n",
    "    print(claim.claim)\n",
    "    print(json.dumps(nlp(claim.claim), indent=2))\n",
    "    print()\n",
    "    print()"
   ]
  },
  {
   "cell_type": "code",
   "execution_count": 22,
   "metadata": {},
   "outputs": [
    {
     "name": "stdout",
     "output_type": "stream",
     "text": [
      "\"Under N.Y. State ‘Assault Weapon’ ban 1 simple cosmetic change pictured here is difference between legal & banned\"\n",
      "[\n",
      "  {\n",
      "    \"answer\": \"1 \",\n",
      "    \"question\": \"What is difference between legal & banned?\"\n",
      "  }\n",
      "]\n",
      "\n",
      "\n",
      "The national debt grew an estimated $15 billion last weekend.\n",
      "[\n",
      "  {\n",
      "    \"answer\": \"$15 billion \",\n",
      "    \"question\": \"How much did the national debt increase last weekend?\"\n",
      "  }\n",
      "]\n",
      "\n",
      "\n",
      "The Department of Veterans Affairs has \"a manual out there telling our veterans stuff like, 'Are you really of value to your community?' You know, encouraging them to commit suicide.\"\n",
      "[\n",
      "  {\n",
      "    \"answer\": \"'Are you really of value to your community?' \",\n",
      "    \"question\": \"What is a manual out there telling our veterans?\"\n",
      "  },\n",
      "  {\n",
      "    \"answer\": \"suicide \",\n",
      "    \"question\": \"What does the Department of Veterans Affairs encourage veterans to do?\"\n",
      "  }\n",
      "]\n",
      "\n",
      "\n",
      "Elephant carrying thirsty lion cub\n",
      "[\n",
      "  {\n",
      "    \"answer\": \"thirsty \",\n",
      "    \"question\": \"What type of lion cub does elephant carry?\"\n",
      "  }\n",
      "]\n",
      "\n",
      "\n",
      "\"Most U.S. foreign assistance ... is given to U.S. companies and nonprofits in the form of contracts and grants.\"\n",
      "[\n",
      "  {\n",
      "    \"answer\": \"contracts and grants \",\n",
      "    \"question\": \"What is the term for foreign assistance given to U.S. companies and nonprofits?\"\n",
      "  }\n",
      "]\n",
      "\n",
      "\n",
      "\"By rubber-stamping the Bayer-Monsanto merger, the Justice Department is handing control over one quarter of the world's seeds and pesticides market to one ginormous agribusiness.\"\n",
      "[\n",
      "  {\n",
      "    \"answer\": \"one quarter \",\n",
      "    \"question\": \"How much of the world's seeds and pesticides market is controlled by the Justice Department?\"\n",
      "  },\n",
      "  {\n",
      "    \"answer\": \" one quarter \",\n",
      "    \"question\": \"How much of the world's seeds and pesticides market is controlled by the Justice Department?\"\n",
      "  }\n",
      "]\n",
      "\n",
      "\n",
      "Canada begs Kenya for a million immigrants\n",
      "[\n",
      "  {\n",
      "    \"answer\": \"a million \",\n",
      "    \"question\": \"How many immigrants do Canada beg Kenya for?\"\n",
      "  }\n",
      "]\n",
      "\n",
      "\n",
      "Says President Barack Obama once said, \"The American dream is to be Donald Trump\"\n",
      "[\n",
      "  {\n",
      "    \"answer\": \"Donald Trump \",\n",
      "    \"question\": \"What is the American dream to be?\"\n",
      "  },\n",
      "  {\n",
      "    \"answer\": \" Barack Obama \",\n",
      "    \"question\": \"Who once said, \\\"The American dream is to be Donald Trump?\\\"\"\n",
      "  }\n",
      "]\n",
      "\n",
      "\n",
      "65% of [city] water goes to formal residential customers\n",
      "[\n",
      "  {\n",
      "    \"answer\": \"65% \",\n",
      "    \"question\": \"How much of [city] water goes to residential customers?\"\n",
      "  }\n",
      "]\n",
      "\n",
      "\n",
      "Says Michael Screnock \"let a child predator walk without time and let a rapist who preyed on an underage girl go free after only an eight-month sentence.\"\n",
      "[\n",
      "  {\n",
      "    \"answer\": \"Michael Screnock \",\n",
      "    \"question\": \"Who says \\\"let a child predator walk without time and let a rapist who preyed on an underage girl go free after only an\"\n",
      "  },\n",
      "  {\n",
      "    \"answer\": \" an eight-month \",\n",
      "    \"question\": \"How long was the sentence for raping an underage girl?\"\n",
      "  }\n",
      "]\n",
      "\n",
      "\n",
      "\"More than 1,000 people ... move to Texas every day.\"\n",
      "[\n",
      "  {\n",
      "    \"answer\": \"1,000 \",\n",
      "    \"question\": \"How many people move to Texas every day?\"\n",
      "  }\n",
      "]\n",
      "\n",
      "\n",
      "\"AIG executives ... (took) a junket for over $400,000. Twice.\"\n",
      "[\n",
      "  {\n",
      "    \"answer\": \"$400,000. \",\n",
      "    \"question\": \"How much money did AIG executives take a junket?\"\n",
      "  },\n",
      "  {\n",
      "    \"answer\": \"Twice \",\n",
      "    \"question\": \"How much did AIG executives spend on a junket?\"\n",
      "  }\n",
      "]\n",
      "\n",
      "\n",
      "Since Wisconsin Gov. Scott Walker took office, \"we are losing jobs at rates not seen in decades.\"\n",
      "[\n",
      "  {\n",
      "    \"answer\": \"Scott Walker \",\n",
      "    \"question\": \"Who was Wisconsin's governor?\"\n",
      "  },\n",
      "  {\n",
      "    \"answer\": \" Wisconsin \",\n",
      "    \"question\": \"Where did Scott Walker take office?\"\n",
      "  },\n",
      "  {\n",
      "    \"answer\": \"Scott Walker \",\n",
      "    \"question\": \"Who was Wisconsin's governor?\"\n",
      "  }\n",
      "]\n",
      "\n",
      "\n",
      "Democrats give \"Newports to the homeless to get them to the polls.\"\n",
      "[\n",
      "  {\n",
      "    \"answer\": \"Newports to the homeless \",\n",
      "    \"question\": \"What do Democrats give to the homeless to get them to the polls?\"\n",
      "  }\n",
      "]\n",
      "\n",
      "\n",
      "Says \"the latest polls show us tied neck-and-neck\" with Sen. Ted Cruz.\n",
      "[\n",
      "  {\n",
      "    \"answer\": \"tied neck-and-neck \",\n",
      "    \"question\": \"What did the polls show with Sen. Ted Cruz?\"\n",
      "  },\n",
      "  {\n",
      "    \"answer\": \" Sen. Ted Cruz \",\n",
      "    \"question\": \"Who says \\\"the latest polls show us tied neck-and-neck with?\\\"\"\n",
      "  }\n",
      "]\n",
      "\n",
      "\n",
      "\"If [Atlanta Mayor Kasim Reed] wants to be like Bull Connor, then so be it.\"\n",
      "[\n",
      "  {\n",
      "    \"answer\": \"Bull Connor \",\n",
      "    \"question\": \"What is the name of the Mayor of Atlanta?\"\n",
      "  },\n",
      "  {\n",
      "    \"answer\": \" Atlanta Mayor Kasim Reed \",\n",
      "    \"question\": \"Who wants to be like Bull Connor?\"\n",
      "  },\n",
      "  {\n",
      "    \"answer\": \" Bull Connor \",\n",
      "    \"question\": \"What is the name of the Mayor of Atlanta?\"\n",
      "  }\n",
      "]\n",
      "\n",
      "\n",
      "The medicine works. The bhang will ensure that all the body agents that cause measles are killed.\n",
      "[\n",
      "  {\n",
      "    \"answer\": \"The medicine \",\n",
      "    \"question\": \"What will ensure that all the body agents that cause measles are killed?\"\n",
      "  },\n",
      "  {\n",
      "    \"answer\": \"all the body agents that cause measles are killed \",\n",
      "    \"question\": \"What will the bhang ensure?\"\n",
      "  }\n",
      "]\n",
      "\n",
      "\n",
      "\"In last week’s debate, Bernie questioned Hillary’s commitment to fighting climate change because a whopping 0.2 percent of the money given to our campaign has come from employees of oil and gas companies. Not even 2 percent, mind you: 0.2 percent.\"\n",
      "[\n",
      "  {\n",
      "    \"answer\": \"0.2 percent \",\n",
      "    \"question\": \"How much of Hillary's money has come from oil and gas companies?\"\n",
      "  },\n",
      "  {\n",
      "    \"answer\": \"0.2 percent \",\n",
      "    \"question\": \"How much of Hillary's money has come from oil and gas companies?\"\n",
      "  }\n",
      "]\n",
      "\n",
      "\n",
      "“No Racism in Russia, FIFA 2018 Set to Be Great Tournament – Shanghai SIPG Player.”\n",
      "[\n",
      "  {\n",
      "    \"answer\": \"Shanghai SIPG Player \",\n",
      "    \"question\": \"What is FIFA 2018 set to be Great Tournament?\"\n",
      "  },\n",
      "  {\n",
      "    \"answer\": \" No Racism in Russia \",\n",
      "    \"question\": \"What is FIFA 2018 set to be Great Tournament \\u2013 Shanghai SIPG Player?\"\n",
      "  }\n",
      "]\n",
      "\n",
      "\n",
      "Says \"our taxes have doubled\" with Rick Perry in office.\n",
      "[\n",
      "  {\n",
      "    \"answer\": \"Rick Perry \",\n",
      "    \"question\": \"Who says \\\"our taxes have doubled with our taxes?\"\n",
      "  },\n",
      "  {\n",
      "    \"answer\": \" taxes \",\n",
      "    \"question\": \"What does Rick Perry say \\\"our taxes have doubled with Rick Perry in office?\"\n",
      "  }\n",
      "]\n",
      "\n",
      "\n",
      "\"More (student-athletes) graduate than the students who aren't student-athletes.\"\n",
      "[\n",
      "  {\n",
      "    \"answer\": \"student-athletes \",\n",
      "    \"question\": \"What are students who graduate more than students who aren't?\"\n",
      "  }\n",
      "]\n",
      "\n",
      "\n",
      "A provision of the Senate immigration bill would require you to have government permission to get a second job.\n",
      "[\n",
      "  {\n",
      "    \"answer\": \"Senate \",\n",
      "    \"question\": \"What bill would require you to have government permission to get a second job?\"\n",
      "  }\n",
      "]\n",
      "\n",
      "\n",
      "\"In 1968, a full-time worker earning minimum wage, could actually support a family of three above the poverty line. Today, that same worker would earn less than the poverty line for a family of two.\"\n",
      "[\n",
      "  {\n",
      "    \"answer\": \"a full-time worker earning minimum wage \",\n",
      "    \"question\": \"What was the name of the person who would support a family of three above the poverty line in 1968?\"\n",
      "  },\n",
      "  {\n",
      "    \"answer\": \" a family of three above the poverty line \",\n",
      "    \"question\": \"What would a full-time worker support in 1968?\"\n",
      "  },\n",
      "  {\n",
      "    \"answer\": \"less \",\n",
      "    \"question\": \"What would a full-time worker earn today than the poverty line for a family of two?\"\n",
      "  }\n",
      "]\n",
      "\n",
      "\n",
      "Sen. Sherrod Brown \"has chosen to side with Washington bureaucrats and fringe extremists in the attacks on our natural resources.\"\n",
      "[\n",
      "  {\n",
      "    \"answer\": \"Sen. Sherrod Brown \",\n",
      "    \"question\": \"Who has chosen to side with Washington bureaucrats and fringe extremists?\"\n",
      "  },\n",
      "  {\n",
      "    \"answer\": \" Washington bureaucrats and fringe extremists \",\n",
      "    \"question\": \"Who did Brown side with in the attacks on our natural resources?\"\n",
      "  }\n",
      "]\n",
      "\n",
      "\n",
      "Women \"own just 1 percent of the world’s land.\"\n",
      "[\n",
      "  {\n",
      "    \"answer\": \"1 percent \",\n",
      "    \"question\": \"How much of the world's land does women own?\"\n",
      "  }\n",
      "]\n",
      "\n",
      "\n"
     ]
    }
   ],
   "source": [
    "for claim in phase2_dataset.claims[:25]:\n",
    "    print(claim.claim)\n",
    "    print(json.dumps(nlp(claim.claim), indent=2))\n",
    "    print()\n",
    "    print()"
   ]
  },
  {
   "cell_type": "code",
   "execution_count": null,
   "metadata": {},
   "outputs": [],
   "source": []
  }
 ],
 "metadata": {
  "kernelspec": {
   "display_name": "Python 3",
   "language": "python",
   "name": "python3"
  },
  "language_info": {
   "codemirror_mode": {
    "name": "ipython",
    "version": 3
   },
   "file_extension": ".py",
   "mimetype": "text/x-python",
   "name": "python",
   "nbconvert_exporter": "python",
   "pygments_lexer": "ipython3",
   "version": "3.7.7"
  }
 },
 "nbformat": 4,
 "nbformat_minor": 4
}
