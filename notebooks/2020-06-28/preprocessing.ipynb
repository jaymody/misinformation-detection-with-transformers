{
 "cells": [
  {
   "cell_type": "markdown",
   "metadata": {},
   "source": [
    "# Preprocess Phase1\n",
    "---"
   ]
  },
  {
   "cell_type": "code",
   "execution_count": null,
   "metadata": {},
   "outputs": [],
   "source": [
    "import os\n",
    "\n",
    "from valerie.data import claims_from_phase1, articles_from_phase1, save_claims, save_articles"
   ]
  },
  {
   "cell_type": "code",
   "execution_count": null,
   "metadata": {},
   "outputs": [],
   "source": [
    "def preprocess_phase1(data_dir, nproc=1):    \n",
    "    claims = claims_from_phase1(os.path.join(data_dir, \"metadata.json\"))\n",
    "\n",
    "    print(\"num claims:\", len(claims))\n",
    "    print(list(claims.values())[0])\n",
    "    print()\n",
    "\n",
    "    articles = articles_from_phase1(os.path.join(data_dir, \"articles\"), nproc=nproc)\n",
    "    \n",
    "    print(\"num articles:\", len(articles))\n",
    "    print(list(articles.values())[0])\n",
    "    print()\n",
    "    \n",
    "    save_claims(claims, os.path.join(data_dir, \"claims.json\"), indent=2)\n",
    "    save_articles(articles, os.path.join(data_dir, \"articles.json\"), indent=2)"
   ]
  },
  {
   "cell_type": "code",
   "execution_count": null,
   "metadata": {},
   "outputs": [],
   "source": [
    "preprocess_phase1(\"data/phase1/all-data\", nproc=6)"
   ]
  },
  {
   "cell_type": "markdown",
   "metadata": {},
   "source": [
    "# Preprocess Phase2\n",
    "---"
   ]
  },
  {
   "cell_type": "code",
   "execution_count": null,
   "metadata": {},
   "outputs": [],
   "source": [
    "import os\n",
    "\n",
    "from valerie.data import claims_from_phase2, articles_from_phase2, save_claims, save_articles"
   ]
  },
  {
   "cell_type": "code",
   "execution_count": null,
   "metadata": {},
   "outputs": [],
   "source": [
    "def preprocess_phase2(data_dir, nproc=1):    \n",
    "    claims = claims_from_phase2(os.path.join(data_dir, \"metadata.json\"))\n",
    "    \n",
    "    print(\"num claims:\", len(claims))\n",
    "    print(list(claims.values())[0])\n",
    "    print()\n",
    "    \n",
    "    articles = articles_from_phase2(os.path.join(data_dir, \"articles\"), claims, nproc=nproc)\n",
    "    \n",
    "    print(\"num articles:\", len(articles))\n",
    "    print(list(articles.values())[0])\n",
    "    print()\n",
    "    \n",
    "    save_claims(claims, os.path.join(data_dir, \"claims.json\"), indent=2)\n",
    "    save_articles(articles, os.path.join(data_dir, \"articles.json\"), indent=2)"
   ]
  },
  {
   "cell_type": "code",
   "execution_count": null,
   "metadata": {
    "tags": []
   },
   "outputs": [],
   "source": [
    "preprocess_phase2(\"data/phase2/4-data\")"
   ]
  },
  {
   "cell_type": "markdown",
   "metadata": {},
   "source": [
    "# Trim Phase1\n",
    "---"
   ]
  },
  {
   "cell_type": "code",
   "execution_count": null,
   "metadata": {},
   "outputs": [],
   "source": [
    "from valerie.utils import get_logger\n",
    "from valerie.data import trim_metadata_phase1"
   ]
  },
  {
   "cell_type": "code",
   "execution_count": null,
   "metadata": {},
   "outputs": [],
   "source": [
    "_logger = get_logger()"
   ]
  },
  {
   "cell_type": "code",
   "execution_count": null,
   "metadata": {
    "tags": []
   },
   "outputs": [],
   "source": [
    "trim_metadata_phase1(\n",
    "    claims_file=\"data/phase1/all-data/metadata.json\", \n",
    "    articles_dir=\"data/phase1/all-data/articles\", \n",
    "    output_dir=\"data/phase1/4-data\", \n",
    "    n_examples=4\n",
    ")"
   ]
  },
  {
   "cell_type": "markdown",
   "metadata": {},
   "source": [
    "# Trim Phase2\n",
    "---"
   ]
  },
  {
   "cell_type": "code",
   "execution_count": null,
   "metadata": {},
   "outputs": [],
   "source": [
    "from valerie.utils import get_logger\n",
    "from valerie.data import trim_metadata_phase2"
   ]
  },
  {
   "cell_type": "code",
   "execution_count": null,
   "metadata": {},
   "outputs": [],
   "source": [
    "_logger = get_logger()"
   ]
  },
  {
   "cell_type": "code",
   "execution_count": null,
   "metadata": {},
   "outputs": [],
   "source": [
    "trim_metadata_phase2(\n",
    "    claims_file=\"data/phase2/all-data/metadata.json\", \n",
    "    articles_dir=\"data/phase2/all-data/articles\", \n",
    "    output_dir=\"data/phase2/4-data\", \n",
    "    n_examples=4\n",
    ")"
   ]
  },
  {
   "cell_type": "markdown",
   "metadata": {},
   "source": [
    "# Train Test Split Phase2\n",
    "---"
   ]
  },
  {
   "cell_type": "code",
   "execution_count": null,
   "metadata": {},
   "outputs": [],
   "source": [
    "from valerie.utils import get_logger\n",
    "from valerie.data import train_test_split_phase2"
   ]
  },
  {
   "cell_type": "code",
   "execution_count": null,
   "metadata": {},
   "outputs": [],
   "source": [
    "_logger = get_logger(\"data/phase2/split.log\")"
   ]
  },
  {
   "cell_type": "code",
   "execution_count": null,
   "metadata": {},
   "outputs": [],
   "source": [
    "train_test_split_phase2(\n",
    "    claims_file=\"data/phase2/all-data/metadata.json\", \n",
    "    articles_dir=\"data/phase2/all-data/articles\", \n",
    "    train_dir=\"data/phase2/train-data\", \n",
    "    test_dir=\"data/phase2/test-data\", \n",
    "    train_size=0.95,\n",
    "    random_state=42,\n",
    ")"
   ]
  },
  {
   "cell_type": "markdown",
   "metadata": {},
   "source": [
    "# Modify (Null, Default, Missing)\n",
    "---"
   ]
  },
  {
   "cell_type": "code",
   "execution_count": null,
   "metadata": {},
   "outputs": [],
   "source": [
    "import os\n",
    "import copy\n",
    "import json"
   ]
  },
  {
   "cell_type": "code",
   "execution_count": null,
   "metadata": {},
   "outputs": [],
   "source": [
    "data_dir = \"data/phase2/test-data\""
   ]
  },
  {
   "cell_type": "code",
   "execution_count": null,
   "metadata": {},
   "outputs": [],
   "source": [
    "with open(os.path.join(data_dir, \"metadata.json\")) as fi:\n",
    "    metadata = json.load(fi)"
   ]
  },
  {
   "cell_type": "code",
   "execution_count": null,
   "metadata": {},
   "outputs": [],
   "source": [
    "# null\n",
    "_metadata = copy.deepcopy(metadata)\n",
    "\n",
    "for claim in _metadata:\n",
    "    claim[\"label\"] = None\n",
    "    claim[\"related_articles\"] = None\n",
    "\n",
    "print(json.dumps(_metadata[0], indent=2))\n",
    "\n",
    "with open(os.path.join(data_dir, \"metadata-null.json\"), 'w') as fo:\n",
    "    json.dump(_metadata, fo, indent=2)"
   ]
  },
  {
   "cell_type": "code",
   "execution_count": null,
   "metadata": {},
   "outputs": [],
   "source": [
    "# default\n",
    "_metadata = copy.deepcopy(metadata)\n",
    "\n",
    "for claim in _metadata:\n",
    "    claim[\"label\"] = 0\n",
    "    claim[\"related_articles\"] = []\n",
    "\n",
    "print(json.dumps(_metadata[0], indent=2))\n",
    "\n",
    "with open(os.path.join(data_dir, \"metadata-default.json\"), 'w') as fo:\n",
    "    json.dump(_metadata, fo, indent=2)"
   ]
  },
  {
   "cell_type": "code",
   "execution_count": null,
   "metadata": {},
   "outputs": [],
   "source": [
    "# missing\n",
    "_metadata = copy.deepcopy(metadata)\n",
    "\n",
    "for claim in _metadata:\n",
    "    del claim[\"label\"]\n",
    "    del claim[\"related_articles\"]\n",
    "\n",
    "print(json.dumps(_metadata[0], indent=2))\n",
    "\n",
    "with open(os.path.join(data_dir, \"metadata-missing.json\"), 'w') as fo:\n",
    "    json.dump(_metadata, fo, indent=2)"
   ]
  }
 ],
 "metadata": {
  "kernelspec": {
   "display_name": "Python 3",
   "language": "python",
   "name": "python3"
  },
  "language_info": {
   "codemirror_mode": {
    "name": "ipython",
    "version": 3
   },
   "file_extension": ".py",
   "mimetype": "text/x-python",
   "name": "python",
   "nbconvert_exporter": "python",
   "pygments_lexer": "ipython3",
   "version": "3.7.5"
  }
 },
 "nbformat": 4,
 "nbformat_minor": 4
}
