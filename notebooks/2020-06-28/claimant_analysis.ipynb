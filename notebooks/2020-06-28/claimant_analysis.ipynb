{
 "cells": [
  {
   "cell_type": "code",
   "execution_count": 1,
   "metadata": {},
   "outputs": [],
   "source": [
    "import json\n",
    "import statistics\n",
    "\n",
    "import numpy as np\n",
    "from sklearn.metrics import classification_report\n",
    "from sklearn.model_selection import train_test_split\n",
    "\n",
    "from valerie.data import Claim\n",
    "from valerie.modeling import ClaimantModel"
   ]
  },
  {
   "cell_type": "markdown",
   "metadata": {},
   "source": [
    "# Phase 1\n",
    "---"
   ]
  },
  {
   "cell_type": "code",
   "execution_count": 2,
   "metadata": {},
   "outputs": [],
   "source": [
    "with open(\"data/phase1/all_data/metadata.json\") as fi:\n",
    "    claims = [Claim.from_dict(claim) for claim in json.load(fi)]"
   ]
  },
  {
   "cell_type": "code",
   "execution_count": 3,
   "metadata": {},
   "outputs": [],
   "source": [
    "df = ClaimantModel.analyze(claims, min_threshold=10, return_df=True)"
   ]
  },
  {
   "cell_type": "code",
   "execution_count": 4,
   "metadata": {},
   "outputs": [
    {
     "data": {
      "text/plain": [
       "{'min': 0.0,\n",
       " 'max': 0.8095238095238095,\n",
       " 'median': 0.4090909090909091,\n",
       " 'mean': 0.360639837247766}"
      ]
     },
     "execution_count": 4,
     "metadata": {},
     "output_type": "execute_result"
    }
   ],
   "source": [
    "metrics = {\n",
    "    \"min\": min(df[\"score\"]),\n",
    "    \"max\": max(df[\"score\"]),\n",
    "    \"median\": statistics.median(df[\"score\"]),\n",
    "    \"mean\": statistics.mean(df[\"score\"]),\n",
    "}\n",
    "metrics"
   ]
  },
  {
   "cell_type": "code",
   "execution_count": 5,
   "metadata": {},
   "outputs": [
    {
     "data": {
      "text/html": [
       "<div>\n",
       "<style scoped>\n",
       "    .dataframe tbody tr th:only-of-type {\n",
       "        vertical-align: middle;\n",
       "    }\n",
       "\n",
       "    .dataframe tbody tr th {\n",
       "        vertical-align: top;\n",
       "    }\n",
       "\n",
       "    .dataframe thead th {\n",
       "        text-align: right;\n",
       "    }\n",
       "</style>\n",
       "<table border=\"1\" class=\"dataframe\">\n",
       "  <thead>\n",
       "    <tr style=\"text-align: right;\">\n",
       "      <th></th>\n",
       "      <th>false</th>\n",
       "      <th>partly</th>\n",
       "      <th>true</th>\n",
       "      <th>score</th>\n",
       "      <th>total</th>\n",
       "    </tr>\n",
       "  </thead>\n",
       "  <tbody>\n",
       "    <tr>\n",
       "      <th>Multiple websites</th>\n",
       "      <td>11</td>\n",
       "      <td>0</td>\n",
       "      <td>0</td>\n",
       "      <td>0.000000</td>\n",
       "      <td>11</td>\n",
       "    </tr>\n",
       "    <tr>\n",
       "      <th>Various websites</th>\n",
       "      <td>106</td>\n",
       "      <td>0</td>\n",
       "      <td>0</td>\n",
       "      <td>0.000000</td>\n",
       "      <td>106</td>\n",
       "    </tr>\n",
       "    <tr>\n",
       "      <th>Viral meme</th>\n",
       "      <td>29</td>\n",
       "      <td>0</td>\n",
       "      <td>0</td>\n",
       "      <td>0.000000</td>\n",
       "      <td>29</td>\n",
       "    </tr>\n",
       "    <tr>\n",
       "      <th>Social media posts</th>\n",
       "      <td>17</td>\n",
       "      <td>0</td>\n",
       "      <td>0</td>\n",
       "      <td>0.000000</td>\n",
       "      <td>17</td>\n",
       "    </tr>\n",
       "    <tr>\n",
       "      <th>multiple sources</th>\n",
       "      <td>69</td>\n",
       "      <td>1</td>\n",
       "      <td>0</td>\n",
       "      <td>0.007143</td>\n",
       "      <td>70</td>\n",
       "    </tr>\n",
       "    <tr>\n",
       "      <th>AFP Fact Check</th>\n",
       "      <td>18</td>\n",
       "      <td>1</td>\n",
       "      <td>0</td>\n",
       "      <td>0.026316</td>\n",
       "      <td>19</td>\n",
       "    </tr>\n",
       "    <tr>\n",
       "      <th>YourNewsWire.com</th>\n",
       "      <td>13</td>\n",
       "      <td>1</td>\n",
       "      <td>0</td>\n",
       "      <td>0.035714</td>\n",
       "      <td>14</td>\n",
       "    </tr>\n",
       "    <tr>\n",
       "      <th>Michele Bachmann</th>\n",
       "      <td>12</td>\n",
       "      <td>1</td>\n",
       "      <td>0</td>\n",
       "      <td>0.038462</td>\n",
       "      <td>13</td>\n",
       "    </tr>\n",
       "    <tr>\n",
       "      <th>Viral image</th>\n",
       "      <td>115</td>\n",
       "      <td>12</td>\n",
       "      <td>0</td>\n",
       "      <td>0.047244</td>\n",
       "      <td>127</td>\n",
       "    </tr>\n",
       "    <tr>\n",
       "      <th>Multiple sources</th>\n",
       "      <td>43</td>\n",
       "      <td>7</td>\n",
       "      <td>0</td>\n",
       "      <td>0.070000</td>\n",
       "      <td>50</td>\n",
       "    </tr>\n",
       "  </tbody>\n",
       "</table>\n",
       "</div>"
      ],
      "text/plain": [
       "                    false  partly  true     score  total\n",
       "Multiple websites      11       0     0  0.000000     11\n",
       "Various websites      106       0     0  0.000000    106\n",
       "Viral meme             29       0     0  0.000000     29\n",
       "Social media posts     17       0     0  0.000000     17\n",
       "multiple sources       69       1     0  0.007143     70\n",
       "AFP Fact Check         18       1     0  0.026316     19\n",
       "YourNewsWire.com       13       1     0  0.035714     14\n",
       "Michele Bachmann       12       1     0  0.038462     13\n",
       "Viral image           115      12     0  0.047244    127\n",
       "Multiple sources       43       7     0  0.070000     50"
      ]
     },
     "execution_count": 5,
     "metadata": {},
     "output_type": "execute_result"
    }
   ],
   "source": [
    "df[:10]"
   ]
  },
  {
   "cell_type": "code",
   "execution_count": 6,
   "metadata": {},
   "outputs": [
    {
     "data": {
      "text/html": [
       "<div>\n",
       "<style scoped>\n",
       "    .dataframe tbody tr th:only-of-type {\n",
       "        vertical-align: middle;\n",
       "    }\n",
       "\n",
       "    .dataframe tbody tr th {\n",
       "        vertical-align: top;\n",
       "    }\n",
       "\n",
       "    .dataframe thead th {\n",
       "        text-align: right;\n",
       "    }\n",
       "</style>\n",
       "<table border=\"1\" class=\"dataframe\">\n",
       "  <thead>\n",
       "    <tr style=\"text-align: right;\">\n",
       "      <th></th>\n",
       "      <th>false</th>\n",
       "      <th>partly</th>\n",
       "      <th>true</th>\n",
       "      <th>score</th>\n",
       "      <th>total</th>\n",
       "    </tr>\n",
       "  </thead>\n",
       "  <tbody>\n",
       "    <tr>\n",
       "      <th>Cory Booker</th>\n",
       "      <td>2</td>\n",
       "      <td>6</td>\n",
       "      <td>3</td>\n",
       "      <td>0.545455</td>\n",
       "      <td>11</td>\n",
       "    </tr>\n",
       "    <tr>\n",
       "      <th>Tim Kaine</th>\n",
       "      <td>5</td>\n",
       "      <td>25</td>\n",
       "      <td>9</td>\n",
       "      <td>0.551282</td>\n",
       "      <td>39</td>\n",
       "    </tr>\n",
       "    <tr>\n",
       "      <th>Jeb Bush</th>\n",
       "      <td>6</td>\n",
       "      <td>40</td>\n",
       "      <td>12</td>\n",
       "      <td>0.551724</td>\n",
       "      <td>58</td>\n",
       "    </tr>\n",
       "    <tr>\n",
       "      <th>Mark Pocan</th>\n",
       "      <td>3</td>\n",
       "      <td>8</td>\n",
       "      <td>5</td>\n",
       "      <td>0.562500</td>\n",
       "      <td>16</td>\n",
       "    </tr>\n",
       "    <tr>\n",
       "      <th>Democratic National Committee</th>\n",
       "      <td>0</td>\n",
       "      <td>18</td>\n",
       "      <td>3</td>\n",
       "      <td>0.571429</td>\n",
       "      <td>21</td>\n",
       "    </tr>\n",
       "    <tr>\n",
       "      <th>William Ruto</th>\n",
       "      <td>2</td>\n",
       "      <td>6</td>\n",
       "      <td>4</td>\n",
       "      <td>0.583333</td>\n",
       "      <td>12</td>\n",
       "    </tr>\n",
       "    <tr>\n",
       "      <th>Sherrod Brown</th>\n",
       "      <td>2</td>\n",
       "      <td>6</td>\n",
       "      <td>5</td>\n",
       "      <td>0.615385</td>\n",
       "      <td>13</td>\n",
       "    </tr>\n",
       "    <tr>\n",
       "      <th>Andrew Cuomo</th>\n",
       "      <td>3</td>\n",
       "      <td>9</td>\n",
       "      <td>8</td>\n",
       "      <td>0.625000</td>\n",
       "      <td>20</td>\n",
       "    </tr>\n",
       "    <tr>\n",
       "      <th>Gavin Newsom</th>\n",
       "      <td>1</td>\n",
       "      <td>10</td>\n",
       "      <td>6</td>\n",
       "      <td>0.647059</td>\n",
       "      <td>17</td>\n",
       "    </tr>\n",
       "    <tr>\n",
       "      <th>President Cyril Ramaphosa</th>\n",
       "      <td>3</td>\n",
       "      <td>2</td>\n",
       "      <td>16</td>\n",
       "      <td>0.809524</td>\n",
       "      <td>21</td>\n",
       "    </tr>\n",
       "  </tbody>\n",
       "</table>\n",
       "</div>"
      ],
      "text/plain": [
       "                               false  partly  true     score  total\n",
       "Cory Booker                        2       6     3  0.545455     11\n",
       "Tim Kaine                          5      25     9  0.551282     39\n",
       "Jeb Bush                           6      40    12  0.551724     58\n",
       "Mark Pocan                         3       8     5  0.562500     16\n",
       "Democratic National Committee      0      18     3  0.571429     21\n",
       "William Ruto                       2       6     4  0.583333     12\n",
       "Sherrod Brown                      2       6     5  0.615385     13\n",
       "Andrew Cuomo                       3       9     8  0.625000     20\n",
       "Gavin Newsom                       1      10     6  0.647059     17\n",
       "President Cyril Ramaphosa          3       2    16  0.809524     21"
      ]
     },
     "execution_count": 6,
     "metadata": {},
     "output_type": "execute_result"
    }
   ],
   "source": [
    "df[-10:]"
   ]
  },
  {
   "cell_type": "code",
   "execution_count": 7,
   "metadata": {},
   "outputs": [
    {
     "data": {
      "text/plain": [
       "false     3034.000000\n",
       "partly    1287.000000\n",
       "true       641.000000\n",
       "score        0.258867\n",
       "total     4962.000000\n",
       "Name: , dtype: float64"
      ]
     },
     "execution_count": 7,
     "metadata": {},
     "output_type": "execute_result"
    }
   ],
   "source": [
    "df.loc[\"\"]"
   ]
  },
  {
   "cell_type": "code",
   "execution_count": 8,
   "metadata": {},
   "outputs": [
    {
     "data": {
      "text/plain": [
       "0.31899710703953715"
      ]
     },
     "execution_count": 8,
     "metadata": {},
     "output_type": "execute_result"
    }
   ],
   "source": [
    "df.loc[\"\"][\"total\"] / len(claims)"
   ]
  },
  {
   "cell_type": "markdown",
   "metadata": {},
   "source": [
    "# Phase2\n",
    "---"
   ]
  },
  {
   "cell_type": "code",
   "execution_count": 9,
   "metadata": {},
   "outputs": [],
   "source": [
    "with open(\"data/phase2/all_data/metadata.json\") as fi:\n",
    "    claims = [Claim.from_dict(claim) for claim in json.load(fi)]"
   ]
  },
  {
   "cell_type": "code",
   "execution_count": 10,
   "metadata": {},
   "outputs": [],
   "source": [
    "df = ClaimantModel.analyze(claims, min_threshold=10, return_df=True)"
   ]
  },
  {
   "cell_type": "code",
   "execution_count": 11,
   "metadata": {},
   "outputs": [
    {
     "data": {
      "text/plain": [
       "{'min': 0.0,\n",
       " 'max': 0.8181818181818182,\n",
       " 'median': 0.43333333333333335,\n",
       " 'mean': 0.41360425923792143}"
      ]
     },
     "execution_count": 11,
     "metadata": {},
     "output_type": "execute_result"
    }
   ],
   "source": [
    "metrics = {\n",
    "    \"min\": min(df[\"score\"]),\n",
    "    \"max\": max(df[\"score\"]),\n",
    "    \"median\": statistics.median(df[\"score\"]),\n",
    "    \"mean\": statistics.mean(df[\"score\"]),\n",
    "}\n",
    "metrics"
   ]
  },
  {
   "cell_type": "code",
   "execution_count": 12,
   "metadata": {},
   "outputs": [
    {
     "data": {
      "text/html": [
       "<div>\n",
       "<style scoped>\n",
       "    .dataframe tbody tr th:only-of-type {\n",
       "        vertical-align: middle;\n",
       "    }\n",
       "\n",
       "    .dataframe tbody tr th {\n",
       "        vertical-align: top;\n",
       "    }\n",
       "\n",
       "    .dataframe thead th {\n",
       "        text-align: right;\n",
       "    }\n",
       "</style>\n",
       "<table border=\"1\" class=\"dataframe\">\n",
       "  <thead>\n",
       "    <tr style=\"text-align: right;\">\n",
       "      <th></th>\n",
       "      <th>false</th>\n",
       "      <th>partly</th>\n",
       "      <th>true</th>\n",
       "      <th>score</th>\n",
       "      <th>total</th>\n",
       "    </tr>\n",
       "  </thead>\n",
       "  <tbody>\n",
       "    <tr>\n",
       "      <th>Multiple websites</th>\n",
       "      <td>11</td>\n",
       "      <td>0</td>\n",
       "      <td>0</td>\n",
       "      <td>0.000000</td>\n",
       "      <td>11</td>\n",
       "    </tr>\n",
       "    <tr>\n",
       "      <th>Social media posts</th>\n",
       "      <td>18</td>\n",
       "      <td>0</td>\n",
       "      <td>0</td>\n",
       "      <td>0.000000</td>\n",
       "      <td>18</td>\n",
       "    </tr>\n",
       "    <tr>\n",
       "      <th>Various websites</th>\n",
       "      <td>94</td>\n",
       "      <td>2</td>\n",
       "      <td>0</td>\n",
       "      <td>0.010417</td>\n",
       "      <td>96</td>\n",
       "    </tr>\n",
       "    <tr>\n",
       "      <th>Viral meme</th>\n",
       "      <td>25</td>\n",
       "      <td>1</td>\n",
       "      <td>0</td>\n",
       "      <td>0.019231</td>\n",
       "      <td>26</td>\n",
       "    </tr>\n",
       "    <tr>\n",
       "      <th>YourNewsWire.com</th>\n",
       "      <td>12</td>\n",
       "      <td>1</td>\n",
       "      <td>0</td>\n",
       "      <td>0.038462</td>\n",
       "      <td>13</td>\n",
       "    </tr>\n",
       "    <tr>\n",
       "      <th>Viral image</th>\n",
       "      <td>140</td>\n",
       "      <td>16</td>\n",
       "      <td>0</td>\n",
       "      <td>0.051282</td>\n",
       "      <td>156</td>\n",
       "    </tr>\n",
       "    <tr>\n",
       "      <th>Facebook user</th>\n",
       "      <td>140</td>\n",
       "      <td>12</td>\n",
       "      <td>6</td>\n",
       "      <td>0.075949</td>\n",
       "      <td>158</td>\n",
       "    </tr>\n",
       "    <tr>\n",
       "      <th>Bloggers</th>\n",
       "      <td>288</td>\n",
       "      <td>60</td>\n",
       "      <td>2</td>\n",
       "      <td>0.091429</td>\n",
       "      <td>350</td>\n",
       "    </tr>\n",
       "    <tr>\n",
       "      <th>Chain email</th>\n",
       "      <td>95</td>\n",
       "      <td>16</td>\n",
       "      <td>3</td>\n",
       "      <td>0.096491</td>\n",
       "      <td>114</td>\n",
       "    </tr>\n",
       "    <tr>\n",
       "      <th>Michele Bachmann</th>\n",
       "      <td>29</td>\n",
       "      <td>8</td>\n",
       "      <td>1</td>\n",
       "      <td>0.131579</td>\n",
       "      <td>38</td>\n",
       "    </tr>\n",
       "  </tbody>\n",
       "</table>\n",
       "</div>"
      ],
      "text/plain": [
       "                    false  partly  true     score  total\n",
       "Multiple websites      11       0     0  0.000000     11\n",
       "Social media posts     18       0     0  0.000000     18\n",
       "Various websites       94       2     0  0.010417     96\n",
       "Viral meme             25       1     0  0.019231     26\n",
       "YourNewsWire.com       12       1     0  0.038462     13\n",
       "Viral image           140      16     0  0.051282    156\n",
       "Facebook user         140      12     6  0.075949    158\n",
       "Bloggers              288      60     2  0.091429    350\n",
       "Chain email            95      16     3  0.096491    114\n",
       "Michele Bachmann       29       8     1  0.131579     38"
      ]
     },
     "execution_count": 12,
     "metadata": {},
     "output_type": "execute_result"
    }
   ],
   "source": [
    "df[:10]"
   ]
  },
  {
   "cell_type": "code",
   "execution_count": 13,
   "metadata": {},
   "outputs": [
    {
     "data": {
      "text/html": [
       "<div>\n",
       "<style scoped>\n",
       "    .dataframe tbody tr th:only-of-type {\n",
       "        vertical-align: middle;\n",
       "    }\n",
       "\n",
       "    .dataframe tbody tr th {\n",
       "        vertical-align: top;\n",
       "    }\n",
       "\n",
       "    .dataframe thead th {\n",
       "        text-align: right;\n",
       "    }\n",
       "</style>\n",
       "<table border=\"1\" class=\"dataframe\">\n",
       "  <thead>\n",
       "    <tr style=\"text-align: right;\">\n",
       "      <th></th>\n",
       "      <th>false</th>\n",
       "      <th>partly</th>\n",
       "      <th>true</th>\n",
       "      <th>score</th>\n",
       "      <th>total</th>\n",
       "    </tr>\n",
       "  </thead>\n",
       "  <tbody>\n",
       "    <tr>\n",
       "      <th>Sherrod Brown</th>\n",
       "      <td>3</td>\n",
       "      <td>17</td>\n",
       "      <td>12</td>\n",
       "      <td>0.640625</td>\n",
       "      <td>32</td>\n",
       "    </tr>\n",
       "    <tr>\n",
       "      <th>Lloyd  Doggett</th>\n",
       "      <td>0</td>\n",
       "      <td>10</td>\n",
       "      <td>4</td>\n",
       "      <td>0.642857</td>\n",
       "      <td>14</td>\n",
       "    </tr>\n",
       "    <tr>\n",
       "      <th>Alex Sink</th>\n",
       "      <td>1</td>\n",
       "      <td>7</td>\n",
       "      <td>5</td>\n",
       "      <td>0.653846</td>\n",
       "      <td>13</td>\n",
       "    </tr>\n",
       "    <tr>\n",
       "      <th>Kasim Reed</th>\n",
       "      <td>0</td>\n",
       "      <td>9</td>\n",
       "      <td>4</td>\n",
       "      <td>0.653846</td>\n",
       "      <td>13</td>\n",
       "    </tr>\n",
       "    <tr>\n",
       "      <th>Michael McCaul</th>\n",
       "      <td>0</td>\n",
       "      <td>8</td>\n",
       "      <td>4</td>\n",
       "      <td>0.666667</td>\n",
       "      <td>12</td>\n",
       "    </tr>\n",
       "    <tr>\n",
       "      <th>Paul Krugman</th>\n",
       "      <td>1</td>\n",
       "      <td>5</td>\n",
       "      <td>5</td>\n",
       "      <td>0.681818</td>\n",
       "      <td>11</td>\n",
       "    </tr>\n",
       "    <tr>\n",
       "      <th>Randy Forbes</th>\n",
       "      <td>0</td>\n",
       "      <td>7</td>\n",
       "      <td>4</td>\n",
       "      <td>0.681818</td>\n",
       "      <td>11</td>\n",
       "    </tr>\n",
       "    <tr>\n",
       "      <th>Jerry Brown</th>\n",
       "      <td>0</td>\n",
       "      <td>8</td>\n",
       "      <td>5</td>\n",
       "      <td>0.692308</td>\n",
       "      <td>13</td>\n",
       "    </tr>\n",
       "    <tr>\n",
       "      <th>Julián Castro</th>\n",
       "      <td>0</td>\n",
       "      <td>7</td>\n",
       "      <td>5</td>\n",
       "      <td>0.708333</td>\n",
       "      <td>12</td>\n",
       "    </tr>\n",
       "    <tr>\n",
       "      <th>President Cyril Ramaphosa</th>\n",
       "      <td>3</td>\n",
       "      <td>2</td>\n",
       "      <td>17</td>\n",
       "      <td>0.818182</td>\n",
       "      <td>22</td>\n",
       "    </tr>\n",
       "  </tbody>\n",
       "</table>\n",
       "</div>"
      ],
      "text/plain": [
       "                           false  partly  true     score  total\n",
       "Sherrod Brown                  3      17    12  0.640625     32\n",
       "Lloyd  Doggett                 0      10     4  0.642857     14\n",
       "Alex Sink                      1       7     5  0.653846     13\n",
       "Kasim Reed                     0       9     4  0.653846     13\n",
       "Michael McCaul                 0       8     4  0.666667     12\n",
       "Paul Krugman                   1       5     5  0.681818     11\n",
       "Randy Forbes                   0       7     4  0.681818     11\n",
       "Jerry Brown                    0       8     5  0.692308     13\n",
       "Julián Castro                  0       7     5  0.708333     12\n",
       "President Cyril Ramaphosa      3       2    17  0.818182     22"
      ]
     },
     "execution_count": 13,
     "metadata": {},
     "output_type": "execute_result"
    }
   ],
   "source": [
    "df[-10:]"
   ]
  },
  {
   "cell_type": "code",
   "execution_count": 14,
   "metadata": {},
   "outputs": [
    {
     "data": {
      "text/plain": [
       "false     62.000000\n",
       "partly    13.000000\n",
       "true      18.000000\n",
       "score      0.263441\n",
       "total     93.000000\n",
       "Name: , dtype: float64"
      ]
     },
     "execution_count": 14,
     "metadata": {},
     "output_type": "execute_result"
    }
   ],
   "source": [
    "df.loc[\"\"]"
   ]
  },
  {
   "cell_type": "code",
   "execution_count": 15,
   "metadata": {},
   "outputs": [
    {
     "data": {
      "text/plain": [
       "0.007120434882474542"
      ]
     },
     "execution_count": 15,
     "metadata": {},
     "output_type": "execute_result"
    }
   ],
   "source": [
    "df.loc[\"\"][\"total\"] / len(claims)"
   ]
  },
  {
   "cell_type": "markdown",
   "metadata": {},
   "source": [
    "# Combined\n",
    "---"
   ]
  },
  {
   "cell_type": "code",
   "execution_count": 4,
   "metadata": {},
   "outputs": [],
   "source": [
    "with open(\"data/phase1/all-data/metadata.json\") as fi:\n",
    "    claims = [Claim.from_dict(claim) for claim in json.load(fi)]\n",
    "with open(\"data/phase2/all-data/metadata.json\") as fi:\n",
    "    claims += [Claim.from_dict(claim) for claim in json.load(fi)]"
   ]
  },
  {
   "cell_type": "code",
   "execution_count": 10,
   "metadata": {},
   "outputs": [],
   "source": [
    "df = ClaimantModel.analyze(claims, min_threshold=100, return_df=True)"
   ]
  },
  {
   "cell_type": "code",
   "execution_count": 11,
   "metadata": {},
   "outputs": [
    {
     "data": {
      "text/plain": [
       "{'min': 0.0049504950495049506,\n",
       " 'max': 0.5524193548387096,\n",
       " 'median': 0.4297752808988764,\n",
       " 'mean': 0.3364682398935331}"
      ]
     },
     "execution_count": 11,
     "metadata": {},
     "output_type": "execute_result"
    }
   ],
   "source": [
    "metrics = {\n",
    "    \"min\": min(df[\"score\"]),\n",
    "    \"max\": max(df[\"score\"]),\n",
    "    \"median\": statistics.median(df[\"score\"]),\n",
    "    \"mean\": statistics.mean(df[\"score\"]),\n",
    "}\n",
    "metrics"
   ]
  },
  {
   "cell_type": "code",
   "execution_count": 12,
   "metadata": {},
   "outputs": [
    {
     "data": {
      "text/plain": [
       "23"
      ]
     },
     "execution_count": 12,
     "metadata": {},
     "output_type": "execute_result"
    }
   ],
   "source": [
    "len(df)"
   ]
  },
  {
   "cell_type": "code",
   "execution_count": 13,
   "metadata": {},
   "outputs": [
    {
     "data": {
      "text/html": [
       "<div>\n",
       "<style scoped>\n",
       "    .dataframe tbody tr th:only-of-type {\n",
       "        vertical-align: middle;\n",
       "    }\n",
       "\n",
       "    .dataframe tbody tr th {\n",
       "        vertical-align: top;\n",
       "    }\n",
       "\n",
       "    .dataframe thead th {\n",
       "        text-align: right;\n",
       "    }\n",
       "</style>\n",
       "<table border=\"1\" class=\"dataframe\">\n",
       "  <thead>\n",
       "    <tr style=\"text-align: right;\">\n",
       "      <th></th>\n",
       "      <th>false</th>\n",
       "      <th>partly</th>\n",
       "      <th>true</th>\n",
       "      <th>score</th>\n",
       "      <th>total</th>\n",
       "    </tr>\n",
       "  </thead>\n",
       "  <tbody>\n",
       "    <tr>\n",
       "      <th>Various websites</th>\n",
       "      <td>200</td>\n",
       "      <td>2</td>\n",
       "      <td>0</td>\n",
       "      <td>0.004950</td>\n",
       "      <td>202</td>\n",
       "    </tr>\n",
       "    <tr>\n",
       "      <th>Viral image</th>\n",
       "      <td>255</td>\n",
       "      <td>28</td>\n",
       "      <td>0</td>\n",
       "      <td>0.049470</td>\n",
       "      <td>283</td>\n",
       "    </tr>\n",
       "    <tr>\n",
       "      <th>Facebook user</th>\n",
       "      <td>198</td>\n",
       "      <td>21</td>\n",
       "      <td>10</td>\n",
       "      <td>0.089520</td>\n",
       "      <td>229</td>\n",
       "    </tr>\n",
       "    <tr>\n",
       "      <th>Bloggers</th>\n",
       "      <td>597</td>\n",
       "      <td>119</td>\n",
       "      <td>6</td>\n",
       "      <td>0.090720</td>\n",
       "      <td>722</td>\n",
       "    </tr>\n",
       "    <tr>\n",
       "      <th>Chain email</th>\n",
       "      <td>156</td>\n",
       "      <td>24</td>\n",
       "      <td>5</td>\n",
       "      <td>0.091892</td>\n",
       "      <td>185</td>\n",
       "    </tr>\n",
       "    <tr>\n",
       "      <th>Facebook posts</th>\n",
       "      <td>180</td>\n",
       "      <td>60</td>\n",
       "      <td>8</td>\n",
       "      <td>0.153226</td>\n",
       "      <td>248</td>\n",
       "    </tr>\n",
       "    <tr>\n",
       "      <th>Donald Trump</th>\n",
       "      <td>1222</td>\n",
       "      <td>665</td>\n",
       "      <td>47</td>\n",
       "      <td>0.196225</td>\n",
       "      <td>1934</td>\n",
       "    </tr>\n",
       "    <tr>\n",
       "      <th></th>\n",
       "      <td>3096</td>\n",
       "      <td>1300</td>\n",
       "      <td>659</td>\n",
       "      <td>0.258952</td>\n",
       "      <td>5055</td>\n",
       "    </tr>\n",
       "    <tr>\n",
       "      <th>Mike Pence</th>\n",
       "      <td>48</td>\n",
       "      <td>54</td>\n",
       "      <td>6</td>\n",
       "      <td>0.305556</td>\n",
       "      <td>108</td>\n",
       "    </tr>\n",
       "    <tr>\n",
       "      <th>Ted Cruz</th>\n",
       "      <td>76</td>\n",
       "      <td>135</td>\n",
       "      <td>11</td>\n",
       "      <td>0.353604</td>\n",
       "      <td>222</td>\n",
       "    </tr>\n",
       "  </tbody>\n",
       "</table>\n",
       "</div>"
      ],
      "text/plain": [
       "                  false  partly  true     score  total\n",
       "Various websites    200       2     0  0.004950    202\n",
       "Viral image         255      28     0  0.049470    283\n",
       "Facebook user       198      21    10  0.089520    229\n",
       "Bloggers            597     119     6  0.090720    722\n",
       "Chain email         156      24     5  0.091892    185\n",
       "Facebook posts      180      60     8  0.153226    248\n",
       "Donald Trump       1222     665    47  0.196225   1934\n",
       "                   3096    1300   659  0.258952   5055\n",
       "Mike Pence           48      54     6  0.305556    108\n",
       "Ted Cruz             76     135    11  0.353604    222"
      ]
     },
     "execution_count": 13,
     "metadata": {},
     "output_type": "execute_result"
    }
   ],
   "source": [
    "df[:10]"
   ]
  },
  {
   "cell_type": "code",
   "execution_count": 14,
   "metadata": {},
   "outputs": [
    {
     "data": {
      "text/html": [
       "<div>\n",
       "<style scoped>\n",
       "    .dataframe tbody tr th:only-of-type {\n",
       "        vertical-align: middle;\n",
       "    }\n",
       "\n",
       "    .dataframe tbody tr th {\n",
       "        vertical-align: top;\n",
       "    }\n",
       "\n",
       "    .dataframe thead th {\n",
       "        text-align: right;\n",
       "    }\n",
       "</style>\n",
       "<table border=\"1\" class=\"dataframe\">\n",
       "  <thead>\n",
       "    <tr style=\"text-align: right;\">\n",
       "      <th></th>\n",
       "      <th>false</th>\n",
       "      <th>partly</th>\n",
       "      <th>true</th>\n",
       "      <th>score</th>\n",
       "      <th>total</th>\n",
       "    </tr>\n",
       "  </thead>\n",
       "  <tbody>\n",
       "    <tr>\n",
       "      <th>Scott Walker</th>\n",
       "      <td>57</td>\n",
       "      <td>138</td>\n",
       "      <td>31</td>\n",
       "      <td>0.442478</td>\n",
       "      <td>226</td>\n",
       "    </tr>\n",
       "    <tr>\n",
       "      <th>Marco Rubio</th>\n",
       "      <td>48</td>\n",
       "      <td>158</td>\n",
       "      <td>23</td>\n",
       "      <td>0.445415</td>\n",
       "      <td>229</td>\n",
       "    </tr>\n",
       "    <tr>\n",
       "      <th>Rick Perry</th>\n",
       "      <td>52</td>\n",
       "      <td>106</td>\n",
       "      <td>32</td>\n",
       "      <td>0.447368</td>\n",
       "      <td>190</td>\n",
       "    </tr>\n",
       "    <tr>\n",
       "      <th>John McCain</th>\n",
       "      <td>54</td>\n",
       "      <td>117</td>\n",
       "      <td>37</td>\n",
       "      <td>0.459135</td>\n",
       "      <td>208</td>\n",
       "    </tr>\n",
       "    <tr>\n",
       "      <th>Paul Ryan</th>\n",
       "      <td>19</td>\n",
       "      <td>90</td>\n",
       "      <td>13</td>\n",
       "      <td>0.475410</td>\n",
       "      <td>122</td>\n",
       "    </tr>\n",
       "    <tr>\n",
       "      <th>Bernie Sanders</th>\n",
       "      <td>28</td>\n",
       "      <td>157</td>\n",
       "      <td>27</td>\n",
       "      <td>0.497642</td>\n",
       "      <td>212</td>\n",
       "    </tr>\n",
       "    <tr>\n",
       "      <th>Hillary Clinton</th>\n",
       "      <td>90</td>\n",
       "      <td>259</td>\n",
       "      <td>88</td>\n",
       "      <td>0.497712</td>\n",
       "      <td>437</td>\n",
       "    </tr>\n",
       "    <tr>\n",
       "      <th>Barack Obama</th>\n",
       "      <td>107</td>\n",
       "      <td>438</td>\n",
       "      <td>110</td>\n",
       "      <td>0.502290</td>\n",
       "      <td>655</td>\n",
       "    </tr>\n",
       "    <tr>\n",
       "      <th>Charlie Crist</th>\n",
       "      <td>11</td>\n",
       "      <td>78</td>\n",
       "      <td>18</td>\n",
       "      <td>0.532710</td>\n",
       "      <td>107</td>\n",
       "    </tr>\n",
       "    <tr>\n",
       "      <th>Jeb Bush</th>\n",
       "      <td>12</td>\n",
       "      <td>87</td>\n",
       "      <td>25</td>\n",
       "      <td>0.552419</td>\n",
       "      <td>124</td>\n",
       "    </tr>\n",
       "  </tbody>\n",
       "</table>\n",
       "</div>"
      ],
      "text/plain": [
       "                 false  partly  true     score  total\n",
       "Scott Walker        57     138    31  0.442478    226\n",
       "Marco Rubio         48     158    23  0.445415    229\n",
       "Rick Perry          52     106    32  0.447368    190\n",
       "John McCain         54     117    37  0.459135    208\n",
       "Paul Ryan           19      90    13  0.475410    122\n",
       "Bernie Sanders      28     157    27  0.497642    212\n",
       "Hillary Clinton     90     259    88  0.497712    437\n",
       "Barack Obama       107     438   110  0.502290    655\n",
       "Charlie Crist       11      78    18  0.532710    107\n",
       "Jeb Bush            12      87    25  0.552419    124"
      ]
     },
     "execution_count": 14,
     "metadata": {},
     "output_type": "execute_result"
    }
   ],
   "source": [
    "df[-10:]"
   ]
  },
  {
   "cell_type": "code",
   "execution_count": 15,
   "metadata": {},
   "outputs": [
    {
     "data": {
      "text/plain": [
       "false     3096.000000\n",
       "partly    1300.000000\n",
       "true       659.000000\n",
       "score        0.258952\n",
       "total     5055.000000\n",
       "Name: , dtype: float64"
      ]
     },
     "execution_count": 15,
     "metadata": {},
     "output_type": "execute_result"
    }
   ],
   "source": [
    "df.loc[\"\"]"
   ]
  },
  {
   "cell_type": "code",
   "execution_count": 16,
   "metadata": {},
   "outputs": [
    {
     "data": {
      "text/plain": [
       "0.17664942689404528"
      ]
     },
     "execution_count": 16,
     "metadata": {},
     "output_type": "execute_result"
    }
   ],
   "source": [
    "df.loc[\"\"][\"total\"] / len(claims)"
   ]
  },
  {
   "cell_type": "code",
   "execution_count": 17,
   "metadata": {},
   "outputs": [
    {
     "data": {
      "text/plain": [
       "0.336468239893533"
      ]
     },
     "execution_count": 17,
     "metadata": {},
     "output_type": "execute_result"
    }
   ],
   "source": [
    "sum(df[\"score\"])/len(df)"
   ]
  },
  {
   "cell_type": "markdown",
   "metadata": {},
   "source": [
    "# Classifier\n",
    "---"
   ]
  },
  {
   "cell_type": "code",
   "execution_count": 2,
   "metadata": {},
   "outputs": [],
   "source": [
    "with open(\"data/phase1/all-data/metadata.json\") as fi:\n",
    "    train_claims = [Claim.from_dict(claim) for claim in json.load(fi)]\n",
    "with open(\"data/phase2/train-data/metadata.json\") as fi:\n",
    "    train_claims += [Claim.from_dict(claim) for claim in json.load(fi)]\n",
    "    \n",
    "with open(\"data/phase2/test-data/metadata.json\") as fi:\n",
    "    test_claims = [Claim.from_dict(claim) for claim in json.load(fi)]"
   ]
  },
  {
   "cell_type": "code",
   "execution_count": 3,
   "metadata": {},
   "outputs": [],
   "source": [
    "model = ClaimantModel()\n",
    "model.train(train_claims)"
   ]
  },
  {
   "cell_type": "code",
   "execution_count": 4,
   "metadata": {},
   "outputs": [],
   "source": [
    "predictions = [model.predict(claim) for claim in test_claims]\n",
    "labels = [claim.label for claim in test_claims]"
   ]
  },
  {
   "cell_type": "code",
   "execution_count": 5,
   "metadata": {
    "tags": []
   },
   "outputs": [
    {
     "name": "stdout",
     "output_type": "stream",
     "text": [
      "precision    recall  f1-score   support\n",
      "\n",
      "           0       0.68      0.39      0.49       233\n",
      "           1       0.58      0.89      0.70       338\n",
      "           2       1.00      0.01      0.02        83\n",
      "\n",
      "    accuracy                           0.60       654\n",
      "   macro avg       0.75      0.43      0.41       654\n",
      "weighted avg       0.67      0.60      0.54       654\n",
      "\n"
     ]
    }
   ],
   "source": [
    "# all predictions where non-hits are defaulted to 1 (partly true)\n",
    "_predictions = [np.argmax(p) if p is not None else 1 for p in predictions]\n",
    "print(classification_report(labels, _predictions))"
   ]
  },
  {
   "cell_type": "code",
   "execution_count": 6,
   "metadata": {
    "tags": []
   },
   "outputs": [
    {
     "name": "stdout",
     "output_type": "stream",
     "text": [
      "precision    recall  f1-score   support\n",
      "\n",
      "           0       0.68      0.62      0.65       144\n",
      "           1       0.65      0.81      0.72       205\n",
      "           2       1.00      0.03      0.05        40\n",
      "\n",
      "    accuracy                           0.66       389\n",
      "   macro avg       0.78      0.49      0.48       389\n",
      "weighted avg       0.70      0.66      0.63       389\n",
      "\n"
     ]
    }
   ],
   "source": [
    "# only predictions where the claimant was found\n",
    "_predictions = [np.argmax(p) for p in predictions if p is not None]\n",
    "_labels = [l for l, p in zip(labels, predictions) if p is not None]\n",
    "print(classification_report(_labels, _predictions))"
   ]
  },
  {
   "cell_type": "code",
   "execution_count": 7,
   "metadata": {
    "tags": []
   },
   "outputs": [
    {
     "name": "stdout",
     "output_type": "stream",
     "text": [
      "precision    recall  f1-score   support\n",
      "\n",
      "           0       0.68      0.62      0.65       144\n",
      "           1       0.65      0.81      0.72       205\n",
      "           2       1.00      0.03      0.05        40\n",
      "\n",
      "    accuracy                           0.66       389\n",
      "   macro avg       0.78      0.49      0.48       389\n",
      "weighted avg       0.70      0.66      0.63       389\n",
      "\n"
     ]
    }
   ],
   "source": [
    "model = ClaimantModel()\n",
    "model.train(train_claims, min)\n",
    "\n",
    "predictions = [model.predict(claim) for claim in test_claims]\n",
    "labels = [claim.label for claim in test_claims]\n",
    "\n",
    "\n",
    "# only predictions where the claimant was found\n",
    "_predictions = [np.argmax(p) for p in predictions if p is not None]\n",
    "_labels = [l for l, p in zip(labels, predictions) if p is not None]\n",
    "print(classification_report(_labels, _predictions))"
   ]
  },
  {
   "cell_type": "code",
   "execution_count": 24,
   "metadata": {},
   "outputs": [
    {
     "data": {
      "text/plain": [
       "0.25905761235398933"
      ]
     },
     "execution_count": 24,
     "metadata": {},
     "output_type": "execute_result"
    }
   ],
   "source": [
    "model.score(train_claims[0])"
   ]
  },
  {
   "cell_type": "code",
   "execution_count": null,
   "metadata": {},
   "outputs": [],
   "source": []
  }
 ],
 "metadata": {
  "kernelspec": {
   "display_name": "Python 3",
   "language": "python",
   "name": "python3"
  },
  "language_info": {
   "codemirror_mode": {
    "name": "ipython",
    "version": 3
   },
   "file_extension": ".py",
   "mimetype": "text/x-python",
   "name": "python",
   "nbconvert_exporter": "python",
   "pygments_lexer": "ipython3",
   "version": "3.7.5-final"
  }
 },
 "nbformat": 4,
 "nbformat_minor": 4
}
