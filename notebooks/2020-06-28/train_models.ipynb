{
 "cells": [
  {
   "cell_type": "code",
   "execution_count": 3,
   "metadata": {},
   "outputs": [],
   "source": [
    "import json\n",
    "\n",
    "from valerie.data import Claim, Article\n",
    "from valerie.modeling import SourceModel, ClaimantModel"
   ]
  },
  {
   "cell_type": "code",
   "execution_count": 4,
   "metadata": {},
   "outputs": [],
   "source": [
    "with open(\"data/phase2/train-data/articles.json\") as fi:\n",
    "    articles = {k: Article.from_dict(v) for k, v in json.load(fi).items()}\n",
    "    \n",
    "with open(\"data/phase1/all-data/metadata.json\") as fi:\n",
    "    claims = [Claim.from_dict(claim) for claim in json.load(fi)]\n",
    "with open(\"data/phase2/train-data/metadata.json\") as fi:\n",
    "    claims += [Claim.from_dict(claim) for claim in json.load(fi)]"
   ]
  },
  {
   "cell_type": "markdown",
   "metadata": {},
   "source": [
    "# Claimant Model\n",
    "---"
   ]
  },
  {
   "cell_type": "code",
   "execution_count": 7,
   "metadata": {},
   "outputs": [],
   "source": [
    "model = ClaimantModel()\n",
    "model.train(claims)\n",
    "model.save_pretrained(\"models/claimant_model.json\")"
   ]
  },
  {
   "cell_type": "markdown",
   "metadata": {},
   "source": [
    "# Source Model\n",
    "---"
   ]
  },
  {
   "cell_type": "code",
   "execution_count": 6,
   "metadata": {},
   "outputs": [],
   "source": [
    "model = SourceModel()\n",
    "model.train(list(articles.values()))\n",
    "model.save_pretrained(\"models/source_model.json\")"
   ]
  },
  {
   "cell_type": "code",
   "execution_count": null,
   "metadata": {},
   "outputs": [],
   "source": []
  }
 ],
 "metadata": {
  "kernelspec": {
   "display_name": "Python 3",
   "language": "python",
   "name": "python3"
  },
  "language_info": {
   "codemirror_mode": {
    "name": "ipython",
    "version": 3
   },
   "file_extension": ".py",
   "mimetype": "text/x-python",
   "name": "python",
   "nbconvert_exporter": "python",
   "pygments_lexer": "ipython3",
   "version": "3.7.5"
  }
 },
 "nbformat": 4,
 "nbformat_minor": 4
}
