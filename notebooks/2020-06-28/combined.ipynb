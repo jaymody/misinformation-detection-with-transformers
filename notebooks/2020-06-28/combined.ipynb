{
 "cells": [
  {
   "cell_type": "code",
   "execution_count": 2,
   "metadata": {},
   "outputs": [],
   "source": [
    "import os\n",
    "import copy\n",
    "import json\n",
    "\n",
    "from tqdm import tqdm\n",
    "\n",
    "from valerie.data import load_claims, load_articles, save_claims, save_articles"
   ]
  },
  {
   "cell_type": "code",
   "execution_count": 3,
   "metadata": {},
   "outputs": [
    {
     "name": "stderr",
     "output_type": "stream",
     "text": [
      "loading claims: 100%|██████████| 15555/15555 [00:02<00:00, 7042.45it/s]\n",
      "loading articles: 100%|██████████| 64974/64974 [00:00<00:00, 283761.35it/s]\n",
      "loading claims: 100%|██████████| 13061/13061 [00:01<00:00, 8763.87it/s]\n",
      "loading articles: 100%|██████████| 53299/53299 [00:00<00:00, 65767.30it/s]\n",
      "loading claims: 100%|██████████| 12407/12407 [00:01<00:00, 8847.56it/s]\n",
      "loading articles: 100%|██████████| 50898/50898 [00:00<00:00, 74617.05it/s]\n"
     ]
    }
   ],
   "source": [
    "claims_phase1 = load_claims(\"data/phase1/all-data/claims.json\")\n",
    "articles_phase1 = load_articles(\"data/phase1/all-data/articles.json\")\n",
    "\n",
    "all_claims_phase2 = load_claims(\"data/phase2/all-data/claims.json\")\n",
    "all_articles_phase2 = load_articles(\"data/phase2/all-data/articles.json\")\n",
    "\n",
    "train_claims_phase2 = load_claims(\"data/phase2/train-data/claims.json\")\n",
    "train_articles_phase2 = load_articles(\"data/phase2/train-data/articles.json\")"
   ]
  },
  {
   "cell_type": "code",
   "execution_count": 4,
   "metadata": {},
   "outputs": [
    {
     "data": {
      "text/plain": [
       "17141"
      ]
     },
     "execution_count": 4,
     "metadata": {},
     "output_type": "execute_result"
    }
   ],
   "source": [
    "start = max([int(k) for k in claims_phase1.keys()])\n",
    "start"
   ]
  },
  {
   "cell_type": "code",
   "execution_count": 5,
   "metadata": {},
   "outputs": [
    {
     "data": {
      "text/plain": [
       "13061"
      ]
     },
     "execution_count": 5,
     "metadata": {},
     "output_type": "execute_result"
    }
   ],
   "source": [
    "all_claims_set_phase2 = set(claim.claim for claim in all_claims_phase2.values())\n",
    "len(all_claims_set_phase2)"
   ]
  },
  {
   "cell_type": "code",
   "execution_count": 6,
   "metadata": {},
   "outputs": [
    {
     "name": "stderr",
     "output_type": "stream",
     "text": [
      "100%|██████████| 15555/15555 [00:00<00:00, 81687.07it/s]\n"
     ]
    }
   ],
   "source": [
    "unique_claims_phase1 = {}\n",
    "\n",
    "start = max([int(k) for k in claims_phase1.keys()])*2 + 1\n",
    "for claim in tqdm(claims_phase1.values()):\n",
    "    if claim.claim in all_claims_set_phase2:\n",
    "        continue\n",
    "    unique_claims_phase1[start] = copy.deepcopy(claim)\n",
    "    unique_claims_phase1[start].id = start\n",
    "    start += 1"
   ]
  },
  {
   "cell_type": "code",
   "execution_count": 7,
   "metadata": {},
   "outputs": [
    {
     "name": "stdout",
     "output_type": "stream",
     "text": [
      "15555\n",
      "6946\n",
      "8609\n"
     ]
    }
   ],
   "source": [
    "print(len(claims_phase1))\n",
    "print(len(unique_claims_phase1))\n",
    "print(len(claims_phase1) - len(unique_claims_phase1))"
   ]
  },
  {
   "cell_type": "code",
   "execution_count": 8,
   "metadata": {},
   "outputs": [
    {
     "name": "stderr",
     "output_type": "stream",
     "text": [
      "100%|██████████| 6946/6946 [00:00<00:00, 314485.64it/s]\n"
     ]
    }
   ],
   "source": [
    "unique_articles_phase1 = {}\n",
    "\n",
    "for k, claim in tqdm(unique_claims_phase1.items()):\n",
    "    for art_id in claim.related_articles:\n",
    "        unique_articles_phase1[art_id] = articles_phase1[art_id]"
   ]
  },
  {
   "cell_type": "code",
   "execution_count": 9,
   "metadata": {},
   "outputs": [
    {
     "name": "stdout",
     "output_type": "stream",
     "text": [
      "64974\n",
      "28619\n",
      "36355\n"
     ]
    }
   ],
   "source": [
    "print(len(articles_phase1))\n",
    "print(len(unique_articles_phase1))\n",
    "print(len(articles_phase1) - len(unique_articles_phase1))"
   ]
  },
  {
   "cell_type": "code",
   "execution_count": 10,
   "metadata": {},
   "outputs": [],
   "source": [
    "combined_claims = {**train_claims_phase2, **unique_claims_phase1}\n",
    "combined_articles = {**train_articles_phase2, **unique_articles_phase1}"
   ]
  },
  {
   "cell_type": "code",
   "execution_count": 11,
   "metadata": {},
   "outputs": [
    {
     "name": "stdout",
     "output_type": "stream",
     "text": [
      "19353\n",
      "79517\n"
     ]
    }
   ],
   "source": [
    "print(len(combined_claims))\n",
    "assert len(set(claim.claim for claim in combined_claims.values())) == len(combined_claims)\n",
    "assert len(train_claims_phase2) + len(unique_claims_phase1) == len(combined_claims)\n",
    "print(len(combined_articles))\n",
    "assert len(train_articles_phase2) + len(unique_articles_phase1) == len(combined_articles)"
   ]
  },
  {
   "cell_type": "code",
   "execution_count": 12,
   "metadata": {},
   "outputs": [],
   "source": [
    "save_claims(combined_claims, \"data/combined/phase1-phase2/claims.json\", indent=2)\n",
    "save_articles(combined_articles, \"data/combined/phase1-phase2/articles.json\", indent=2)"
   ]
  },
  {
   "cell_type": "code",
   "execution_count": null,
   "metadata": {},
   "outputs": [],
   "source": []
  }
 ],
 "metadata": {
  "kernelspec": {
   "display_name": "Python 3",
   "language": "python",
   "name": "python3"
  },
  "language_info": {
   "codemirror_mode": {
    "name": "ipython",
    "version": 3
   },
   "file_extension": ".py",
   "mimetype": "text/x-python",
   "name": "python",
   "nbconvert_exporter": "python",
   "pygments_lexer": "ipython3",
   "version": "3.7.5"
  }
 },
 "nbformat": 4,
 "nbformat_minor": 4
}
