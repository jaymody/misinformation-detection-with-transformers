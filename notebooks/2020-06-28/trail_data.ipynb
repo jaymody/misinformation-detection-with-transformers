{
 "cells": [
  {
   "cell_type": "code",
   "execution_count": 41,
   "metadata": {
    "tags": []
   },
   "outputs": [],
   "source": [
    "import json\n",
    "\n",
    "with open(\"data/phase2/trial-data/orig/2_trial_metadata.json\") as fi:\n",
    "    trial_metadata_missing = json.load(fi)\n",
    "with open(\"data/phase2/trial-data/orig/2_trial_labels.json\") as fi:\n",
    "    trial_labels = json.load(fi)\n",
    "with open(\"data/phase2/trial-data/orig/jay-mody.json\") as fi:\n",
    "    trial_predictions = json.load(fi)\n",
    "\n",
    "trial_metadata = [\n",
    "    {\n",
    "        **claim,\n",
    "        \"label\": trial_labels[str(claim[\"id\"])][\"label\"],\n",
    "        \"related_articles\": trial_labels[str(claim[\"id\"])][\"related_articles\"],\n",
    "    }\n",
    "    for claim in trial_metadata_missing\n",
    "]\n",
    "\n",
    "with open(\"data/phase2/trial-data/metadata.json\", 'w') as fo:\n",
    "    json.dump(trial_metadata, fo, indent=2)\n",
    "with open(\"data/phase2/trial-data/metadata-missing.json\", 'w') as fo:\n",
    "    json.dump(trial_metadata_missing, fo, indent=2)\n",
    "with open(\"data/phase2/trial-data/predictions.json\", 'w') as fo:\n",
    "    json.dump(trial_predictions, fo, indent=2)"
   ]
  },
  {
   "cell_type": "code",
   "execution_count": 31,
   "metadata": {},
   "outputs": [],
   "source": []
  },
  {
   "cell_type": "code",
   "execution_count": 44,
   "metadata": {
    "tags": []
   },
   "outputs": [
    {
     "name": "stderr",
     "output_type": "stream",
     "text": [
      "loading claims from phase2: 100%|██████████| 100/100 [00:00<00:00, 5157.02it/s]\n"
     ]
    }
   ],
   "source": [
    "from valerie.data import claims_from_phase2, save_claims\n",
    "\n",
    "claims = claims_from_phase2(\"data/phase2/trial-data/metadata.json\")\n",
    "save_claims(claims, \"data/phase2/trial-data/claims.json\", indent=2)"
   ]
  },
  {
   "cell_type": "code",
   "execution_count": null,
   "metadata": {},
   "outputs": [],
   "source": []
  }
 ],
 "metadata": {
  "kernelspec": {
   "display_name": "Python 3",
   "language": "python",
   "name": "python3"
  },
  "language_info": {
   "codemirror_mode": {
    "name": "ipython",
    "version": 3
   },
   "file_extension": ".py",
   "mimetype": "text/x-python",
   "name": "python",
   "nbconvert_exporter": "python",
   "pygments_lexer": "ipython3",
   "version": "3.7.5"
  }
 },
 "nbformat": 4,
 "nbformat_minor": 4
}
