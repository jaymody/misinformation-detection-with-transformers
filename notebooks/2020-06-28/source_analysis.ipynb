{
 "cells": [
  {
   "cell_type": "code",
   "execution_count": 1,
   "metadata": {},
   "outputs": [
    {
     "name": "stderr",
     "output_type": "stream",
     "text": [
      "/Users/jay/.pyenv/versions/3.7.5/envs/valerie/lib/python3.7/site-packages/pandas/compat/__init__.py:117: UserWarning: Could not import the lzma module. Your installed Python is incomplete. Attempting to use lzma compression will result in a RuntimeError.\n",
      "  warnings.warn(msg)\n"
     ]
    }
   ],
   "source": [
    "import json\n",
    "import statistics\n",
    "\n",
    "import seaborn as sns\n",
    "\n",
    "from valerie.data import Article\n",
    "from valerie.modeling import SourceModel"
   ]
  },
  {
   "cell_type": "markdown",
   "metadata": {},
   "source": [
    "# Phase 1\n",
    "---"
   ]
  },
  {
   "cell_type": "code",
   "execution_count": 2,
   "metadata": {},
   "outputs": [],
   "source": [
    "with open(\"data/phase2/all_data/articles.json\") as fi:\n",
    "    articles = [Article.from_dict(article) for article in json.load(fi).values()]"
   ]
  },
  {
   "cell_type": "code",
   "execution_count": 3,
   "metadata": {},
   "outputs": [
    {
     "data": {
      "text/plain": [
       "7724"
      ]
     },
     "execution_count": 3,
     "metadata": {},
     "output_type": "execute_result"
    }
   ],
   "source": [
    "model = SourceModel.analyze(articles)\n",
    "len(model)"
   ]
  },
  {
   "cell_type": "code",
   "execution_count": 4,
   "metadata": {},
   "outputs": [
    {
     "data": {
      "text/plain": [
       "7724"
      ]
     },
     "execution_count": 4,
     "metadata": {},
     "output_type": "execute_result"
    }
   ],
   "source": [
    "counter = list(sorted(model.items(), key=lambda x: x[1], reverse=True))\n",
    "total_sources = len(counter)\n",
    "total_sources"
   ]
  },
  {
   "cell_type": "code",
   "execution_count": 5,
   "metadata": {},
   "outputs": [
    {
     "data": {
      "text/plain": [
       "53299"
      ]
     },
     "execution_count": 5,
     "metadata": {},
     "output_type": "execute_result"
    }
   ],
   "source": [
    "counts = [v for v in model.values() for i in range(v)]\n",
    "total_articles = len(counts)\n",
    "total_articles"
   ]
  },
  {
   "cell_type": "code",
   "execution_count": 6,
   "metadata": {},
   "outputs": [
    {
     "name": "stdout",
     "output_type": "stream",
     "text": [
      "the top   10 sources ( 0.13%) make up 18.96% of articles\n",
      "the top   20 sources ( 0.26%) make up 27.70% of articles\n",
      "the top   50 sources ( 0.65%) make up 40.72% of articles\n",
      "the top  100 sources ( 1.29%) make up 51.21% of articles\n",
      "the top  200 sources ( 2.59%) make up 61.65% of articles\n",
      "the top  500 sources ( 6.47%) make up 73.38% of articles\n",
      "the top 1000 sources (12.95%) make up 80.78% of articles\n",
      "the top 2500 sources (32.37%) make up 89.20% of articles\n"
     ]
    }
   ],
   "source": [
    "for x in [10, 20, 50, 100, 200, 500, 1000, 2500]:\n",
    "    percent_sources = x / total_sources*100\n",
    "    percent_articles = sum([x[1] for x in counter[:x]]) / total_articles*100\n",
    "    print(f\"the top {x:4} sources ({percent_sources:5.2f}%) make up {percent_articles:.2f}% of articles\")"
   ]
  },
  {
   "cell_type": "code",
   "execution_count": 7,
   "metadata": {},
   "outputs": [
    {
     "data": {
      "text/plain": [
       "<matplotlib.axes._subplots.AxesSubplot at 0x170d13450>"
      ]
     },
     "execution_count": 7,
     "metadata": {},
     "output_type": "execute_result"
    },
    {
     "data": {
      "image/png": "[encoded data removed]",
      "text/plain": [
       "<Figure size 432x288 with 1 Axes>"
      ]
     },
     "metadata": {
      "needs_background": "light"
     },
     "output_type": "display_data"
    }
   ],
   "source": [
    "sns.distplot(counts)"
   ]
  },
  {
   "cell_type": "code",
   "execution_count": 8,
   "metadata": {},
   "outputs": [
    {
     "data": {
      "text/plain": [
       "[('nytimes', 1765),\n",
       " ('cnn', 1150),\n",
       " ('jsonline', 1027),\n",
       " ('senate', 1022),\n",
       " ('state', 977),\n",
       " ('whitehouse', 971),\n",
       " ('tampabay', 896),\n",
       " ('google', 870),\n",
       " ('politico', 790),\n",
       " ('house', 635),\n",
       " ('wsj', 571),\n",
       " ('foxnews', 549),\n",
       " ('usatoday', 493),\n",
       " ('reuters', 475),\n",
       " ('go', 464),\n",
       " ('census', 458),\n",
       " ('thehill', 449),\n",
       " ('npr', 431),\n",
       " ('bls', 391),\n",
       " ('opensecrets', 381)]"
      ]
     },
     "execution_count": 8,
     "metadata": {},
     "output_type": "execute_result"
    }
   ],
   "source": [
    "counter[:20]"
   ]
  },
  {
   "cell_type": "code",
   "execution_count": 9,
   "metadata": {},
   "outputs": [
    {
     "data": {
      "text/plain": [
       "[('tnlottery', 1),\n",
       " ('takuwaniriime', 1),\n",
       " ('g-a-i', 1),\n",
       " ('gunsamerica', 1),\n",
       " ('lindsaynielson', 1),\n",
       " ('digitaltrends', 1),\n",
       " ('ihexecutive', 1),\n",
       " ('current', 1),\n",
       " ('votetexas', 1),\n",
       " ('gvnews', 1)]"
      ]
     },
     "execution_count": 9,
     "metadata": {},
     "output_type": "execute_result"
    }
   ],
   "source": [
    "counter[-10:]"
   ]
  },
  {
   "cell_type": "code",
   "execution_count": 10,
   "metadata": {},
   "outputs": [
    {
     "name": "stdout",
     "output_type": "stream",
     "text": [
      "max:\t 1765\n",
      "mean:\t 6.900440186431901\n",
      "median:\t 1.0\n"
     ]
    }
   ],
   "source": [
    "print(\"max:\\t\", max(model.values()))\n",
    "print(\"mean:\\t\", sum(model.values())/len(model))\n",
    "print(\"median:\\t\", statistics.median(model.values()))"
   ]
  },
  {
   "cell_type": "markdown",
   "metadata": {},
   "source": [
    "# model"
   ]
  },
  {
   "cell_type": "code",
   "execution_count": 11,
   "metadata": {},
   "outputs": [],
   "source": [
    "model = SourceModel()\n",
    "model.train(articles)"
   ]
  },
  {
   "cell_type": "code",
   "execution_count": 12,
   "metadata": {},
   "outputs": [
    {
     "name": "stdout",
     "output_type": "stream",
     "text": [
      "0.0\n",
      "0.0\n",
      "1.0\n",
      "0.2\n",
      "0.15\n",
      "1.0\n",
      "1.0\n",
      "0.0\n",
      "0.0\n",
      "1.0\n"
     ]
    }
   ],
   "source": [
    "for i in range(10):\n",
    "    print(model.predict(articles[i]))"
   ]
  },
  {
   "cell_type": "code",
   "execution_count": 13,
   "metadata": {},
   "outputs": [],
   "source": [
    "scores = [model.predict(x) for x in articles]"
   ]
  },
  {
   "cell_type": "code",
   "execution_count": 14,
   "metadata": {},
   "outputs": [
    {
     "data": {
      "text/plain": [
       "<matplotlib.axes._subplots.AxesSubplot at 0x1705c3a90>"
      ]
     },
     "execution_count": 14,
     "metadata": {},
     "output_type": "execute_result"
    },
    {
     "data": {
      "image/png": "[encoded data removed]",
      "text/plain": [
       "<Figure size 432x288 with 1 Axes>"
      ]
     },
     "metadata": {
      "needs_background": "light"
     },
     "output_type": "display_data"
    }
   ],
   "source": [
    "sns.distplot(scores)"
   ]
  },
  {
   "cell_type": "code",
   "execution_count": 15,
   "metadata": {},
   "outputs": [
    {
     "data": {
      "text/plain": [
       "<matplotlib.axes._subplots.AxesSubplot at 0x15621c950>"
      ]
     },
     "execution_count": 15,
     "metadata": {},
     "output_type": "execute_result"
    },
    {
     "data": {
      "image/png": "[encoded data removed]",
      "text/plain": [
       "<Figure size 432x288 with 1 Axes>"
      ]
     },
     "metadata": {
      "needs_background": "light"
     },
     "output_type": "display_data"
    }
   ],
   "source": [
    "sns.distplot([s/2 + 0.25 for s in scores])"
   ]
  },
  {
   "cell_type": "code",
   "execution_count": 16,
   "metadata": {},
   "outputs": [],
   "source": [
    "model.save_pretrained(\"logs/sourcemodel.json\")"
   ]
  },
  {
   "cell_type": "code",
   "execution_count": 17,
   "metadata": {},
   "outputs": [],
   "source": [
    "_model = SourceModel.from_pretrained(\"logs/sourcemodel.json\")"
   ]
  },
  {
   "cell_type": "code",
   "execution_count": 23,
   "metadata": {},
   "outputs": [
    {
     "data": {
      "text/plain": [
       "18"
      ]
     },
     "execution_count": 23,
     "metadata": {},
     "output_type": "execute_result"
    }
   ],
   "source": [
    "_model.model[\"nyc\"]"
   ]
  },
  {
   "cell_type": "code",
   "execution_count": null,
   "metadata": {},
   "outputs": [],
   "source": []
  }
 ],
 "metadata": {
  "kernelspec": {
   "display_name": "Python 3",
   "language": "python",
   "name": "python3"
  },
  "language_info": {
   "codemirror_mode": {
    "name": "ipython",
    "version": 3
   },
   "file_extension": ".py",
   "mimetype": "text/x-python",
   "name": "python",
   "nbconvert_exporter": "python",
   "pygments_lexer": "ipython3",
   "version": "3.7.5"
  }
 },
 "nbformat": 4,
 "nbformat_minor": 4
}
