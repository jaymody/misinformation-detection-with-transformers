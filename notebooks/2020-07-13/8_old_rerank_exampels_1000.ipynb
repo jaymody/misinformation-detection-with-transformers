{
 "cells": [
  {
   "cell_type": "markdown",
   "metadata": {},
   "source": [
    "Taken from notebook 5_msmarco_pretrained_on_all_responses.ipynb (just testing on first 1000 responses to compare with notebook 7_)"
   ]
  },
  {
   "cell_type": "code",
   "execution_count": 8,
   "metadata": {
    "colab": {},
    "colab_type": "code",
    "id": "ruKsHPGPblRV"
   },
   "outputs": [],
   "source": [
    "import os\n",
    "import json\n",
    "import pickle\n",
    "import random\n",
    "import multiprocessing\n",
    "\n",
    "from tqdm.notebook import tqdm\n",
    "from valerie.utils import get_logger\n",
    "from valerie.preprocessing import extract_words_from_url, clean_text\n",
    "from valerie.scoring import validate_predictions_phase2, compute_score_phase2\n",
    "from valerie.modeling import SequenceClassificationModel, SequenceClassificationDataset, SequenceClassificationExample"
   ]
  },
  {
   "cell_type": "code",
   "execution_count": 2,
   "metadata": {
    "colab": {},
    "colab_type": "code",
    "id": "sT0p85DUbe5L"
   },
   "outputs": [],
   "source": [
    "_logger = get_logger()"
   ]
  },
  {
   "cell_type": "code",
   "execution_count": 3,
   "metadata": {
    "colab": {},
    "colab_type": "code",
    "id": "tTPKlXP4dElX"
   },
   "outputs": [],
   "source": [
    "with open(\"data/phase2-3/processed/responses.pkl\", \"rb\") as fi:\n",
    "    responses = pickle.load(fi)"
   ]
  },
  {
   "cell_type": "code",
   "execution_count": 4,
   "metadata": {
    "colab": {},
    "colab_type": "code",
    "id": "jXWUm0D-dGVo"
   },
   "outputs": [],
   "source": [
    "responses = responses[:1000]"
   ]
  },
  {
   "cell_type": "code",
   "execution_count": 5,
   "metadata": {},
   "outputs": [
    {
     "data": {
      "text/plain": [
       "1000"
      ]
     },
     "execution_count": 5,
     "metadata": {},
     "output_type": "execute_result"
    }
   ],
   "source": [
    "len(responses)"
   ]
  },
  {
   "cell_type": "code",
   "execution_count": 6,
   "metadata": {
    "colab": {},
    "colab_type": "code",
    "id": "y1E-o-DMbBsR"
   },
   "outputs": [],
   "source": [
    "def compute_responses_score(results, claims_dict):\n",
    "    predictions = {}\n",
    "    perfect_predictions = {}\n",
    "    labels = {}\n",
    "\n",
    "    for k, hits in results.items():\n",
    "        claim = claims_dict[k]\n",
    "        labels[claim.id] = claim.to_dict()\n",
    "        \n",
    "        hits = sorted(hits, key=lambda x: x[1], reverse=True) # sort by score\n",
    "        predictions[claim.id] = {\n",
    "            \"label\": claim.label,\n",
    "            \"explanation\": \"\",\n",
    "            \"related_articles\": {\n",
    "                i + 1: x\n",
    "                for i, x in enumerate([v[0] for v in hits[:2]])\n",
    "            }\n",
    "        }\n",
    "        perfect_predictions[claim.id] = {\n",
    "            \"label\": claim.label,\n",
    "            \"explanation\": \"\",\n",
    "            \"related_articles\": {\n",
    "                i + 1: x\n",
    "                for i, x in enumerate([v[0] for v in hits if v[0] in claim.related_articles.values()][:2])\n",
    "            }\n",
    "        }\n",
    "\n",
    "    validate_predictions_phase2(predictions)\n",
    "    score = compute_score_phase2(labels, predictions)\n",
    "    validate_predictions_phase2(perfect_predictions)\n",
    "    perfect_score = compute_score_phase2(labels, perfect_predictions)\n",
    "    return {\n",
    "        \"perfect_rerank_score\": perfect_score[\"score\"],\n",
    "        \"perfect_rerank_error\": perfect_score[\"error\"],\n",
    "        \"api_score\": score[\"score\"],\n",
    "        \"api_error\": score[\"error\"],\n",
    "    }"
   ]
  },
  {
   "cell_type": "markdown",
   "metadata": {
    "colab_type": "text",
    "id": "CYiga7bObTzu"
   },
   "source": [
    "# Examples\n",
    "---"
   ]
  },
  {
   "cell_type": "code",
   "execution_count": 7,
   "metadata": {
    "colab": {},
    "colab_type": "code",
    "id": "MWINhcHgbQpP"
   },
   "outputs": [],
   "source": [
    "def create_text_a(claim):\n",
    "    text_a = claim.claim\n",
    "    text_a += \" \"\n",
    "    text_a += claim.claimant if claim.claimant else \"no claimant\"\n",
    "    text_a += \" \"\n",
    "    text_a += claim.date.split()[0].split(\"T\")[0] if claim.date else \"no date\"\n",
    "    return clean_text(text_a)\n",
    "\n",
    "def create_text_b(article):\n",
    "    text_b = \"\"\n",
    "    if article.source:\n",
    "        text_b += article.source + \". \"\n",
    "    if article.title:\n",
    "        text_b += article.title + \". \"\n",
    "    if article.url:\n",
    "        url_words = extract_words_from_url(article.url)\n",
    "        if url_words:\n",
    "            text_b += \" \".join(url_words) + \". \"\n",
    "    if article.content:\n",
    "        text_b += article.content\n",
    "    return clean_text(text_b)"
   ]
  },
  {
   "cell_type": "code",
   "execution_count": 9,
   "metadata": {},
   "outputs": [
    {
     "data": {
      "application/vnd.jupyter.widget-view+json": {
       "model_id": "02499a63101d46e7a2615e55ad49ad4b",
       "version_major": 2,
       "version_minor": 0
      },
      "text/plain": [
       "HBox(children=(FloatProgress(value=0.0, max=1000.0), HTML(value='')))"
      ]
     },
     "metadata": {},
     "output_type": "display_data"
    },
    {
     "name": "stdout",
     "output_type": "stream",
     "text": [
      "\n"
     ]
    }
   ],
   "source": [
    "def _visit(res):\n",
    "    _examples = []\n",
    "    claim = res[\"claim\"]\n",
    "    if not res[\"res\"]:\n",
    "        return None\n",
    "    hits = [(hit[\"score\"], hit[\"article\"]) for hit in res[\"res\"][\"hits\"][\"hits\"]]\n",
    "    \n",
    "    text_a = create_text_a(claim)\n",
    "    \n",
    "    related_articles_url_set = set(claim.related_articles.values())\n",
    "    \n",
    "    for score, article in hits:\n",
    "        text_b = create_text_b(article)\n",
    "            \n",
    "        _examples.append(SequenceClassificationExample(\n",
    "            guid=claim.index,\n",
    "            text_a=text_a,\n",
    "            text_b=text_b,\n",
    "            label=1 if article.url in related_articles_url_set else 0,\n",
    "            art_id=article.index\n",
    "        ))\n",
    "    return _examples\n",
    "\n",
    "pool = multiprocessing.Pool(48)\n",
    "examples = []\n",
    "misses = 0\n",
    "for result in tqdm(pool.imap_unordered(_visit, responses), total=len(responses)):\n",
    "    if result is None:\n",
    "        misses += 1\n",
    "    else:\n",
    "        examples.extend(result)"
   ]
  },
  {
   "cell_type": "code",
   "execution_count": 10,
   "metadata": {
    "colab": {},
    "colab_type": "code",
    "id": "DamT2JLogphk"
   },
   "outputs": [
    {
     "data": {
      "text/plain": [
       "{\n",
       "  \"guid\": \"Phase2Dataset/10277\",\n",
       "  \"text_a\": \"\\\"First indictment issued in Russian bribery case tied to Obama-era Uranium One deal.\\\" Republican News 2018-01-13\",\n",
       "  \"text_b\": \"timesofisrael. Besides Sa'ar, another top Likud MK to challenge PM if primaries held -- report | The Times of Israel. times israel live blog entry besides saar another top likud challenge primaries held report. Report: State prosecutor says Netanyahu can\\u2019t form government under indictment While law allows a prime minister to keep serving while facing criminal charges, Shai Nitzan said to tell his staff PM can\\u2019t get mandate to form new coalition in such a situation The Times of Israel is liveblogging Thursday\\u2019s events as they unfold. After Gideon Sa\\u2019ar, another senior Likud lawmaker intends to run against Prime Minister Benjamin Netanyahu if party primaries are held, the Kan public broadcaster reports. The report does not name that MK, but says he\\u2019ll likely announce his bid publicly in the coming weeks. He reportedly made the decision in light of the criminal charges announced today against the premier. State Prosecutor Shai Nitzan is reportedly saying in closed meetings that Prime Minister Benjamin Netanyahu won\\u2019t be able from now on to receive the mandate to form a government due to the criminal charges against him. Sources within the Justice Ministry are quoted by the Globes website as saying Nitzan has said that while the law allows a premier to keep serving under an indictment and doesn\\u2019t compel him to resign, past Supreme Court rulings support the thesis that he cannot form a government when facing charges. Nitzan refuses to comment on the report, and his office says that \\u201cno decision has been made yet on the matter.\\u201d Blue and White party leader Benny Gantz, Prime Minister Benjamin Netanyahu\\u2019s chief rival who yesterday conceded he failed in forming a coalition, issues a short response to the criminal charges against the premier. \\u201cA sad day for the State of Israel,\\u201d Gantz says in a tweet. \\u201cPrime Minister Benjamin Netanyahu has a lot going for him. The decision to file charges against him was made with a heavy heart but wholeheartedly,\\u201d Attorney General Avichai Mandelblit says. \\u201cThe process was professional and serious,\\u201d he says, slamming attacks on the process and \\u201cpartial and tendentious, not to say distorted\\u201d media reports and leaks about the investigations throughout the process. Attorney General Avichai Mandelblit at a press conference announces his decision to charge Prime Minister Benjamin Netanyahu in three corruption cases, as the Justice Ministry released in a statement an hour ago. Mandelblit details the fraud and breach of trust allegations against Netanyahu in all three cases, and bribery in one of them. He says the decision was made \\u201conly for legal considerations and based on evidence. No other consideration influenced me. I performed my duty.\\u201d He says the \\u201cviolent\\u201d discourse against the legal system must stop and be \\u201cdenounced.\\u201d \\u201cThere is a difference between criticism and baseless conspiracy theories,\\u201d he says in response to countless attacks by Netanyahu and his loyalists. He says he did not hesitate to close other investigations involving the premier when he found no evidence of criminal wrongdoing. Now that Prime Minister Benjamin Netanyahu faces formal indictment, he will have to give up the other ministerial portfolios he holds. Netanyahu is currently health minister, welfare minister and diaspora minister. Until recently, he also served as defense minister and previously he also held the foreign affairs portfolio, among others. Israeli law requires a minister to step down if charged with a criminal offense, but not the prime minister. Center-left reactions to the charges against Prime Minister Benjamin Netanyahu keep pouring in, with all calling on him to step down. Blue and White\\u2019s Gabi Ashkenazi says: \\u201cThe day that an indictment is filed against a prime minister is a sad day for the State of Israel. I hope for Netanyahu\\u2019s sake and for that of the citizens of the State of Israel that he will be acquitted but there is no doubt that he must now concentrate on his own case rather than on running the state.\\u201d Democratic Camp\\u2019s Stav Shaffir: \\u201cToday the Netanyahu era is over. If he had a drop of honor he would resign this evening. If Likud and right-wing MKs have any respect for their constituents they would oust him. If we go to elections again or if he remains in power for another few months of shameful rule, from today on it is possible to plan for the day after Bibi. Connect the tribes, eliminate the hatred, work for tomorrow.\\u201d Labor-Gesher\\u2019s Itzik Shmuli calls it the \\u201cmost serious indictment against an elected official in the history of the state,\\u201d adding: \\u201cNetanyahu lost all moral and public justification to make decisions on behalf of the people.\\u201d Blue and White\\u2019s Ofer Shelah: \\u201cNetanyahu and his loyalists are engaged in a last-ditch effort to destroy the justice system to save Bibi. This cannot be allowed to happen. And we cannot allow someone indicted for bribery to be prime minister.\\u201d The Blue and White party posts a video of Prime Minister Benjamin Netanyahu speaking 11 years ago \\u2014 as then-premier Ehud Olmert battled corruption allegations \\u2014 in which the Likud leader said a prime minister could not function under criminal investigation. Netanyahu says in the video: \\u201cA prime minister neck deep in investigations does not have a moral and public mandate to make fateful decisions for the State of Israel. There is a fear, I must say, and it is real and not unfounded, that he will make his decisions for his personal interest of political survival, not for the national interest.\\u201d \\\"\\u05e8\\u05d0\\u05e9 \\u05de\\u05de\\u05e9\\u05dc\\u05d4 \\u05e9\\u05e9\\u05e7\\u05d5\\u05e2 \\u05e2\\u05d3 \\u05e6\\u05d5\\u05d5\\u05d0\\u05e8 \\u05d1\\u05d7\\u05e7\\u05d9\\u05e8\\u05d5\\u05ea, \\u05d0\\u05d9\\u05df \\u05dc\\u05d5 \\u05de\\u05e0\\u05d3\\u05d8 \\u05de\\u05d5\\u05e1\\u05e8\\u05d9 \\u05d5\\u05e6\\u05d9\\u05d1\\u05d5\\u05e8\\u05d9 \\u05dc\\u05e7\\u05d1\\u05d5\\u05e2 \\u05d3\\u05d1\\u05e8\\u05d9\\u05dd \\u05db\\u05dc \\u05db\\u05da \\u05d2\\u05d5\\u05e8\\u05dc\\u05d9\\u05d9\\u05dd \\u05dc\\u05de\\u05d3\\u05d9\\u05e0\\u05ea \\u05d9\\u05e9\\u05e8\\u05d0\\u05dc. \\u05db\\u05d9 \\u05e7\\u05d9\\u05d9\\u05dd \\u05d7\\u05e9\\u05e9, \\u05d0\\u05e0\\u05d9 \\u05d7\\u05d9\\u05d9\\u05d1 \\u05dc\\u05d4\\u05d2\\u05d9\\u05d3, \\u05d0\\u05de\\u05d9\\u05ea\\u05d9 \\u05d5\\u05dc\\u05d0 \\u05d1\\u05dc\\u05ea\\u05d9 \\u05de\\u05d1\\u05d5\\u05e1\\u05e1, \\u05e9\\u05d4\\u05d5\\u05d0 \\u05d9\\u05db\\u05e8\\u05d9\\u05e2 \\u05d4\\u05db\\u05e8\\u05e2\\u05d5\\u05ea \\u05e2\\u05dc \\u05d1\\u05e1\\u05d9\\u05e1 \\u05d4\\u05d0\\u05d9\\u05e0\\u05d8\\u05e8\\u05e1 \\u05d4\\u05d0\\u05d9\\u05e9\\u05d9 \\u05e9\\u05dc \\u05d4\\u05d4\\u05d9\\u05e9\\u05e8\\u05d3\\u05d5\\u05ea \\u05d4\\u05e4\\u05d5\\u05dc\\u05d9\\u05d8\\u05d9\\u05ea \\u05e9\\u05dc\\u05d5, \\u05d5\\u05dc\\u05d0 \\u05e2\\u05dc \\u05d1\\u05e1\\u05d9\\u05e1 \\u05d4\\u05d0\\u05d9\\u05e0\\u05d8\\u05e8\\u05e1 \\u05d4\\u05dc\\u05d0\\u05d5\\u05de\\u05d9\\\". Labor-Gesher leader Amir Peretz claims Benjamin Netanyahu\\u2019s legal woes was the reason efforts to form a coalition failed. \\u201cNetanyahu\\u2019s indictments are why no government was established in Israel,\\u201d he says. \\u201cIn a democracy we cannot tolerate a prime minister under indictment. The political crisis in Israel is only because of his indictments. If we can prevent Netanyahu from grabbing the horns of the altar, we will prevent the third elections in under a year.\\u201d Likud MK Miki Zohar is one of the few Netanyahu supporters to comment in the immediate aftermath of the announcement of criminal indictments against the prime minister. \\u201cThe first emotion I feel: great sadness,\\u201d he says in a statement. \\u201cI\\u2019m sad for the prime minister, what a \\u2018great\\u2019 gift the state gave him for giving his best years for us all. Everything was known ahead of time. We knew the attorney general won\\u2019t be able to withstand the pressure brought to bear on him, we knew that [State Prosecutor] Shai Nitzan would fight tooth and nail, no matter the cost, to ensure serious indictments against the prime minister.\\u201d \\u201cWe will not be silent. We will not give in.\\u201d Left-wing lawmakers call on Prime Minister Benjamin Netanyahu to resign after corruption charges are announced against him in three cases. \\u201cNetanyahu must go now,\\u201d says Nitzan Horowitz, leader of the left-wing Democratic Camp party. \\u201cFor the sake of the citizens of Israel and the state, he cannot stay in power for one more minute. Those who cling to their blind loyalty to him will be remembered as having helped in the most serious corruption yet of Israeli democracy, and of directly hurting the country.\\u201d Fellow Democratic Camp MK Tamar Zandberg says: \\u201cNow it\\u2019s final: the Prime Minister cannot serve even one more day. It is incumbent on him to resign this evening. He has no mandate to run the state. If he does not do this no one should sit in his government or his party. He should not run for election and cannot receive a mandate to form a government. He must leave public life immediately.\\u201d Ayman Odeh, leader of the predominantly Arab Joint List, says: \\u201cOn the day that Netanyahu will pay for his criminal misdeeds we can begin to repair the damage he caused with his social crimes. The racism and the hatred that he caused will not disappear with his actions and it is up to us \\u2014 Arabs and Jews \\u2014 to build a peace-loving society together and an equitable democracy that will serve all citizens of the country.\\u201d The following is a translation of the relevant part in the indictment detailing the bribery charge against Prime Minister Benjamin Netanyahu in Case 4000. In that case, the Justice Ministry has said Netanyahu will face charges of bribery, fraud, and breach of trust for allegedly pushing regulatory decisions financially benefiting the controlling shareholder of the Bezeq telecommunications group, Shaul Elovitch, in return for ongoing changes in the coverage from Bezeq\\u2019s Walla news site to be more positive toward the prime minister. Elovitch\\u2019s wife, Iris, was also involved in the illicit dealings. \\u201cThe defendant Netanyahu took the aforementioned illicit benefits from the Elovitches, knowing he was taking a bribe as a public official for his actions related to his public role,\\u201d the indictment says. \\u201cIn return for these benefits, the defendant Netanyahu executed his authority while making use of his high-ranking position to carry out actions benefiting the defendant Elovitch in a significant manner, while deviating from orderly conduct.\\u201d Yedioth Ahronoth publisher Arnon Mozes and Bezeq owner Shaul Elovitch and his wife Iris Elovitch will also face bribery charges, the Justice Ministry says \\u2014 Mozes in Case 2000 and Elovitches in Case 4000. The Justice Ministry says Attorney General Avichai Mandelblit has decided that after several years of investigation, Prime Minister Benjamin Netanyahu will face charges in three corruption cases, including bribery in one of them, marking the first time Israel is led by a premier facing a criminal indictment. Mandelblit rejected the arguments posed by Netanyahu\\u2019s attorneys in last month\\u2019s hearing, the ministry says in a statement. In Case 4000, the most serious of the three cases, Netanyahu will face charges of bribery, fraud, and breach of trust for allegedly pushing regulatory decisions financially benefiting the controlling shareholder of the Bezeq telecommunications group, Shaul Elovitch, in return for ongoing changes in the coverage from Bezeq\\u2019s Walla news site to be more positive toward the prime minister. In Case 1000, Netanyahu will be charged with fraud and breach of trust for allegedly receiving illicit gifts such as champagne, cigars and jewelry valued at some NIS 700,000 ($201,000) from billionaire benefactors Arnon Milchan and James Packer, and allegedly reciprocating in Milchan\\u2019s case with various forms of assistance. In Case 2000, Netanyahu will be charged with fraud and breach of trust for allegedly agreeing with Yedioth Ahronoth newspaper publisher Arnon Mozes to weaken a rival daily \\u2014 the staunchly pro-Netanyahu Israel Hayom \\u2014 in return for more favorable coverage from Yedioth. The agreement was never implemented. Netanyahu denies all wrongdoing and has frequently claimed that the investigations against him are a witch hunt and a conspiracy orchestrated by the media, the left, police and the state prosecution. Embattled office-sharing startup WeWork says it will lay off 2,400 employees of its 15.000 worldwide as the company struggles to reorganize amid mounting losses. The news comes in the wake of the company\\u2019s failed attempt to launch an initial public offering. The dismissed workers \\u201cwill receive severance, continued benefits, and other forms of assistance to aid in their career transition,\\u201d a spokesperson says in a statement. If Attorney General Avichai Mandelblit announces today that he plans to indict Prime Minister Benjamin Netanyahu, that does not mean the premier will face any immediate legal peril. It could take months before formal charges are filed, as Netanyahu is expected to ask the Knesset for parliamentary immunity. The Knesset House Committee and plenum would have to rule on Netanyahu\\u2019s immunity, but the committee does not currently have any members, as no coalition agreement has yet been signed in the 22nd Knesset dividing up committee seats between the parliament\\u2019s factions. Only once a new coalition is formed \\u2014 either over the next three weeks or, failing that, after the next round of elections slated for March \\u2014 can a Knesset House Committee take up the question. Even if Netanyahu\\u2019s immunity request is rejected, it could take until May or June for the formal decision to be made \\u2014 and possibly even more than that, if the next elections also don\\u2019t lead to a coalition. A formal indictment could still be more than seven months away. A masked man today entered a shop in Jerusalem, fired a gun and fled, police say. Nobody is hurt in the incident on Dahomey Street in the Kiryat Menahem neighborhood of the capital. Police forces launch a search for the perpetrator and examine the scene for evidence. An initial probe is said to indicate the incident is criminal, not nationally motivated. Prime Minister Benjamin Netanyahu says he\\u2019ll hold a press conference at 8:30 p.m. at his official residence in Jerusalem, an hour after Attorney General Avichai Mandelblit is set to announce whether the premier will be charged in three corruption cases. The Likud party calls on activists to quickly arrive near the Prime Minister\\u2019s Residence to express support for him ahead of the announcement. Some demonstrators are reportedly already outside the residence, chanting slogans against Netanyahu. The Justice Ministry in a statement says Attorney General Avichai Mandleblit will announce his decision on Prime Minister Benjamin Netanyahu\\u2019s three corruption cases at 7:30 p.m. It says the announcement will be at the ministry\\u2019s headquarters in Jerusalem, and that Mandelblit will take no questions from the media. If, as widely expected, charges will be announced, it would be the first time Israel is led by a premier facing a criminal indictment. Likud MK Michal Shir says if party leadership primaries are held, she will support Gideon Sa\\u2019ar, who today called for primaries to be held and said he would run against Prime Minister Benjamin Netanyahu. Shir, who previously was Sa\\u2019ar\\u2019s political adviser, tweets: \\u201cFor a party that prides itself on democracy, leadership primaries are not a choice but a duty. In the race I will support Gideon Sa\\u2019ar, the best-suited person with the best skills for forming a government and safeguarding the right wing\\u2019s values.\\u201d Lebanon\\u2019s state-run National News Agency says a court session in the case of a Lebanese American accused of dealing with Israel has been postponed because of his illness. NNA says today\\u2019s session of Amer Fakhoury in the southern market town of Nabatiyeh has been postponed until December 5. Lebanon and Israel have been officially at war since Israel\\u2019s creation in 1948. Fakhoury had worked as a senior warden at the Khiam Prison in southern Lebanon that was run by an Israeli-backed militia, known as the South Lebanon Army. He was detained after returning to his native Lebanon from the US in September. Outside the courthouse in Nabatiyeh, a stronghold of the Hezbollah terror group, scores of people, including former Khiam prison detainees, gathered outside the building known as Palace of Justice. Communications Minister David Amsalem rebukes fellow Likud party lawmaker Gideon Sa\\u2019ar for saying earlier today that he wants open primaries for the party leadership and intends to challenge Prime Minister Benjamin Netanyahu if they are held. \\u201cThis is a time of national emergency, not a time for infighting based on ego and personal aspirations,\\u201d Amsalem, a staunch Netanyahu loyalist, says in a tweet. \\u201cI wish the lesson on loyalty learned by the bloc members will also be learned by our friend Gideon Sa\\u2019ar.\\u201d He was referring to Netanyahu\\u2019s bloc of 55 right-wing and religious lawmakers from various parties who have backed him in coalition talks and let him negotiate on their behalf, which was one of the sticking points in the failed talks for a unity government. Lebanon\\u2019s state-run National News Agency says a soldier who shot and killed a protester in Beirut last week has been charged by a military prosecutor with murder. The agency says that a colonel who was on the scene with the sold\",\n",
       "  \"label\": 0,\n",
       "  \"art_id\": \"https://www.timesofisrael.com/liveblog_entry/besides-saar-another-top-likud-mk-to-challenge-pm-if-primaries-held-report/\"\n",
       "}"
      ]
     },
     "execution_count": 10,
     "metadata": {},
     "output_type": "execute_result"
    }
   ],
   "source": [
    "examples[-1]"
   ]
  },
  {
   "cell_type": "code",
   "execution_count": 11,
   "metadata": {
    "colab": {},
    "colab_type": "code",
    "id": "K4m8MQZmbWex"
   },
   "outputs": [
    {
     "data": {
      "text/plain": [
       "0"
      ]
     },
     "execution_count": 11,
     "metadata": {},
     "output_type": "execute_result"
    }
   ],
   "source": [
    "misses"
   ]
  },
  {
   "cell_type": "code",
   "execution_count": 12,
   "metadata": {
    "colab": {},
    "colab_type": "code",
    "id": "DCteL6dXbX53"
   },
   "outputs": [
    {
     "name": "stdout",
     "output_type": "stream",
     "text": [
      "30000\n",
      "26629\n"
     ]
    }
   ],
   "source": [
    "print(len(responses)*30)\n",
    "print(len(examples))"
   ]
  },
  {
   "cell_type": "markdown",
   "metadata": {
    "colab_type": "text",
    "id": "1Ocq58LFblA_"
   },
   "source": [
    "# Predict\n",
    "---"
   ]
  },
  {
   "cell_type": "code",
   "execution_count": 13,
   "metadata": {
    "colab": {},
    "colab_type": "code",
    "id": "GNS6evMZbpsU"
   },
   "outputs": [],
   "source": [
    "os.environ[\"WANDB_DISABLED\"] = \"true\"\n",
    "os.environ[\"WANDB_MODE\"] = \"dryrun\"\n",
    "os.environ[\"WANDB_WATCH\"] = \"false\""
   ]
  },
  {
   "cell_type": "code",
   "execution_count": 14,
   "metadata": {},
   "outputs": [],
   "source": [
    "# \"castorini/monot5-base-msmarco\"\n",
    "# \"castorini/monobert-large-msmarco\"\n",
    "# \"nboost/pt-bert-large-msmarco\"]:\n",
    "pretrained_model_name_or_path = \"castorini/monobert-large-msmarco\"\n",
    "nproc=48\n",
    "predict_batch_size=64"
   ]
  },
  {
   "cell_type": "code",
   "execution_count": 15,
   "metadata": {},
   "outputs": [
    {
     "name": "stdout",
     "output_type": "stream",
     "text": [
      "[2020-07-12 14:58:03,871] INFO:transformers.configuration_utils: loading configuration file https://s3.amazonaws.com/models.huggingface.co/bert/castorini/monobert-large-msmarco/config.json from cache at /home/jay/.cache/torch/transformers/643500d870067d59f219f7b5652919267c01bfa98024e2e74f53b28c1b6aff2b.4c88e2dec8f8b017f319f6db2b157fee632c0860d9422e4851bd0d6999f9ce38\n",
      "[2020-07-12 14:58:03,872] INFO:transformers.configuration_utils: Model config BertConfig {\n",
      "  \"attention_probs_dropout_prob\": 0.1,\n",
      "  \"gradient_checkpointing\": false,\n",
      "  \"hidden_act\": \"gelu\",\n",
      "  \"hidden_dropout_prob\": 0.1,\n",
      "  \"hidden_size\": 1024,\n",
      "  \"initializer_range\": 0.02,\n",
      "  \"intermediate_size\": 4096,\n",
      "  \"layer_norm_eps\": 1e-12,\n",
      "  \"max_position_embeddings\": 512,\n",
      "  \"model_type\": \"bert\",\n",
      "  \"num_attention_heads\": 16,\n",
      "  \"num_hidden_layers\": 24,\n",
      "  \"pad_token_id\": 0,\n",
      "  \"type_vocab_size\": 2,\n",
      "  \"vocab_size\": 30522\n",
      "}\n",
      "\n",
      "[2020-07-12 14:58:03,873] INFO:transformers.tokenization_utils_base: Model name 'castorini/monobert-large-msmarco' not found in model shortcut name list (bert-base-uncased, bert-large-uncased, bert-base-cased, bert-large-cased, bert-base-multilingual-uncased, bert-base-multilingual-cased, bert-base-chinese, bert-base-german-cased, bert-large-uncased-whole-word-masking, bert-large-cased-whole-word-masking, bert-large-uncased-whole-word-masking-finetuned-squad, bert-large-cased-whole-word-masking-finetuned-squad, bert-base-cased-finetuned-mrpc, bert-base-german-dbmdz-cased, bert-base-german-dbmdz-uncased, TurkuNLP/bert-base-finnish-cased-v1, TurkuNLP/bert-base-finnish-uncased-v1, wietsedv/bert-base-dutch-cased). Assuming 'castorini/monobert-large-msmarco' is a path, a model identifier, or url to a directory containing tokenizer files.\n",
      "[2020-07-12 14:58:04,732] INFO:transformers.tokenization_utils_base: loading file https://s3.amazonaws.com/models.huggingface.co/bert/castorini/monobert-large-msmarco/vocab.txt from cache at /home/jay/.cache/torch/transformers/7e579d33b9ca381ae377521c4918fb66ee50a10d0fa955173dc5ad550a05b40c.542ce4285a40d23a559526243235df47c5f75c197f04f37d1a0c124c32c9a084\n",
      "[2020-07-12 14:58:04,732] INFO:transformers.tokenization_utils_base: loading file https://s3.amazonaws.com/models.huggingface.co/bert/castorini/monobert-large-msmarco/added_tokens.json from cache at /home/jay/.cache/torch/transformers/cba5f19d6689880029e5bccfd5e3c905f2067168a27322e8c7a4bf55b5a9a0ad.3889713104075cfee9e96090bcdd0dc753733b3db9da20d1dd8b2cd1030536a2\n",
      "[2020-07-12 14:58:04,733] INFO:transformers.tokenization_utils_base: loading file https://s3.amazonaws.com/models.huggingface.co/bert/castorini/monobert-large-msmarco/special_tokens_map.json from cache at /home/jay/.cache/torch/transformers/01358c6ecc96532f113f6b9633dcef2fbe2e8142997f6b296df5a9ffb4ae19ab.275045728fbf41c11d3dae08b8742c054377e18d92cc7b72b6351152a99b64e4\n",
      "[2020-07-12 14:58:04,733] INFO:transformers.tokenization_utils_base: loading file https://s3.amazonaws.com/models.huggingface.co/bert/castorini/monobert-large-msmarco/tokenizer_config.json from cache at /home/jay/.cache/torch/transformers/1ed92dc6896c1ff8e5e65d28cb4bebc094ac70f3c961fabb25e0e1e4729b919c.3fc3a7b9028b25d25e6393f1d27ed643eb6ba9ce4113c05aa13277951cff117c\n",
      "[2020-07-12 14:58:04,733] INFO:transformers.tokenization_utils_base: loading file https://s3.amazonaws.com/models.huggingface.co/bert/castorini/monobert-large-msmarco/tokenizer.json from cache at None\n",
      "[2020-07-12 14:58:04,919] INFO:transformers.configuration_utils: loading configuration file https://s3.amazonaws.com/models.huggingface.co/bert/castorini/monobert-large-msmarco/config.json from cache at /home/jay/.cache/torch/transformers/643500d870067d59f219f7b5652919267c01bfa98024e2e74f53b28c1b6aff2b.4c88e2dec8f8b017f319f6db2b157fee632c0860d9422e4851bd0d6999f9ce38\n",
      "[2020-07-12 14:58:04,920] INFO:transformers.configuration_utils: Model config BertConfig {\n",
      "  \"attention_probs_dropout_prob\": 0.1,\n",
      "  \"gradient_checkpointing\": false,\n",
      "  \"hidden_act\": \"gelu\",\n",
      "  \"hidden_dropout_prob\": 0.1,\n",
      "  \"hidden_size\": 1024,\n",
      "  \"initializer_range\": 0.02,\n",
      "  \"intermediate_size\": 4096,\n",
      "  \"layer_norm_eps\": 1e-12,\n",
      "  \"max_position_embeddings\": 512,\n",
      "  \"model_type\": \"bert\",\n",
      "  \"num_attention_heads\": 16,\n",
      "  \"num_hidden_layers\": 24,\n",
      "  \"pad_token_id\": 0,\n",
      "  \"type_vocab_size\": 2,\n",
      "  \"vocab_size\": 30522\n",
      "}\n",
      "\n",
      "[2020-07-12 14:58:05,066] INFO:transformers.modeling_utils: loading weights file https://cdn.huggingface.co/castorini/monobert-large-msmarco/pytorch_model.bin from cache at /home/jay/.cache/torch/transformers/c48fb89cc59db72299f77c13a9f914ae2dd73cae21dcdcef4281c0308e2f4075.454581226736f9af4828c8d3a034ecd8c0c174c620fcb9356260b0342591de76\n",
      "[2020-07-12 14:58:15,651] INFO:transformers.modeling_utils: All model checkpoint weights were used when initializing BertForSequenceClassification.\n",
      "\n",
      "[2020-07-12 14:58:15,652] INFO:transformers.modeling_utils: All the weights of BertForSequenceClassification were initialized from the model checkpoint at castorini/monobert-large-msmarco.\n",
      "If your task is similar to the task the model of the ckeckpoint was trained on, you can already use BertForSequenceClassification for predictions without further training.\n"
     ]
    }
   ],
   "source": [
    "model = SequenceClassificationModel.from_pretrained(pretrained_model_name_or_path)"
   ]
  },
  {
   "cell_type": "code",
   "execution_count": 16,
   "metadata": {},
   "outputs": [
    {
     "name": "stdout",
     "output_type": "stream",
     "text": [
      "[2020-07-12 14:58:15,665] INFO:valerie.modeling: ... converting examples to features ...\n"
     ]
    },
    {
     "data": {
      "application/vnd.jupyter.widget-view+json": {
       "model_id": "8cd53bb5e2c440b087a7dd6ca6a6747a",
       "version_major": 2,
       "version_minor": 0
      },
      "text/plain": [
       "HBox(children=(FloatProgress(value=0.0, description='converting examples to features', max=26629.0, style=Prog…"
      ]
     },
     "metadata": {},
     "output_type": "display_data"
    },
    {
     "name": "stdout",
     "output_type": "stream",
     "text": [
      "\n"
     ]
    }
   ],
   "source": [
    "examples_dataset = model.create_dataset(examples, nproc=nproc)"
   ]
  },
  {
   "cell_type": "code",
   "execution_count": 17,
   "metadata": {},
   "outputs": [
    {
     "name": "stdout",
     "output_type": "stream",
     "text": [
      "0,1,2,3,4,5,6,7\n"
     ]
    }
   ],
   "source": [
    "os.environ[\"CUDA_VISIBLE_DEVICES\"]=\"0,1,2,3,4,5,6,7\"\n",
    "!echo $CUDA_VISIBLE_DEVICES"
   ]
  },
  {
   "cell_type": "code",
   "execution_count": 18,
   "metadata": {},
   "outputs": [
    {
     "name": "stdout",
     "output_type": "stream",
     "text": [
      "[2020-07-12 14:58:56,511] INFO:transformers.training_args: PyTorch: setting up devices\n",
      "[2020-07-12 14:59:00,458] INFO:transformers.trainer: Automatic Weights & Biases logging enabled, to disable set os.environ[\"WANDB_DISABLED\"] = \"true\"\n",
      "[2020-07-12 14:59:00,463] INFO:transformers.trainer: ***** Running Prediction *****\n",
      "[2020-07-12 14:59:00,463] INFO:transformers.trainer:   Num examples = 26629\n",
      "[2020-07-12 14:59:00,464] INFO:transformers.trainer:   Batch size = 2048\n"
     ]
    },
    {
     "data": {
      "application/vnd.jupyter.widget-view+json": {
       "model_id": "de16ae6081f84f80938071c567e3109d",
       "version_major": 2,
       "version_minor": 0
      },
      "text/plain": [
       "HBox(children=(FloatProgress(value=0.0, description='Prediction', max=14.0, style=ProgressStyle(description_wi…"
      ]
     },
     "metadata": {},
     "output_type": "display_data"
    },
    {
     "name": "stderr",
     "output_type": "stream",
     "text": [
      "/home/jay/miniconda3/lib/python3.7/site-packages/torch/nn/parallel/_functions.py:61: UserWarning: Was asked to gather along dimension 0, but all input tensors were scalars; will instead unsqueeze and return a vector.\n",
      "  warnings.warn('Was asked to gather along dimension 0, but all '\n"
     ]
    },
    {
     "name": "stdout",
     "output_type": "stream",
     "text": [
      "\n"
     ]
    }
   ],
   "source": [
    "predict_output = model.predict(examples_dataset, predict_batch_size=256)"
   ]
  },
  {
   "cell_type": "code",
   "execution_count": 19,
   "metadata": {
    "colab": {},
    "colab_type": "code",
    "id": "J2YvlHrobmdq"
   },
   "outputs": [
    {
     "data": {
      "application/vnd.jupyter.widget-view+json": {
       "model_id": "b8935d64007348459d83803eeb36a56a",
       "version_major": 2,
       "version_minor": 0
      },
      "text/plain": [
       "HBox(children=(FloatProgress(value=1.0, bar_style='info', max=1.0), HTML(value='')))"
      ]
     },
     "metadata": {},
     "output_type": "display_data"
    },
    {
     "name": "stdout",
     "output_type": "stream",
     "text": [
      "\n",
      "api\n",
      "{\n",
      "  \"perfect_rerank_score\": 0.8630615319780865,\n",
      "  \"perfect_rerank_error\": \"'None'\",\n",
      "  \"api_score\": 0.448855518144285,\n",
      "  \"api_error\": \"'None'\"\n",
      "}\n",
      "\n",
      "trans\n",
      "{\n",
      "  \"perfect_rerank_score\": 0.8630615319780865,\n",
      "  \"perfect_rerank_error\": \"'None'\",\n",
      "  \"api_score\": 0.4973083704115188,\n",
      "  \"api_error\": \"'None'\"\n",
      "}\n",
      "\n",
      "both\n",
      "{\n",
      "  \"perfect_rerank_score\": 0.8630615319780865,\n",
      "  \"perfect_rerank_error\": \"'None'\",\n",
      "  \"api_score\": 0.4954667497853678,\n",
      "  \"api_error\": \"'None'\"\n",
      "}\n",
      "\n",
      "\n",
      "\n"
     ]
    }
   ],
   "source": [
    "claims_dict = {res[\"claim\"].index: res[\"claim\"] for res in responses if res[\"res\"]}\n",
    "api_scores_dict = {\n",
    "    res[\"claim\"].index: {\n",
    "        hit[\"article\"].index: hit[\"score\"] for hit in res[\"res\"][\"hits\"][\"hits\"]\n",
    "    }\n",
    "    for res in responses\n",
    "    if res[\"res\"]\n",
    "}\n",
    "\n",
    "\n",
    "rerank_just_api_responses = {\n",
    "    res[\"claim\"].index: [\n",
    "        (hit[\"article\"].index, hit[\"score\"]) for hit in res[\"res\"][\"hits\"][\"hits\"]\n",
    "    ]\n",
    "    for res in responses\n",
    "    if res[\"res\"]\n",
    "}\n",
    "\n",
    "rerank_just_trans_responses = {res[\"claim\"].index: [] for res in responses if res[\"res\"]}\n",
    "\n",
    "rerank_both_responses = {\n",
    "    res[\"claim\"].index: []\n",
    "    for res in responses\n",
    "    if res[\"res\"]\n",
    "}\n",
    "\n",
    "for example, proba in tqdm(zip(examples, predict_output.predictions)):\n",
    "    proba = float(proba[1]) # get probability that the article is related\n",
    "\n",
    "    rerank_just_trans_responses[example.guid].append((example.art_id, proba))\n",
    "    rerank_both_responses[example.guid].append((example.art_id, proba + api_scores_dict[example.guid][example.art_id]))\n",
    "    \n",
    "print('api')\n",
    "print(json.dumps(compute_responses_score(rerank_just_api_responses, claims_dict), indent=2))\n",
    "print()\n",
    "print('trans')\n",
    "print(json.dumps(compute_responses_score(rerank_just_trans_responses, claims_dict), indent=2))\n",
    "print()\n",
    "print('both')\n",
    "print(json.dumps(compute_responses_score(rerank_both_responses, claims_dict), indent=2))\n",
    "print()\n",
    "print()\n",
    "print()"
   ]
  },
  {
   "cell_type": "markdown",
   "metadata": {
    "colab_type": "text",
    "id": "I6Gu45bVn1sy"
   },
   "source": [
    "# Results\n",
    "---"
   ]
  },
  {
   "cell_type": "code",
   "execution_count": 20,
   "metadata": {
    "colab": {},
    "colab_type": "code",
    "id": "NV2g5ha1n455"
   },
   "outputs": [
    {
     "data": {
      "text/plain": [
       "{'perfect_rerank_score': 0.8630615319780865,\n",
       " 'perfect_rerank_error': \"'None'\",\n",
       " 'api_score': 0.448855518144285,\n",
       " 'api_error': \"'None'\"}"
      ]
     },
     "execution_count": 20,
     "metadata": {},
     "output_type": "execute_result"
    }
   ],
   "source": [
    "compute_responses_score(rerank_just_api_responses, claims_dict)"
   ]
  },
  {
   "cell_type": "code",
   "execution_count": 21,
   "metadata": {
    "colab": {},
    "colab_type": "code",
    "id": "vp6mnXWZn5zW"
   },
   "outputs": [
    {
     "data": {
      "text/plain": [
       "{'perfect_rerank_score': 0.8630615319780865,\n",
       " 'perfect_rerank_error': \"'None'\",\n",
       " 'api_score': 0.4973083704115188,\n",
       " 'api_error': \"'None'\"}"
      ]
     },
     "execution_count": 21,
     "metadata": {},
     "output_type": "execute_result"
    }
   ],
   "source": [
    "compute_responses_score(rerank_just_trans_responses, claims_dict)"
   ]
  },
  {
   "cell_type": "code",
   "execution_count": 22,
   "metadata": {
    "colab": {},
    "colab_type": "code",
    "id": "f0W5F38On61c"
   },
   "outputs": [
    {
     "data": {
      "text/plain": [
       "{'perfect_rerank_score': 0.8630615319780865,\n",
       " 'perfect_rerank_error': \"'None'\",\n",
       " 'api_score': 0.4954667497853678,\n",
       " 'api_error': \"'None'\"}"
      ]
     },
     "execution_count": 22,
     "metadata": {},
     "output_type": "execute_result"
    }
   ],
   "source": [
    "compute_responses_score(rerank_both_responses, claims_dict)"
   ]
  },
  {
   "cell_type": "code",
   "execution_count": null,
   "metadata": {
    "colab": {},
    "colab_type": "code",
    "id": "6wM6FLZojuV6"
   },
   "outputs": [],
   "source": []
  }
 ],
 "metadata": {
  "accelerator": "GPU",
  "colab": {
   "collapsed_sections": [],
   "name": "__experiment.ipynb",
   "private_outputs": true,
   "provenance": []
  },
  "kernelspec": {
   "display_name": "Python 3",
   "language": "python",
   "name": "python3"
  },
  "language_info": {
   "codemirror_mode": {
    "name": "ipython",
    "version": 3
   },
   "file_extension": ".py",
   "mimetype": "text/x-python",
   "name": "python",
   "nbconvert_exporter": "python",
   "pygments_lexer": "ipython3",
   "version": "3.7.7"
  }
 },
 "nbformat": 4,
 "nbformat_minor": 4
}
