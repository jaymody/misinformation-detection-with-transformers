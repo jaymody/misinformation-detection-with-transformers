{
 "cells": [
  {
   "cell_type": "markdown",
   "metadata": {
    "colab_type": "text",
    "id": "aFcE0lSqYag4"
   },
   "source": [
    "# Data\n",
    "---"
   ]
  },
  {
   "cell_type": "code",
   "execution_count": 1,
   "metadata": {
    "colab": {},
    "colab_type": "code",
    "id": "ruKsHPGPblRV"
   },
   "outputs": [],
   "source": [
    "import os\n",
    "import json\n",
    "import pickle\n",
    "import random\n",
    "import multiprocessing\n",
    "\n",
    "from tqdm.auto import tqdm\n",
    "from valerie.utils import get_logger\n",
    "from valerie.preprocessing import extract_words_from_url, clean_text\n",
    "from valerie.scoring import validate_predictions_phase2, compute_score_phase2\n",
    "from valerie.modeling import SequenceClassificationModel, SequenceClassificationDataset, SequenceClassificationExample"
   ]
  },
  {
   "cell_type": "code",
   "execution_count": 5,
   "metadata": {
    "colab": {},
    "colab_type": "code",
    "id": "sT0p85DUbe5L"
   },
   "outputs": [],
   "source": [
    "_logger = get_logger()"
   ]
  },
  {
   "cell_type": "code",
   "execution_count": 6,
   "metadata": {
    "colab": {},
    "colab_type": "code",
    "id": "tTPKlXP4dElX"
   },
   "outputs": [],
   "source": [
    "with open(\"data/phase2-3/processed/responses.pkl\", \"rb\") as fi:\n",
    "    responses = pickle.load(fi)"
   ]
  },
  {
   "cell_type": "code",
   "execution_count": 7,
   "metadata": {
    "colab": {},
    "colab_type": "code",
    "id": "jXWUm0D-dGVo"
   },
   "outputs": [],
   "source": [
    "# responses = random.sample(responses, k=100)"
   ]
  },
  {
   "cell_type": "code",
   "execution_count": 8,
   "metadata": {},
   "outputs": [
    {
     "data": {
      "text/plain": [
       "13061"
      ]
     },
     "execution_count": 8,
     "metadata": {},
     "output_type": "execute_result"
    }
   ],
   "source": [
    "len(responses)"
   ]
  },
  {
   "cell_type": "code",
   "execution_count": 9,
   "metadata": {
    "colab": {},
    "colab_type": "code",
    "id": "y1E-o-DMbBsR"
   },
   "outputs": [],
   "source": [
    "def compute_responses_score(results, claims_dict):\n",
    "    predictions = {}\n",
    "    perfect_predictions = {}\n",
    "    labels = {}\n",
    "\n",
    "    for k, hits in results.items():\n",
    "        claim = claims_dict[k]\n",
    "        labels[claim.id] = claim.to_dict()\n",
    "        \n",
    "        hits = sorted(hits, key=lambda x: x[1], reverse=True) # sort by score\n",
    "        predictions[claim.id] = {\n",
    "            \"label\": claim.label,\n",
    "            \"explanation\": \"\",\n",
    "            \"related_articles\": {\n",
    "                i + 1: x\n",
    "                for i, x in enumerate([v[0] for v in hits[:2]])\n",
    "            }\n",
    "        }\n",
    "        perfect_predictions[claim.id] = {\n",
    "            \"label\": claim.label,\n",
    "            \"explanation\": \"\",\n",
    "            \"related_articles\": {\n",
    "                i + 1: x\n",
    "                for i, x in enumerate([v[0] for v in hits if v[0] in claim.related_articles.values()][:2])\n",
    "            }\n",
    "        }\n",
    "\n",
    "    validate_predictions_phase2(predictions)\n",
    "    score = compute_score_phase2(labels, predictions)\n",
    "    validate_predictions_phase2(perfect_predictions)\n",
    "    perfect_score = compute_score_phase2(labels, perfect_predictions)\n",
    "    return {\n",
    "        \"perfect_rerank_score\": perfect_score[\"score\"],\n",
    "        \"perfect_rerank_error\": perfect_score[\"error\"],\n",
    "        \"api_score\": score[\"score\"],\n",
    "        \"api_error\": score[\"error\"],\n",
    "    }"
   ]
  },
  {
   "cell_type": "markdown",
   "metadata": {
    "colab_type": "text",
    "id": "CYiga7bObTzu"
   },
   "source": [
    "# Examples\n",
    "---"
   ]
  },
  {
   "cell_type": "code",
   "execution_count": 10,
   "metadata": {
    "colab": {},
    "colab_type": "code",
    "id": "MWINhcHgbQpP"
   },
   "outputs": [],
   "source": [
    "def create_text_a(claim):\n",
    "    text_a = claim.claim\n",
    "    text_a += \" \"\n",
    "    text_a += claim.claimant if claim.claimant else \"no claimant\"\n",
    "    text_a += \" \"\n",
    "    text_a += claim.date.split()[0].split(\"T\")[0] if claim.date else \"no date\"\n",
    "    return clean_text(text_a)\n",
    "\n",
    "def create_text_b(article):\n",
    "    text_b = \"\"\n",
    "    if article.source:\n",
    "        text_b += article.source + \". \"\n",
    "    if article.title:\n",
    "        text_b += article.title + \". \"\n",
    "    if article.url:\n",
    "        url_words = extract_words_from_url(article.url)\n",
    "        if url_words:\n",
    "            text_b += \" \".join(url_words) + \". \"\n",
    "    if article.content:\n",
    "        text_b += article.content\n",
    "    return clean_text(text_b)"
   ]
  },
  {
   "cell_type": "code",
   "execution_count": null,
   "metadata": {},
   "outputs": [],
   "source": [
    "def _visit(res):\n",
    "    _examples = []\n",
    "    claim = res[\"claim\"]\n",
    "    if not res[\"res\"]:\n",
    "        return None\n",
    "    hits = [(hit[\"score\"], hit[\"article\"]) for hit in res[\"res\"][\"hits\"][\"hits\"]]\n",
    "    \n",
    "    text_a = create_text_a(claim)\n",
    "    \n",
    "    related_articles_url_set = set(claim.related_articles.values())\n",
    "    \n",
    "    for score, article in hits:\n",
    "        text_b = create_text_b(article)\n",
    "            \n",
    "        _examples.append(SequenceClassificationExample(\n",
    "            guid=claim.index,\n",
    "            text_a=text_a,\n",
    "            text_b=text_b,\n",
    "            label=1 if article.url in related_articles_url_set else 0,\n",
    "            art_id=article.index\n",
    "        ))\n",
    "    return _examples\n",
    "\n",
    "pool = multiprocessing.Pool(48)\n",
    "examples = []\n",
    "misses = 0\n",
    "for result in tqdm(pool.imap_unordered(_visit, responses), total=len(responses)):\n",
    "    if result is None:\n",
    "        misses += 1\n",
    "    else:\n",
    "        examples.extend(result)"
   ]
  },
  {
   "cell_type": "code",
   "execution_count": 18,
   "metadata": {},
   "outputs": [],
   "source": [
    "with open(\"data/phase2-3/processed/rerank_examples.pkl\", \"wb\") as fo:\n",
    "    pickle.dump(examples, fo)"
   ]
  },
  {
   "cell_type": "code",
   "execution_count": 11,
   "metadata": {},
   "outputs": [
    {
     "name": "stdout",
     "output_type": "stream",
     "text": [
      "ERROR! Session/line number was not unique in database. History logging moved to new session 52\n"
     ]
    }
   ],
   "source": [
    "with open(\"data/phase2-3/processed/rerank_examples.pkl\", \"rb\") as fi:\n",
    "    examples = pickle.load(fi)"
   ]
  },
  {
   "cell_type": "code",
   "execution_count": 13,
   "metadata": {
    "colab": {},
    "colab_type": "code",
    "id": "DamT2JLogphk"
   },
   "outputs": [
    {
     "data": {
      "text/plain": [
       "{\n",
       "  \"guid\": \"phase2/10461\",\n",
       "  \"text_a\": \"\\\"The Embassy urges the Department of State and Department of Justice to take urgent measures to respect the legitimate rights of the Russian citizen, as well as to ensure proper conditions of Pyotr (Peter) Levashov\\u2019s detention and the protection of his human dignity,\\\" the statement said. \\\"The Embassy also demands that the Russian citizen is provided with medicine to treat his diagnosed diseases. We also expect human rights organizations to intervene in this situation.\\\" Consulate General of Russia in New York 2018-02-08\",\n",
       "  \"text_b\": \"newyorker. Four Women Accuse New York\\u2019s Attorney General, Eric Schneiderman, of Physical Abuse | The New Yorker. new yorker news news desk four women accuse new york attorney general physical abuse. Four Women Accuse New York\\u2019s Attorney General of Physical Abuse Eric Schneiderman has raised his profile as a voice against sexual misconduct. Now, after suing Harvey Weinstein, he faces a #MeToo reckoning of his own. As Eric Schneiderman used the authority of his office to assume a major role in the #MeToo movement, the distress of four women with whom he has had romantic relationships or encounters grew. Four Women Accuse New York\\u2019s Attorney General of Physical Abuse Eric Schneiderman has raised his profile as a voice against sexual misconduct. Now, after suing Harvey Weinstein, he faces a #MeToo reckoning of his own. As Eric Schneiderman used the authority of his office to assume a major role in the #MeToo movement, the distress of four women with whom he has had romantic relationships or encounters grew. Eric Schneiderman, New York\\u2019s attorney general, has long been a liberal Democratic champion of women\\u2019s rights, and recently he has become an outspoken figure in the #MeToo movement against sexual harassment. As New York State\\u2019s highest-ranking law-enforcement officer, Schneiderman, who is sixty-three, has used his authority to take legal action against the disgraced film mogul , and to demand greater compensation for the victims of Weinstein\\u2019s alleged sexual crimes. Last month, when the and this magazine were awarded a joint Pulitzer Prize for coverage of sexual harassment, Schneiderman issued a congratulatory tweet, praising \\u201cthe brave women and men who spoke up about the sexual harassment they had endured at the hands of powerful men.\\u201d Without these women, he noted, \\u201cthere would not be the critical national reckoning under way.\\u201d Now Schneiderman is facing a reckoning of his own. As his prominence as a voice against sexual misconduct has risen, so, too, has the distress of four women with whom he has had romantic relationships or encounters. They accuse Schneiderman of having subjected them to nonconsensual physical violence. All have been reluctant to speak out, fearing reprisal. But two of the women, Michelle Manning Barish and Tanya Selvaratnam, have talked to on the record, because they feel that doing so could protect other women. They allege that he repeatedly hit them, often after drinking, frequently in bed and never with their consent. Manning Barish and Selvaratnam categorize the abuse he inflicted on them as \\u201cassault.\\u201d They did not report their allegations to the police at the time, but both say that they eventually sought medical attention after having been slapped hard across the ear and face, and also choked. Selvaratnam says that Schneiderman warned her he could have her followed and her phones tapped, and both say that he threatened to kill them if they broke up with him. (Schneiderman\\u2019s spokesperson said that he \\u201cnever made any of these threats.\\u201d) A third former romantic partner of Schneiderman\\u2019s told Manning Barish and Selvaratnam that he also repeatedly subjected her to nonconsensual physical violence, but she told them that she is too frightened of him to come forward. ( has independently vetted the accounts that they gave of her allegations.) A fourth woman, an attorney who has held prominent positions in the New York legal community, says that Schneiderman made an advance toward her; when she rebuffed him, he slapped her across the face with such force that it left a mark that lingered the next day. She recalls screaming in surprise and pain, and beginning to cry, and says that she felt frightened. She has asked to remain unidentified, but shared a photograph of the injury with In a statement, Schneiderman said, \\u201cIn the privacy of intimate relationships, I have engaged in role-playing and other consensual sexual activity. I have not assaulted anyone. I have never engaged in nonconsensual sex, which is a line I would not cross.\\u201d Manning Barish was romantically involved with Schneiderman from the summer of 2013 until New Year\\u2019s Day in 2015. Selvaratnam was with him from the summer of 2016 until the fall of 2017. Both are articulate, progressive Democratic feminists in their forties who live in Manhattan. They work and socialize in different circles, and although they have become aware of each other\\u2019s stories, they have only a few overlapping acquaintances; to this day, they have never spoken to each other. Over the past year, both watched with admiration as other women spoke out about sexual misconduct. But, as Schneiderman used the authority of his office to assume a major role in the In February, four months after the first stories about Weinstein broke, Schneiderman announced that his office was filing a civil-rights suit against him. At a press conference, he denounced Weinstein, saying, \\u201cWe have never seen anything as despicable as what we\\u2019ve seen right here.\\u201d On May 2nd, at the direction of Governor Andrew Cuomo, Schneiderman launched an investigation into the past handling of criminal complaints against Weinstein by the Manhattan District Attorney, Cyrus Vance, Jr., and the New York City Police Department. (In 2015, Vance declined to bring criminal charges against Weinstein, saying that he lacked sufficient evidence\\u2014a decision criticized by activist groups.) In a speech, Cuomo explained that \\u201csexual-assault complaints must be pursued aggressively, and to the fullest extent of the law.\\u201d The expanding investigation of the Weinstein case puts Schneiderman at the center of one of the most significant sexual-misconduct cases in recent history. Schneiderman\\u2019s activism on behalf of feminist causes has increasingly won him praise from women\\u2019s groups. On May 1st, the New York-based National Institute for Reproductive Health honored him as one of three \\u201cChampions of Choice\\u201d at its annual fund-raising luncheon. Accepting the award, Schneiderman said, \\u201cIf a woman cannot control her body, she is not truly equal.\\u201d But, as Manning Barish sees it, \\u201cyou cannot be a champion of women when you are hitting them and choking them in bed, and saying to them, \\u2018You\\u2019re a fucking whore.\\u2019 \\u201d She says of Schneiderman\\u2019s involvement in the Weinstein investigation, \\u201cHow can you put a perpetrator in charge of the country\\u2019s most important sexual-assault case?\\u201d Selvaratnam describes Schneiderman as \\u201ca Dr. Jekyll and Mr. Hyde\\u201d figure, and says that seeing him lauded as a supporter of women has made her \\u201cfeel sick,\\u201d adding, \\u201cThis is a man who has staked his entire career, his personal narrative, on being a champion for women publicly. But he abuses them privately. He needs to be called out.\\u201d Manning Barish notes that many of her friends attended the N.I.R.H. luncheon. \\u201cHis hypocrisy is epic,\\u201d she says. \\u201cHe\\u2019s fooled so many people.\\u201d Manning Barish includes herself among them. She says that she met Schneiderman in July, 2013, through mutual friends. She had become a blogger and political activist after opposing her younger brother\\u2019s deployment to Iraq and working with groups such as MoveOn.org. Amicably divorced from Chris Barish, a hospitality-industry executive, she was a single mother with a young daughter and socially prominent friends. Schneiderman, who was rising in Democratic politics after being elected attorney general, in 2010, was also divorced. His ex-wife, Jennifer Cunningham, a lobbyist and political strategist at the firm SKDKnickerbocker, currently serves as one of his political consultants. They have a grown daughter. Manning Barish says that she fell quickly for Schneiderman and was happy to be involved with someone who seemed to share her progressive idealism and enjoy her feistiness. Page Six chronicled the romance, calling her a \\u201cravishing redhead\\u201d and noting that, at a fund-raiser, the television producer Norman Lear had introduced her as Schneiderman\\u2019s \\u201cbride-to-be.\\u201d But Manning Barish began to see signs of controlling and abusive behavior. Soon after she started dating Schneiderman, he told her to remove a small tattoo from her wrist; it wasn\\u2019t appropriate, he said, if she were to become the wife of a politician. The process of having it removed was painful and expensive. In retrospect, she says, it was the first step in trying to control her body. \\u201cTaking a strong woman and tearing her to pieces is his jam,\\u201d she says. About four weeks after they became physically involved, she says, Schneiderman grew violent. One night, they were in the bedroom of his Upper West Side apartment, still clothed but getting ready for bed, and lightly baiting each other. As she recalls it, he called her \\u201ca whore,\\u201d and she talked back. They had both been drinking, and her recollection of their conversation is blurry, but what happened next remains vivid. Schneiderman, she says, backed her up to the edge of his bed. \\u201cAll of a sudden, he just slapped me, open-handed and with great force, across the face, landing the blow directly onto my ear,\\u201d Manning Barish says. \\u201cIt was horrendous. It just came out of nowhere. My ear was ringing. I lost my balance and fell backward onto the bed. I sprang up, but at this point there was very little room between the bed and him. I got up to try to shove him back, or take a swing, and he pushed me back down. He then used his body weight to hold me down, and he began to choke me. The choking was very hard. It was really bad. I kicked. In every fibre, I felt I was being beaten by a man.\\u201d She finally freed herself and got back on her feet. \\u201cI was crying and in shock,\\u201d she says. She recalls shouting, \\u201cAre you crazy?\\u201d To her astonishment, Schneiderman accused her of scratching him. At one point\\u2014she can\\u2019t remember if it was at this moment or in a later conversation\\u2014he told her, \\u201cYou know, hitting an officer of the law is a felony.\\u201d After the incident, Manning Barish left the apartment, telling him that she would never come back. \\u201cI want to make it absolutely clear,\\u201d she says. \\u201cThis was under no circumstances a sex game gone wrong. This did not happen while we were having sex. I was fully dressed and remained that way. It was completely unexpected and shocking. I did not consent to physical assault.\\u201d In the following days, Manning Barish confided to three close female friends that Schneiderman had hit her. All of them have confirmed this to \\u201cShe was distraught,\\u201d one of the friends, a high-profile media figure, says. \\u201cShe was very, very upset. This wasn\\u2019t a gentle smack. He clocked her ear. I was shocked.\\u201d She notes, \\u201cMichelle had mentioned that he drank a lot, and that he changed under the influence of alcohol, but I\\u2019d never anticipated that he would be violent.\\u201d The friend describes Manning Barish as having seemed \\u201csad\\u201d and \\u201ctorn,\\u201d because \\u201cshe\\u2019d really wanted the relationship to work.\\u201d The novelist Salman Rushdie, who dated Manning Barish before Schneiderman did, and who has been her close friend for nearly fifteen years, says that she confided in him as well. \\u201cShe called me and told me he had hit her,\\u201d Rushdie recalls. \\u201cShe was obviously very upset. I was horrified.\\u201d In his view, Schneiderman\\u2019s behavior does not fall into the kind of gray area that should remain private. \\u201cIt was clear to me that it crossed a line,\\u201d he says. Rushdie, who describes Manning Barish as \\u201ca very truthful person, in my experience,\\u201d advised her to stay away from Schneiderman. Manning Barish went back to him, a decision that she regrets. After the attack, she says, Schneiderman \\u201ccalled and called\\u201d her. A few days later, on a weekday afternoon, his security detail drove him to her apartment, and he showed up at her door with an armload of flowers and a case of wine. She found the wine surprising, given the fact that alcohol had fuelled his violent behavior. She recalls saying over and over, \\u201cYou hit me! You hurt me! You should never hit a woman!\\u201d But he didn\\u2019t want to talk about having hit her. \\u201cThe hitting was an issue for him,\\u201d she says. Before long, they reconciled. Manning Barish says that her ear bothered her for months. It often felt painful and clogged, and she kept hearing odd gurgling sounds. Once, blood trickled out, reaching her collarbone. Eventually, Manning Barish sought medical help from Dr. Gwen Korovin, an ear, nose, and throat specialist. Manning Barish shared her medical records with . They confirm that, on September 13, 2014, Korovin found and removed \\u201cdried bloody crust\\u201d from Manning Barish\\u2019s ear. Manning Barish thought that the slap might have caused the injury, but when Korovin asked her what had happened she said that she might have injured herself with a Q-tip. \\u201cI was protecting Eric,\\u201d Manning Barish says. \\u201cAnd I was ashamed. For victims, shame plays a huge role in most of these stories. I want people to know that.\\u201d Korovin was asked by if the injury could have been caused by a slap. \\u201cYes, it could be consistent with a slap,\\u201d she said. \\u201cYou could perforate an eardrum in a lot of ways, with a Q-tip or with a slap.\\u201d Manning Barish and Schneiderman were together, off and on, for nearly two years. She says that when they had sex he often slapped her across the face without her consent, and that she felt \\u201cemotionally battered\\u201d by cruel remarks that he made. She says that he criticized how she looked and dressed, and \\u201ccontrolled what I ate.\\u201d Manning Barish, who is five feet seven, lost thirty pounds, falling to a hundred and three. In a photograph from the period, she looks emaciated; her hair, she recalls, started to fall out. Nevertheless, he squeezed her legs and called them \\u201cchubby.\\u201d Manning Barish says that Schneiderman pressed her to consume huge amounts of alcohol. She recalls, \\u201cI would come over for dinner. An already half-empty bottle of red wine would be on the counter. He had had a head start. \\u2018Very stressful day,\\u2019 he would say.\\u201d Sometimes, if she didn\\u2019t drink quickly enough, she says, he would \\u201ccome to me like a baby who wouldn\\u2019t eat its food, and hold the glass to my lips while holding my face, and sweetly but forcefully, like a parent, say, \\u2018Come on, Mimi, drink, drink, drink,\\u2019 and essentially force me\\u2014at times actually spilling it down my chin and onto my chest.\\u201d Schneiderman, she recalls, \\u201cwould almost always drink two bottles of wine in a night, then bring a bottle of Scotch into the bedroom. He would get absolutely plastered five nights out of seven.\\u201d On one occasion, she recalls, \\u201che literally fell on his face in my kitchen, straight down, like a tree falling.\\u201d Another evening, he smashed his leg against an open drawer, cutting it so badly that \\u201cthere was blood all over the place.\\u201d She bandaged it, but the next day she went to his office to change the dressing, because the bleeding hadn\\u2019t stopped. Manning Barish says that Schneiderman also took prescription tranquillizers, and often asked her to refill a prescription that she had for Xanax, so that he could reserve \\u201cabout half\\u201d the pills for himself. (Schneiderman\\u2019s spokesperson said that he has \\u201cnever commandeered anyone\\u2019s medications.\\u201d) Sometimes in bed, she recalls, he would be \\u201cshaking me and grabbing my face\\u201d while demanding that she repeat such things as \\u201cI\\u2019m a little whore.\\u201d She says that he also told her, \\u201cIf you ever left me, I\\u2019d kill you.\\u201d Evan Stark, a forensic social worker and an emeritus professor at Rutgers, is the author of a landmark book, \\u201cCoercive Control,\\u201d in which he argues that domestic abuse is just as often psychological as it is physical. Abusive men, he writes, often \\u201cterrorize\\u201d and \\u201ccontrol\\u201d their partners by demeaning them, particularly about the traits or accomplishments of which they are proudest. Manning Barish says that Schneiderman often mocked her political activism. When she told him of her plan to attend an anti-gun demonstration with various political figures and a group of parents from Sandy Hook Elementary School, he dismissed the effort, calling the demonstrators \\u201closers.\\u201d He added, \\u201cGo ahead, if it makes you feel better to do your little political things.\\u201d When she was using her computer, he\\u2019d sometimes say, \\u201cOh, look at little Mimi. So cute\\u2014she\\u2019s \\u201d He told Manning Barish that, because she had childcare, she wasn\\u2019t \\u201ca real single mother.\\u201d Manning Barish broke up with Sch\",\n",
       "  \"label\": 0,\n",
       "  \"art_id\": \"https://www.newyorker.com/news/news-desk/four-women-accuse-new-yorks-attorney-general-of-physical-abuse\"\n",
       "}"
      ]
     },
     "execution_count": 13,
     "metadata": {},
     "output_type": "execute_result"
    }
   ],
   "source": [
    "examples[-1]"
   ]
  },
  {
   "cell_type": "code",
   "execution_count": 14,
   "metadata": {
    "colab": {},
    "colab_type": "code",
    "id": "K4m8MQZmbWex"
   },
   "outputs": [
    {
     "data": {
      "text/plain": [
       "0"
      ]
     },
     "execution_count": 14,
     "metadata": {},
     "output_type": "execute_result"
    }
   ],
   "source": [
    "misses"
   ]
  },
  {
   "cell_type": "code",
   "execution_count": 15,
   "metadata": {
    "colab": {},
    "colab_type": "code",
    "id": "DCteL6dXbX53"
   },
   "outputs": [
    {
     "name": "stdout",
     "output_type": "stream",
     "text": [
      "391830\n",
      "349041\n"
     ]
    }
   ],
   "source": [
    "print(len(responses)*30)\n",
    "print(len(examples))"
   ]
  },
  {
   "cell_type": "markdown",
   "metadata": {
    "colab_type": "text",
    "id": "1Ocq58LFblA_"
   },
   "source": [
    "# Predict\n",
    "---"
   ]
  },
  {
   "cell_type": "code",
   "execution_count": 16,
   "metadata": {
    "colab": {},
    "colab_type": "code",
    "id": "GNS6evMZbpsU"
   },
   "outputs": [],
   "source": [
    "os.environ[\"WANDB_DISABLED\"] = \"true\"\n",
    "os.environ[\"WANDB_MODE\"] = \"dryrun\"\n",
    "os.environ[\"WANDB_WATCH\"] = \"false\""
   ]
  },
  {
   "cell_type": "code",
   "execution_count": 17,
   "metadata": {},
   "outputs": [],
   "source": [
    "# \"castorini/monot5-base-msmarco\"\n",
    "# \"castorini/monobert-large-msmarco\"\n",
    "# \"nboost/pt-bert-large-msmarco\"]:\n",
    "pretrained_model_name_or_path = \"castorini/monobert-large-msmarco\"\n",
    "nproc=48\n",
    "predict_batch_size=64"
   ]
  },
  {
   "cell_type": "code",
   "execution_count": 18,
   "metadata": {},
   "outputs": [
    {
     "name": "stdout",
     "output_type": "stream",
     "text": [
      "[2020-07-11 23:28:24,572] INFO:transformers.configuration_utils: loading configuration file https://s3.amazonaws.com/models.huggingface.co/bert/castorini/monobert-large-msmarco/config.json from cache at /home/jay/.cache/torch/transformers/643500d870067d59f219f7b5652919267c01bfa98024e2e74f53b28c1b6aff2b.4c88e2dec8f8b017f319f6db2b157fee632c0860d9422e4851bd0d6999f9ce38\n",
      "[2020-07-11 23:28:24,573] INFO:transformers.configuration_utils: Model config BertConfig {\n",
      "  \"attention_probs_dropout_prob\": 0.1,\n",
      "  \"gradient_checkpointing\": false,\n",
      "  \"hidden_act\": \"gelu\",\n",
      "  \"hidden_dropout_prob\": 0.1,\n",
      "  \"hidden_size\": 1024,\n",
      "  \"initializer_range\": 0.02,\n",
      "  \"intermediate_size\": 4096,\n",
      "  \"layer_norm_eps\": 1e-12,\n",
      "  \"max_position_embeddings\": 512,\n",
      "  \"model_type\": \"bert\",\n",
      "  \"num_attention_heads\": 16,\n",
      "  \"num_hidden_layers\": 24,\n",
      "  \"pad_token_id\": 0,\n",
      "  \"type_vocab_size\": 2,\n",
      "  \"vocab_size\": 30522\n",
      "}\n",
      "\n",
      "[2020-07-11 23:28:24,573] INFO:transformers.tokenization_utils_base: Model name 'castorini/monobert-large-msmarco' not found in model shortcut name list (bert-base-uncased, bert-large-uncased, bert-base-cased, bert-large-cased, bert-base-multilingual-uncased, bert-base-multilingual-cased, bert-base-chinese, bert-base-german-cased, bert-large-uncased-whole-word-masking, bert-large-cased-whole-word-masking, bert-large-uncased-whole-word-masking-finetuned-squad, bert-large-cased-whole-word-masking-finetuned-squad, bert-base-cased-finetuned-mrpc, bert-base-german-dbmdz-cased, bert-base-german-dbmdz-uncased, TurkuNLP/bert-base-finnish-cased-v1, TurkuNLP/bert-base-finnish-uncased-v1, wietsedv/bert-base-dutch-cased). Assuming 'castorini/monobert-large-msmarco' is a path, a model identifier, or url to a directory containing tokenizer files.\n",
      "[2020-07-11 23:28:25,334] INFO:transformers.tokenization_utils_base: loading file https://s3.amazonaws.com/models.huggingface.co/bert/castorini/monobert-large-msmarco/vocab.txt from cache at /home/jay/.cache/torch/transformers/7e579d33b9ca381ae377521c4918fb66ee50a10d0fa955173dc5ad550a05b40c.542ce4285a40d23a559526243235df47c5f75c197f04f37d1a0c124c32c9a084\n",
      "[2020-07-11 23:28:25,335] INFO:transformers.tokenization_utils_base: loading file https://s3.amazonaws.com/models.huggingface.co/bert/castorini/monobert-large-msmarco/added_tokens.json from cache at /home/jay/.cache/torch/transformers/cba5f19d6689880029e5bccfd5e3c905f2067168a27322e8c7a4bf55b5a9a0ad.3889713104075cfee9e96090bcdd0dc753733b3db9da20d1dd8b2cd1030536a2\n",
      "[2020-07-11 23:28:25,335] INFO:transformers.tokenization_utils_base: loading file https://s3.amazonaws.com/models.huggingface.co/bert/castorini/monobert-large-msmarco/special_tokens_map.json from cache at /home/jay/.cache/torch/transformers/01358c6ecc96532f113f6b9633dcef2fbe2e8142997f6b296df5a9ffb4ae19ab.275045728fbf41c11d3dae08b8742c054377e18d92cc7b72b6351152a99b64e4\n",
      "[2020-07-11 23:28:25,335] INFO:transformers.tokenization_utils_base: loading file https://s3.amazonaws.com/models.huggingface.co/bert/castorini/monobert-large-msmarco/tokenizer_config.json from cache at /home/jay/.cache/torch/transformers/1ed92dc6896c1ff8e5e65d28cb4bebc094ac70f3c961fabb25e0e1e4729b919c.3fc3a7b9028b25d25e6393f1d27ed643eb6ba9ce4113c05aa13277951cff117c\n",
      "[2020-07-11 23:28:25,335] INFO:transformers.tokenization_utils_base: loading file https://s3.amazonaws.com/models.huggingface.co/bert/castorini/monobert-large-msmarco/tokenizer.json from cache at None\n",
      "[2020-07-11 23:28:25,523] INFO:transformers.configuration_utils: loading configuration file https://s3.amazonaws.com/models.huggingface.co/bert/castorini/monobert-large-msmarco/config.json from cache at /home/jay/.cache/torch/transformers/643500d870067d59f219f7b5652919267c01bfa98024e2e74f53b28c1b6aff2b.4c88e2dec8f8b017f319f6db2b157fee632c0860d9422e4851bd0d6999f9ce38\n",
      "[2020-07-11 23:28:25,524] INFO:transformers.configuration_utils: Model config BertConfig {\n",
      "  \"attention_probs_dropout_prob\": 0.1,\n",
      "  \"gradient_checkpointing\": false,\n",
      "  \"hidden_act\": \"gelu\",\n",
      "  \"hidden_dropout_prob\": 0.1,\n",
      "  \"hidden_size\": 1024,\n",
      "  \"initializer_range\": 0.02,\n",
      "  \"intermediate_size\": 4096,\n",
      "  \"layer_norm_eps\": 1e-12,\n",
      "  \"max_position_embeddings\": 512,\n",
      "  \"model_type\": \"bert\",\n",
      "  \"num_attention_heads\": 16,\n",
      "  \"num_hidden_layers\": 24,\n",
      "  \"pad_token_id\": 0,\n",
      "  \"type_vocab_size\": 2,\n",
      "  \"vocab_size\": 30522\n",
      "}\n",
      "\n",
      "[2020-07-11 23:28:25,798] INFO:transformers.modeling_utils: loading weights file https://cdn.huggingface.co/castorini/monobert-large-msmarco/pytorch_model.bin from cache at /home/jay/.cache/torch/transformers/c48fb89cc59db72299f77c13a9f914ae2dd73cae21dcdcef4281c0308e2f4075.454581226736f9af4828c8d3a034ecd8c0c174c620fcb9356260b0342591de76\n",
      "[2020-07-11 23:28:34,968] INFO:transformers.modeling_utils: All model checkpoint weights were used when initializing BertForSequenceClassification.\n",
      "\n",
      "[2020-07-11 23:28:34,968] INFO:transformers.modeling_utils: All the weights of BertForSequenceClassification were initialized from the model checkpoint at castorini/monobert-large-msmarco.\n",
      "If your task is similar to the task the model of the ckeckpoint was trained on, you can already use BertForSequenceClassification for predictions without further training.\n"
     ]
    }
   ],
   "source": [
    "model = SequenceClassificationModel.from_pretrained(pretrained_model_name_or_path)"
   ]
  },
  {
   "cell_type": "code",
   "execution_count": 19,
   "metadata": {},
   "outputs": [
    {
     "name": "stdout",
     "output_type": "stream",
     "text": [
      "[2020-07-11 23:28:39,318] INFO:valerie.modeling: ... converting examples to features ...\n"
     ]
    },
    {
     "data": {
      "application/vnd.jupyter.widget-view+json": {
       "model_id": "b7300ea7a46c4f7494e7389efbb4e19b",
       "version_major": 2,
       "version_minor": 0
      },
      "text/plain": [
       "HBox(children=(FloatProgress(value=0.0, description='converting examples to features', max=349041.0, style=Pro…"
      ]
     },
     "metadata": {},
     "output_type": "display_data"
    },
    {
     "name": "stdout",
     "output_type": "stream",
     "text": [
      "\n"
     ]
    }
   ],
   "source": [
    "examples_dataset = model.create_dataset(examples, nproc=nproc)"
   ]
  },
  {
   "cell_type": "code",
   "execution_count": 20,
   "metadata": {},
   "outputs": [
    {
     "name": "stdout",
     "output_type": "stream",
     "text": [
      "[2020-07-11 23:37:50,143] INFO:valerie.modeling: .. saving features to cached file data/phase2-3/processed/rerank_examples_dataset.bin ...\n"
     ]
    }
   ],
   "source": [
    "examples_dataset.save(\"data/phase2-3/processed/rerank_examples_dataset.bin\")"
   ]
  },
  {
   "cell_type": "code",
   "execution_count": 21,
   "metadata": {},
   "outputs": [
    {
     "name": "stdout",
     "output_type": "stream",
     "text": [
      "1.2G\tdata/phase2-3/processed/rerank_examples_dataset.bin\n",
      "1.2G\ttotal\n"
     ]
    }
   ],
   "source": [
    "!du -csh data/phase2-3/processed/rerank_examples_dataset.bin"
   ]
  },
  {
   "cell_type": "code",
   "execution_count": 24,
   "metadata": {},
   "outputs": [
    {
     "name": "stdout",
     "output_type": "stream",
     "text": [
      "0,1,2,3,4,5,6,7\n"
     ]
    }
   ],
   "source": [
    "os.environ[\"CUDA_VISIBLE_DEVICES\"]=\"0,1,2,3,4,5,6,7\"\n",
    "!echo $CUDA_VISIBLE_DEVICES"
   ]
  },
  {
   "cell_type": "code",
   "execution_count": 25,
   "metadata": {},
   "outputs": [
    {
     "name": "stdout",
     "output_type": "stream",
     "text": [
      "[2020-07-11 23:48:23,567] INFO:transformers.training_args: PyTorch: setting up devices\n",
      "[2020-07-11 23:48:23,578] INFO:transformers.trainer: Automatic Weights & Biases logging enabled, to disable set os.environ[\"WANDB_DISABLED\"] = \"true\"\n",
      "[2020-07-11 23:48:23,580] INFO:transformers.trainer: ***** Running Prediction *****\n",
      "[2020-07-11 23:48:23,580] INFO:transformers.trainer:   Num examples = 349041\n",
      "[2020-07-11 23:48:23,580] INFO:transformers.trainer:   Batch size = 1024\n"
     ]
    },
    {
     "data": {
      "application/vnd.jupyter.widget-view+json": {
       "model_id": "013b3e9e5c644427900c539db8c63fb0",
       "version_major": 2,
       "version_minor": 0
      },
      "text/plain": [
       "HBox(children=(FloatProgress(value=0.0, description='Prediction', max=341.0, style=ProgressStyle(description_w…"
      ]
     },
     "metadata": {},
     "output_type": "display_data"
    },
    {
     "name": "stdout",
     "output_type": "stream",
     "text": [
      "\n"
     ]
    }
   ],
   "source": [
    "predict_output = model.predict(examples_dataset, predict_batch_size=256)"
   ]
  },
  {
   "cell_type": "code",
   "execution_count": 27,
   "metadata": {},
   "outputs": [],
   "source": [
    "with open(\"data/phase2-3/processed/rerank_predict_output.pkl\", \"wb\") as fo:\n",
    "    pickle.dump(predict_output, fo)"
   ]
  },
  {
   "cell_type": "code",
   "execution_count": 26,
   "metadata": {
    "colab": {},
    "colab_type": "code",
    "id": "J2YvlHrobmdq"
   },
   "outputs": [
    {
     "data": {
      "application/vnd.jupyter.widget-view+json": {
       "model_id": "c1c9ae7a93bc4ef0bda4ef0fa24a0286",
       "version_major": 2,
       "version_minor": 0
      },
      "text/plain": [
       "HBox(children=(FloatProgress(value=1.0, bar_style='info', max=1.0), HTML(value='')))"
      ]
     },
     "metadata": {},
     "output_type": "display_data"
    },
    {
     "name": "stdout",
     "output_type": "stream",
     "text": [
      "\n",
      "api\n",
      "{\n",
      "  \"perfect_rerank_score\": 0.9141486415632643,\n",
      "  \"perfect_rerank_error\": \"'None'\",\n",
      "  \"api_score\": 0.48792873363807776,\n",
      "  \"api_error\": \"'None'\"\n",
      "}\n",
      "\n",
      "trans\n",
      "{\n",
      "  \"perfect_rerank_score\": 0.9141486415632643,\n",
      "  \"perfect_rerank_error\": \"'None'\",\n",
      "  \"api_score\": 0.5452106483278761,\n",
      "  \"api_error\": \"'None'\"\n",
      "}\n",
      "\n",
      "both\n",
      "{\n",
      "  \"perfect_rerank_score\": 0.9141486415632643,\n",
      "  \"perfect_rerank_error\": \"'None'\",\n",
      "  \"api_score\": 0.5376940740316324,\n",
      "  \"api_error\": \"'None'\"\n",
      "}\n",
      "\n",
      "\n",
      "\n"
     ]
    }
   ],
   "source": [
    "claims_dict = {res[\"claim\"].index: res[\"claim\"] for res in responses if res[\"res\"]}\n",
    "api_scores_dict = {\n",
    "    res[\"claim\"].index: {\n",
    "        hit[\"article\"].index: hit[\"score\"] for hit in res[\"res\"][\"hits\"][\"hits\"]\n",
    "    }\n",
    "    for res in responses\n",
    "    if res[\"res\"]\n",
    "}\n",
    "\n",
    "\n",
    "rerank_just_api_responses = {\n",
    "    res[\"claim\"].index: [\n",
    "        (hit[\"article\"].index, hit[\"score\"]) for hit in res[\"res\"][\"hits\"][\"hits\"]\n",
    "    ]\n",
    "    for res in responses\n",
    "    if res[\"res\"]\n",
    "}\n",
    "\n",
    "rerank_just_trans_responses = {res[\"claim\"].index: [] for res in responses if res[\"res\"]}\n",
    "\n",
    "rerank_both_responses = {\n",
    "    res[\"claim\"].index: []\n",
    "    for res in responses\n",
    "    if res[\"res\"]\n",
    "}\n",
    "\n",
    "for example, proba in tqdm(zip(examples, predict_output.predictions)):\n",
    "    proba = float(proba[1]) # get probability that the article is related\n",
    "\n",
    "    rerank_just_trans_responses[example.guid].append((example.art_id, proba))\n",
    "    rerank_both_responses[example.guid].append((example.art_id, proba + api_scores_dict[example.guid][example.art_id]))\n",
    "    \n",
    "print('api')\n",
    "print(json.dumps(compute_responses_score(rerank_just_api_responses, claims_dict), indent=2))\n",
    "print()\n",
    "print('trans')\n",
    "print(json.dumps(compute_responses_score(rerank_just_trans_responses, claims_dict), indent=2))\n",
    "print()\n",
    "print('both')\n",
    "print(json.dumps(compute_responses_score(rerank_both_responses, claims_dict), indent=2))\n",
    "print()\n",
    "print()\n",
    "print()"
   ]
  },
  {
   "cell_type": "markdown",
   "metadata": {
    "colab_type": "text",
    "id": "I6Gu45bVn1sy"
   },
   "source": [
    "# Results\n",
    "---"
   ]
  },
  {
   "cell_type": "code",
   "execution_count": 29,
   "metadata": {
    "colab": {},
    "colab_type": "code",
    "id": "NV2g5ha1n455"
   },
   "outputs": [
    {
     "data": {
      "text/plain": [
       "{'perfect_rerank_score': 0.9141486415632643,\n",
       " 'perfect_rerank_error': \"'None'\",\n",
       " 'api_score': 0.48792873363807776,\n",
       " 'api_error': \"'None'\"}"
      ]
     },
     "execution_count": 29,
     "metadata": {},
     "output_type": "execute_result"
    }
   ],
   "source": [
    "compute_responses_score(rerank_just_api_responses, claims_dict)"
   ]
  },
  {
   "cell_type": "code",
   "execution_count": 30,
   "metadata": {
    "colab": {},
    "colab_type": "code",
    "id": "vp6mnXWZn5zW"
   },
   "outputs": [
    {
     "data": {
      "text/plain": [
       "{'perfect_rerank_score': 0.9141486415632643,\n",
       " 'perfect_rerank_error': \"'None'\",\n",
       " 'api_score': 0.5452106483278761,\n",
       " 'api_error': \"'None'\"}"
      ]
     },
     "execution_count": 30,
     "metadata": {},
     "output_type": "execute_result"
    }
   ],
   "source": [
    "compute_responses_score(rerank_just_trans_responses, claims_dict)"
   ]
  },
  {
   "cell_type": "code",
   "execution_count": 31,
   "metadata": {
    "colab": {},
    "colab_type": "code",
    "id": "f0W5F38On61c"
   },
   "outputs": [
    {
     "data": {
      "text/plain": [
       "{'perfect_rerank_score': 0.9141486415632643,\n",
       " 'perfect_rerank_error': \"'None'\",\n",
       " 'api_score': 0.5376940740316324,\n",
       " 'api_error': \"'None'\"}"
      ]
     },
     "execution_count": 31,
     "metadata": {},
     "output_type": "execute_result"
    }
   ],
   "source": [
    "compute_responses_score(rerank_both_responses, claims_dict)"
   ]
  },
  {
   "cell_type": "code",
   "execution_count": null,
   "metadata": {
    "colab": {},
    "colab_type": "code",
    "id": "6wM6FLZojuV6"
   },
   "outputs": [],
   "source": []
  }
 ],
 "metadata": {
  "accelerator": "GPU",
  "colab": {
   "collapsed_sections": [],
   "name": "__experiment.ipynb",
   "private_outputs": true,
   "provenance": []
  },
  "kernelspec": {
   "display_name": "Python 3",
   "language": "python",
   "name": "python3"
  },
  "language_info": {
   "codemirror_mode": {
    "name": "ipython",
    "version": 3
   },
   "file_extension": ".py",
   "mimetype": "text/x-python",
   "name": "python",
   "nbconvert_exporter": "python",
   "pygments_lexer": "ipython3",
   "version": "3.7.7"
  }
 },
 "nbformat": 4,
 "nbformat_minor": 4
}
