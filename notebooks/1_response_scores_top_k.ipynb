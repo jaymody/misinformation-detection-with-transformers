{
 "cells": [
  {
   "cell_type": "markdown",
   "metadata": {},
   "source": [
    "# Conclusions\n",
    "After about 15 articles, the likelyhood of an article being within the related articles gets lower and lower, meaning the gains of inspecting more articles for selection (or querying more articles than 30), is probably not worth the computational time."
   ]
  },
  {
   "cell_type": "code",
   "execution_count": null,
   "metadata": {},
   "outputs": [],
   "source": [
    "import os\n",
    "import json\n",
    "import pickle\n",
    "import collections\n",
    "\n",
    "import numpy as np\n",
    "import matplotlib.pyplot as plt\n",
    "from tqdm.auto import tqdm\n",
    "\n",
    "from valerie.utils import get_logger\n",
    "from valerie.scoring import validate_predictions_phase2, compute_score_phase2"
   ]
  },
  {
   "cell_type": "code",
   "execution_count": null,
   "metadata": {},
   "outputs": [],
   "source": [
    "def compute_score_phase2(labels, predictions):\n",
    "    \"\"\"\n",
    "    predictions and labels are a dict\n",
    "    check for duplicate relevant articles\n",
    "    \"\"\"\n",
    "    n_class = collections.Counter([labels[o][\"label\"] for o in labels])\n",
    "    scores = {\"0\": [], \"1\": [], \"2\": []}\n",
    "    preds = []\n",
    "    explanations = []\n",
    "    if len(predictions) != len(labels):\n",
    "        raise ValueError(\"prediction missing for some claims\")\n",
    "    # loop over predictions as the normalizing factor is n_class (# labels predicted)\n",
    "    for claim_id in predictions:\n",
    "        if len(predictions[claim_id][\"explanation\"]) > 1000:\n",
    "            return {\n",
    "                \"score\": 0.0,\n",
    "                \"explanation\": \"'N/S'\",\n",
    "                \"error\": \"'MaxCharacterLimitError'\",\n",
    "                \"predictions\": \"'N/A'\",\n",
    "            }\n",
    "        pred = predictions[claim_id][\"label\"]\n",
    "        preds.append(str(pred))\n",
    "        label = labels[claim_id][\"label\"]\n",
    "        if pred != label:\n",
    "            scores[str(label)].append(0)\n",
    "            continue\n",
    "        rel_articles = list(predictions[claim_id][\"related_articles\"].values())\n",
    "#         if len(rel_articles) > 2:\n",
    "#             return {\n",
    "#                 \"score\": 0.0,\n",
    "#                 \"explanation\": \"'N/S'\",\n",
    "#                 \"error\": \"'MaxRelatedArticlesLimitError'\",\n",
    "#                 \"predictions\": \"'N/A'\",\n",
    "#             }\n",
    "        # remove any duplicate url links\n",
    "        rel_articles = set(rel_articles)\n",
    "        gt_rel_articles = list(labels[claim_id][\"related_articles\"].values())\n",
    "        scores[str(label)].append(\n",
    "            sum([int(a in gt_rel_articles) for a in rel_articles])\n",
    "        )\n",
    "        explanations.append(predictions[claim_id][\"explanation\"].replace(\"'\", \"\"))\n",
    "\n",
    "    for l in scores:\n",
    "        if not scores[l]:  # if scores[l] is [], np.mean returns a NaN\n",
    "            scores[l] = 0.0\n",
    "        else:\n",
    "            scores[l] = sum(scores[l]) / n_class[int(l)]\n",
    "\n",
    "    return {\n",
    "        \"score\": np.mean(list(scores.values())),\n",
    "        \"error\": \"'None'\",\n",
    "        \"explanation\": \"'{}'\".format(\"|\".join(explanations)),\n",
    "        \"predictions\": \"'[{}]'\".format(\",\".join(preds)),\n",
    "    }"
   ]
  },
  {
   "cell_type": "code",
   "execution_count": null,
   "metadata": {},
   "outputs": [],
   "source": [
    "def compute_responses_score(responses, num_to_keep):\n",
    "    predictions = {}\n",
    "    perfect_predictions = {}\n",
    "    labels = {}\n",
    "\n",
    "    for v in responses:\n",
    "        claim = v[\"claim\"]\n",
    "        labels[claim.id] = claim.to_dict()\n",
    "        predictions[claim.id] = {\n",
    "            \"label\": claim.label,\n",
    "            \"related_articles\": {\n",
    "                i + 1: x\n",
    "                for i, x in enumerate(\n",
    "                    [hit[\"url\"] for hit in v[\"res\"][\"hits\"][\"hits\"][:num_to_keep]]\n",
    "                )\n",
    "            }\n",
    "            if v[\"res\"]\n",
    "            else {},\n",
    "            \"explanation\": \"\",\n",
    "        }\n",
    "        perfect_predictions[claim.id] = {\n",
    "            \"label\": claim.label,\n",
    "            \"related_articles\": {\n",
    "                i + 1: x\n",
    "                for i, x in enumerate(\n",
    "                    [\n",
    "                        hit[\"url\"]\n",
    "                        for hit in v[\"res\"][\"hits\"][\"hits\"]\n",
    "                        if hit[\"url\"] in claim.related_articles.values()\n",
    "                    ][:num_to_keep]\n",
    "                )\n",
    "            }\n",
    "            if v[\"res\"]\n",
    "            else {},\n",
    "            \"explanation\": \"\",\n",
    "        }\n",
    "\n",
    "#     validate_predictions_phase2(predictions)\n",
    "    score = compute_score_phase2(labels, predictions)\n",
    "#     validate_predictions_phase2(perfect_predictions)\n",
    "    perfect_score = compute_score_phase2(labels, perfect_predictions)\n",
    "    return {\n",
    "        \"perfect_rerank_score\": perfect_score[\"score\"],\n",
    "        \"perfect_rerank_error\": perfect_score[\"error\"],\n",
    "        \"api_score\": score[\"score\"],\n",
    "        \"api_error\": score[\"error\"],\n",
    "    }"
   ]
  },
  {
   "cell_type": "markdown",
   "metadata": {},
   "source": [
    "# Phase2 Train"
   ]
  },
  {
   "cell_type": "code",
   "execution_count": 4,
   "metadata": {},
   "outputs": [],
   "source": [
    "with open(\"data/phase2-3/processed/responses.pkl\", \"rb\") as fi:\n",
    "    responses = pickle.load(fi)"
   ]
  },
  {
   "cell_type": "code",
   "execution_count": 5,
   "metadata": {},
   "outputs": [
    {
     "data": {
      "text/plain": [
       "13061"
      ]
     },
     "execution_count": 5,
     "metadata": {},
     "output_type": "execute_result"
    }
   ],
   "source": [
    "len(responses)"
   ]
  },
  {
   "cell_type": "code",
   "execution_count": 6,
   "metadata": {},
   "outputs": [
    {
     "data": {
      "application/vnd.jupyter.widget-view+json": {
       "model_id": "3dfb4cd6696d4473b783a5425307cccc",
       "version_major": 2,
       "version_minor": 0
      },
      "text/plain": [
       "HBox(children=(FloatProgress(value=0.0, max=30.0), HTML(value='')))"
      ]
     },
     "metadata": {},
     "output_type": "display_data"
    },
    {
     "name": "stdout",
     "output_type": "stream",
     "text": [
      "\n"
     ]
    }
   ],
   "source": [
    "perfect_scores = []\n",
    "scores = []\n",
    "for i in tqdm(range(30)):\n",
    "    _result = compute_responses_score(responses, i)\n",
    "    perfect_scores.append(_result[\"perfect_rerank_score\"])\n",
    "    scores.append(_result[\"api_score\"])"
   ]
  },
  {
   "cell_type": "code",
   "execution_count": 7,
   "metadata": {},
   "outputs": [
    {
     "name": "stdout",
     "output_type": "stream",
     "text": [
      "0\t0.000\t0.000\n",
      "1\t0.620\t0.335\n",
      "2\t0.914\t0.488\n",
      "3\t1.038\t0.586\n",
      "4\t1.095\t0.656\n",
      "5\t1.120\t0.712\n",
      "6\t1.131\t0.758\n",
      "7\t1.136\t0.795\n",
      "8\t1.139\t0.826\n",
      "9\t1.141\t0.859\n",
      "10\t1.142\t0.884\n",
      "11\t1.143\t0.907\n",
      "12\t1.143\t0.930\n",
      "13\t1.143\t0.950\n",
      "14\t1.143\t0.969\n",
      "15\t1.143\t0.989\n",
      "16\t1.143\t1.005\n",
      "17\t1.143\t1.022\n",
      "18\t1.143\t1.038\n",
      "19\t1.143\t1.053\n",
      "20\t1.143\t1.066\n",
      "21\t1.143\t1.078\n",
      "22\t1.143\t1.090\n",
      "23\t1.143\t1.101\n",
      "24\t1.143\t1.111\n",
      "25\t1.143\t1.119\n",
      "26\t1.143\t1.128\n",
      "27\t1.143\t1.134\n",
      "28\t1.143\t1.139\n",
      "29\t1.143\t1.142\n"
     ]
    }
   ],
   "source": [
    "for i, (ps, s) in enumerate(zip(perfect_scores, scores)):\n",
    "    print(\"{}\\t{:.3f}\\t{:.3f}\".format(i, float(ps), float(s)))"
   ]
  },
  {
   "cell_type": "code",
   "execution_count": 8,
   "metadata": {},
   "outputs": [
    {
     "data": {
      "image/png": "[encoded data removed]",
      "text/plain": [
       "<Figure size 432x288 with 1 Axes>"
      ]
     },
     "metadata": {
      "needs_background": "light"
     },
     "output_type": "display_data"
    }
   ],
   "source": [
    "plt.plot(list(range(30)), perfect_scores, label=\"perfect\")\n",
    "plt.plot(list(range(30)), scores, label=\"api\")\n",
    "plt.legend()\n",
    "plt.show()"
   ]
  },
  {
   "cell_type": "markdown",
   "metadata": {},
   "source": [
    "# Phase2 Validation"
   ]
  },
  {
   "cell_type": "code",
   "execution_count": 10,
   "metadata": {},
   "outputs": [],
   "source": [
    "with open(\"data/phase2-validation/processed/responses.pkl\", \"rb\") as fi:\n",
    "    responses = pickle.load(fi)"
   ]
  },
  {
   "cell_type": "code",
   "execution_count": 11,
   "metadata": {},
   "outputs": [
    {
     "data": {
      "text/plain": [
       "500"
      ]
     },
     "execution_count": 11,
     "metadata": {},
     "output_type": "execute_result"
    }
   ],
   "source": [
    "len(responses)"
   ]
  },
  {
   "cell_type": "code",
   "execution_count": 12,
   "metadata": {},
   "outputs": [
    {
     "data": {
      "application/vnd.jupyter.widget-view+json": {
       "model_id": "1bb25415f175459aa2b1910e23bdfca0",
       "version_major": 2,
       "version_minor": 0
      },
      "text/plain": [
       "HBox(children=(FloatProgress(value=0.0, max=30.0), HTML(value='')))"
      ]
     },
     "metadata": {},
     "output_type": "display_data"
    },
    {
     "name": "stdout",
     "output_type": "stream",
     "text": [
      "\n"
     ]
    }
   ],
   "source": [
    "perfect_scores = []\n",
    "scores = []\n",
    "for i in tqdm(range(30)):\n",
    "    _result = compute_responses_score(responses, i)\n",
    "    perfect_scores.append(_result[\"perfect_rerank_score\"])\n",
    "    scores.append(_result[\"api_score\"])"
   ]
  },
  {
   "cell_type": "code",
   "execution_count": 13,
   "metadata": {},
   "outputs": [
    {
     "name": "stdout",
     "output_type": "stream",
     "text": [
      "0\t0.000\t0.000\n",
      "1\t0.719\t0.415\n",
      "2\t1.156\t0.662\n",
      "3\t1.363\t0.820\n",
      "4\t1.469\t0.909\n",
      "5\t1.530\t0.977\n",
      "6\t1.567\t1.033\n",
      "7\t1.598\t1.090\n",
      "8\t1.611\t1.141\n",
      "9\t1.622\t1.205\n",
      "10\t1.624\t1.251\n",
      "11\t1.624\t1.282\n",
      "12\t1.624\t1.308\n",
      "13\t1.624\t1.331\n",
      "14\t1.624\t1.351\n",
      "15\t1.624\t1.386\n",
      "16\t1.624\t1.404\n",
      "17\t1.624\t1.428\n",
      "18\t1.624\t1.454\n",
      "19\t1.624\t1.470\n",
      "20\t1.624\t1.494\n",
      "21\t1.624\t1.500\n",
      "22\t1.624\t1.519\n",
      "23\t1.624\t1.534\n",
      "24\t1.624\t1.545\n",
      "25\t1.624\t1.556\n",
      "26\t1.624\t1.561\n",
      "27\t1.624\t1.577\n",
      "28\t1.624\t1.598\n",
      "29\t1.624\t1.611\n"
     ]
    }
   ],
   "source": [
    "for i, (ps, s) in enumerate(zip(perfect_scores, scores)):\n",
    "    print(\"{}\\t{:.3f}\\t{:.3f}\".format(i, float(ps), float(s)))"
   ]
  },
  {
   "cell_type": "code",
   "execution_count": 14,
   "metadata": {},
   "outputs": [
    {
     "data": {
      "image/png": "[encoded data removed]",
      "text/plain": [
       "<Figure size 432x288 with 1 Axes>"
      ]
     },
     "metadata": {
      "needs_background": "light"
     },
     "output_type": "display_data"
    }
   ],
   "source": [
    "plt.plot(list(range(30)), perfect_scores, label=\"perfect\")\n",
    "plt.plot(list(range(30)), scores, label=\"api\")\n",
    "plt.legend()\n",
    "plt.show()"
   ]
  },
  {
   "cell_type": "markdown",
   "metadata": {},
   "source": [
    "# Phase2 Trial"
   ]
  },
  {
   "cell_type": "code",
   "execution_count": 15,
   "metadata": {},
   "outputs": [],
   "source": [
    "with open(\"data/phase2-trial/processed/responses.pkl\", \"rb\") as fi:\n",
    "    responses = pickle.load(fi)"
   ]
  },
  {
   "cell_type": "code",
   "execution_count": 16,
   "metadata": {},
   "outputs": [
    {
     "data": {
      "text/plain": [
       "100"
      ]
     },
     "execution_count": 16,
     "metadata": {},
     "output_type": "execute_result"
    }
   ],
   "source": [
    "len(responses)"
   ]
  },
  {
   "cell_type": "code",
   "execution_count": 17,
   "metadata": {},
   "outputs": [
    {
     "data": {
      "application/vnd.jupyter.widget-view+json": {
       "model_id": "7a6ad8b541e1472b97752570ced0452d",
       "version_major": 2,
       "version_minor": 0
      },
      "text/plain": [
       "HBox(children=(FloatProgress(value=0.0, max=30.0), HTML(value='')))"
      ]
     },
     "metadata": {},
     "output_type": "display_data"
    },
    {
     "name": "stdout",
     "output_type": "stream",
     "text": [
      "\n"
     ]
    }
   ],
   "source": [
    "perfect_scores = []\n",
    "scores = []\n",
    "for i in tqdm(range(30)):\n",
    "    _result = compute_responses_score(responses, i)\n",
    "    perfect_scores.append(_result[\"perfect_rerank_score\"])\n",
    "    scores.append(_result[\"api_score\"])"
   ]
  },
  {
   "cell_type": "code",
   "execution_count": 18,
   "metadata": {},
   "outputs": [
    {
     "name": "stdout",
     "output_type": "stream",
     "text": [
      "0\t0.000\t0.000\n",
      "1\t0.763\t0.402\n",
      "2\t1.179\t0.601\n",
      "3\t1.401\t0.779\n",
      "4\t1.482\t0.872\n",
      "5\t1.522\t1.026\n",
      "6\t1.522\t1.094\n",
      "7\t1.522\t1.199\n",
      "8\t1.522\t1.225\n",
      "9\t1.522\t1.233\n",
      "10\t1.522\t1.274\n",
      "11\t1.522\t1.314\n",
      "12\t1.522\t1.355\n",
      "13\t1.522\t1.379\n",
      "14\t1.522\t1.388\n",
      "15\t1.522\t1.396\n",
      "16\t1.522\t1.405\n",
      "17\t1.522\t1.430\n",
      "18\t1.522\t1.448\n",
      "19\t1.522\t1.448\n",
      "20\t1.522\t1.448\n",
      "21\t1.522\t1.456\n",
      "22\t1.522\t1.456\n",
      "23\t1.522\t1.456\n",
      "24\t1.522\t1.465\n",
      "25\t1.522\t1.465\n",
      "26\t1.522\t1.497\n",
      "27\t1.522\t1.497\n",
      "28\t1.522\t1.497\n",
      "29\t1.522\t1.513\n"
     ]
    }
   ],
   "source": [
    "for i, (ps, s) in enumerate(zip(perfect_scores, scores)):\n",
    "    print(\"{}\\t{:.3f}\\t{:.3f}\".format(i, float(ps), float(s)))"
   ]
  },
  {
   "cell_type": "code",
   "execution_count": 19,
   "metadata": {},
   "outputs": [
    {
     "data": {
      "image/png": "[encoded data removed]",
      "text/plain": [
       "<Figure size 432x288 with 1 Axes>"
      ]
     },
     "metadata": {
      "needs_background": "light"
     },
     "output_type": "display_data"
    }
   ],
   "source": [
    "plt.plot(list(range(30)), perfect_scores, label=\"perfect\")\n",
    "plt.plot(list(range(30)), scores, label=\"api\")\n",
    "plt.legend()\n",
    "plt.show()"
   ]
  },
  {
   "cell_type": "code",
   "execution_count": null,
   "metadata": {},
   "outputs": [],
   "source": []
  }
 ],
 "metadata": {
  "kernelspec": {
   "display_name": "Python 3",
   "language": "python",
   "name": "python3"
  },
  "language_info": {
   "codemirror_mode": {
    "name": "ipython",
    "version": 3
   },
   "file_extension": ".py",
   "mimetype": "text/x-python",
   "name": "python",
   "nbconvert_exporter": "python",
   "pygments_lexer": "ipython3",
   "version": "3.7.7"
  }
 },
 "nbformat": 4,
 "nbformat_minor": 4
}
