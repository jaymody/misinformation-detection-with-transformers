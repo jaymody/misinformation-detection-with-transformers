{
 "cells": [
  {
   "cell_type": "markdown",
   "metadata": {},
   "source": [
    "# Phase 1"
   ]
  },
  {
   "cell_type": "code",
   "execution_count": null,
   "metadata": {},
   "outputs": [],
   "source": [
    "from valerie.datasets import Phase1Dataset\n",
    "from valerie.utils import get_logger\n",
    "logger = get_logger()"
   ]
  },
  {
   "cell_type": "code",
   "execution_count": 2,
   "metadata": {},
   "outputs": [
    {
     "data": {
      "application/vnd.jupyter.widget-view+json": {
       "model_id": "77dea1c74af5428daba415c5c663a440",
       "version_major": 2,
       "version_minor": 0
      },
      "text/plain": [
       "HBox(children=(FloatProgress(value=0.0, description='phase1 to claims', max=15555.0, style=ProgressStyle(descr…"
      ]
     },
     "metadata": {},
     "output_type": "display_data"
    },
    {
     "name": "stderr",
     "output_type": "stream",
     "text": [
      "[2020-07-05 00:58:10,272] INFO:valerie.datasets: missed row to claim conversions: 0\n"
     ]
    },
    {
     "name": "stdout",
     "output_type": "stream",
     "text": [
      "\n"
     ]
    },
    {
     "data": {
      "application/vnd.jupyter.widget-view+json": {
       "model_id": "0ba93395904c470cb363b1a64fedf23d",
       "version_major": 2,
       "version_minor": 0
      },
      "text/plain": [
       "HBox(children=(FloatProgress(value=0.0, description='loading articles from phase1', max=64974.0, style=Progres…"
      ]
     },
     "metadata": {},
     "output_type": "display_data"
    },
    {
     "name": "stderr",
     "output_type": "stream",
     "text": [
      "[2020-07-05 01:00:38,246] INFO:valerie.datasets: phase1 claims set change 15555 --> 15555\n",
      "[2020-07-05 01:00:38,275] INFO:valerie.datasets: phase1 articles set change 64974 --> 64974\n"
     ]
    },
    {
     "name": "stdout",
     "output_type": "stream",
     "text": [
      "\n"
     ]
    }
   ],
   "source": [
    "phase1_dataset = Phase1Dataset.from_raw(\"data/phase1/raw/metadata.json\", \"data/phase1/raw/articles\", nproc=6)"
   ]
  },
  {
   "cell_type": "code",
   "execution_count": 3,
   "metadata": {},
   "outputs": [
    {
     "data": {
      "text/plain": [
       "15555"
      ]
     },
     "execution_count": 3,
     "metadata": {},
     "output_type": "execute_result"
    }
   ],
   "source": [
    "len(phase1_dataset.claims)"
   ]
  },
  {
   "cell_type": "code",
   "execution_count": 4,
   "metadata": {},
   "outputs": [
    {
     "data": {
      "text/plain": [
       "{\n",
       "  \"id\": 5977,\n",
       "  \"claim\": \"Says he \\\"cast the deciding vote\\\" to override a vetoed \\u2018born alive\\u2019 bill\",\n",
       "  \"claimant\": \"Dan Bishop\",\n",
       "  \"label\": 1,\n",
       "  \"date\": \"2019-04-30 00:00:00\",\n",
       "  \"related_articles\": {\n",
       "    \"phase1/44883.txt\": \"phase1/44883.txt\",\n",
       "    \"phase1/63269.txt\": \"phase1/63269.txt\",\n",
       "    \"phase1/55604.txt\": \"phase1/55604.txt\",\n",
       "    \"phase1/19360.txt\": \"phase1/19360.txt\",\n",
       "    \"phase1/49944.txt\": \"phase1/49944.txt\"\n",
       "  },\n",
       "  \"explanation\": null,\n",
       "  \"support\": null,\n",
       "  \"dataset_name\": \"phase1\",\n",
       "  \"index\": \"phase1/5977\"\n",
       "}"
      ]
     },
     "execution_count": 4,
     "metadata": {},
     "output_type": "execute_result"
    }
   ],
   "source": [
    "phase1_dataset.claims[0]"
   ]
  },
  {
   "cell_type": "code",
   "execution_count": 6,
   "metadata": {},
   "outputs": [],
   "source": [
    "assert \"phase1/110779.txt\" in set([art.index for art in phase1_dataset.articles])"
   ]
  },
  {
   "cell_type": "code",
   "execution_count": 7,
   "metadata": {},
   "outputs": [
    {
     "data": {
      "text/plain": [
       "64974"
      ]
     },
     "execution_count": 7,
     "metadata": {},
     "output_type": "execute_result"
    }
   ],
   "source": [
    "len(phase1_dataset.articles)"
   ]
  },
  {
   "cell_type": "code",
   "execution_count": 8,
   "metadata": {},
   "outputs": [
    {
     "data": {
      "text/plain": [
       "{\n",
       "  \"id\": \"44808.txt\",\n",
       "  \"title\": \"Life and Death: Delivering Babies in South Sudan \\u2013 Women & Girls Hub\",\n",
       "  \"content\": \"Life and Death: Delivering Babies in South Sudan \\u2013 Women & Girls Hub Gripped by a conflict that has devastated its healthcare system, South Sudan has one of the highest maternal mortality rates on earth. Two doctors share their stories of struggling to save women and their babies in the world\\u2019s newest nation. A mother and baby sleep on the floor of the outpatient ward of a teaching hospital that had become home to hundreds of displaced people in Malakal, South Sudan, on Jan. 21, 2014. Photo by AP/Mackenzie Knowles-Coursin South Sudan is one of the worst places on Earth to give birth. By some measures, more women die in childbirth here than in any other country. Every mother has a one in seven chance of dying in childbirth, and many women have up to 12 or 13 children. For babies, the risks are also extremely high. As many as 25 percent of children die from common, often preventable, childhood illnesses before they reach their fifth birthday. Health facilities in the world\\u2019s newest country were poor even before civil war broke out in 2013. The impact of the conflict has been devastating for maternal healthcare. There is only one midwife per 40,000 members of the population, which means many women are forced to give birth alone. Those who do reach medical help have often walked for days in labor to get there. Here, two expat doctors tell Women & Girls Hub about their experiences working in maternal healthcare in South Sudan earlier this year. Tekeselassie Gebreyohannes, an Ethiopian obstetrician with the American charity International Medical Corps, delivered three babies in a row as the U.N. compound in Malakal was under attack. At least 18 people were killed in February when fighting erupted at the compound, where 50,000 civilians were sheltering from South Sudan\\u2019s civil war. Several health facilities, including a surgical operating theater staffed by International Medical Corps, were severely damaged or destroyed. As the battle raged, Gebreyohannes delivered three babies one after another. \\u201cWhen the fighting started, our facility \\u2026 was looted and destroyed. The injured were flowing into the area looking for treatment, so we set up a temporary place to provide services to the causalities,\\u201d he says. It was around that time the first woman turned up in labor. Dr. Tek, as he is also known, had nowhere to put her, so he cleared out an old shed. \\u201cWe put a plastic sheet on the floor and conducted the delivery around 2 p.m.,\\u201d he says. During the delivery, the woman\\u2019s relatives held up a blanket to protect her privacy. That night, as the number of injured and killed mounted, two more women came to Dr. Tek in labor. Once again, he set to work helping women give birth while death and destruction was everywhere around them. \\u201cIt was only afterward that I really contemplated what was going on,\\u201d he says. \\u201cWe were attending patients of war, surrounded by people who were dying or seriously injured, and then we were also attending a delivery of a new life on the other side of a piece of plastic.\\u201d Dr. Tek has worked in maternal health services across Africa, including Liberia at the height of the Ebola crisis. He says Liberia\\u2019s healthcare system was ruined by the disease but unlike South Sudan, Liberia had better infrastructure in place before the crisis started. \\u201c[South Sudan] did not have a strong healthcare system prior to the outbreak of civil war in December 2013,\\u201d he says. \\u201cThe maternal health system has been affected significantly by the conflict. In my experience here, the risk women face when giving birth is as bad as the statistics suggest, if not worse.\\u201d He says the priority for the world\\u2019s youngest nation is first peace, followed by economic stability. Then the international community must help the country build the infrastructure it needs to keep more of its mothers and babies alive. \\u201cMy hope is that South Sudan will emerge from this crisis and build a stronger healthcare system so that more mothers can deliver safely and more babies are brought into the world healthy,\\u201d he says. American obstetrician and gynecologist Veronica Ades, working with Medecins Sans Frontieres (Doctors Without Borders), was awake for four days during one bad stretch at the government hospital in Aweil, South Sudan. \\u201cOn my third night without sleep, I worked so hard to save the life of a woman but couldn\\u2019t save her,\\u201d Ades recalls. \\u201cWhen you work that hard on someone\\u2019s life, you get really attached. You\\u2019ll never really let them go.\\u201d Ades was the only expat doctor working at the hospital and her job was to deal with the births that got complicated. In this case, the woman\\u2019s baby had already died and her hemoglobin level was dangerously low. \\u201cI spent hours trying to resuscitate her and trying to figure out what was wrong,\\u201d says Ades. \\u201cWe finally managed to stabilize her, but a couple of hours later her oxygen went from 100 percent to 9 percent and she died. Later we decided she probably had preeclampsia, but it is often so hard to be sure.\\u201d Another woman Ades saw on a different occasion turned up at the hospital with her baby\\u2019s arm hanging out between her legs. The baby had died after being caught in a transverse position, where the baby\\u2019s body is lying across the mother\\u2019s abdomen. In this position, it is impossible to deliver naturally. The woman had been in labor for more than 14 hours and had walked miles to her nearest health facility to get help. By the time she reached Ades she was exhausted and very weak. \\u201cI was about to perform a C-section to remove the dead fetus, but I wanted to make sure the woman [had] been given informed consent for the procedure,\\u201d says Ades. \\u201cI was talking to her about the risks of bleeding and infections, and then I got to the part when I was explaining we would give her anesthesia and then medicine for the pain. The woman interrupted the interpreter, looked at me and said, \\u2018Bring on the pain.\\u2019 \\u201cWomen in these areas are so strong. They deal with so much and they are very stoic about pain.\\u201d After returning home to the United States, Ades struggled with what she had witnessed. \\u201cI saw a counselor in the immediate aftermath of the mission and I spent an hour crying in her office,\\u201d she says. \\u201cI felt I had done everything I could to help these women, but I also thought, Why am I here to witness these deaths? \\u201cWhat I came to realize is these women deserve to have someone fighting for them. Maternal health in South Sudan is so bad. Nobody cares about their situation. It gave me comfort to think they knew a doctor was fighting to save them and their mothers could see I was doing everything I could to save their daughters before they died. That is dignity \\u2013 to have people fighting for you as you die.\\u201d\",\n",
       "  \"source\": null,\n",
       "  \"url\": null,\n",
       "  \"date\": null,\n",
       "  \"dataset_name\": \"phase1\",\n",
       "  \"index\": \"phase1/44808.txt\"\n",
       "}"
      ]
     },
     "execution_count": 8,
     "metadata": {},
     "output_type": "execute_result"
    }
   ],
   "source": [
    "phase1_dataset.articles[0]"
   ]
  },
  {
   "cell_type": "markdown",
   "metadata": {},
   "source": [
    "# Phase2"
   ]
  },
  {
   "cell_type": "code",
   "execution_count": 1,
   "metadata": {},
   "outputs": [
    {
     "name": "stderr",
     "output_type": "stream",
     "text": [
      "/Users/jay/.pyenv/versions/3.7.5/envs/valerie/lib/python3.7/site-packages/pandas/compat/__init__.py:117: UserWarning: Could not import the lzma module. Your installed Python is incomplete. Attempting to use lzma compression will result in a RuntimeError.\n",
      "  warnings.warn(msg)\n"
     ]
    }
   ],
   "source": [
    "from valerie.datasets import Phase2Dataset\n",
    "from valerie.utils import get_logger\n",
    "logger = get_logger()"
   ]
  },
  {
   "cell_type": "code",
   "execution_count": 2,
   "metadata": {},
   "outputs": [
    {
     "data": {
      "application/vnd.jupyter.widget-view+json": {
       "model_id": "a38e88b851f843ed883d3a30f93bbb62",
       "version_major": 2,
       "version_minor": 0
      },
      "text/plain": [
       "HBox(children=(FloatProgress(value=0.0, description='phase2 to claims', max=13061.0, style=ProgressStyle(descr…"
      ]
     },
     "metadata": {},
     "output_type": "display_data"
    },
    {
     "name": "stderr",
     "output_type": "stream",
     "text": [
      "[2020-07-05 01:04:59,602] INFO:valerie.datasets: missed row to claim conversions: 0\n"
     ]
    },
    {
     "name": "stdout",
     "output_type": "stream",
     "text": [
      "\n"
     ]
    },
    {
     "data": {
      "application/vnd.jupyter.widget-view+json": {
       "model_id": "195aa2ce19ee4d9aaf38843ddf57b769",
       "version_major": 2,
       "version_minor": 0
      },
      "text/plain": [
       "HBox(children=(FloatProgress(value=0.0, description='loading article from phase2', max=53337.0, style=Progress…"
      ]
     },
     "metadata": {},
     "output_type": "display_data"
    },
    {
     "name": "stdout",
     "output_type": "stream",
     "text": [
      "\n"
     ]
    },
    {
     "name": "stderr",
     "output_type": "stream",
     "text": [
      "[2020-07-05 01:18:26,487] INFO:valerie.datasets: missed art index to url conversions: 38\n",
      "[2020-07-05 01:18:26,504] INFO:valerie.datasets: phase2 claims set change 13061 --> 13061\n",
      "[2020-07-05 01:18:26,523] INFO:valerie.datasets: phase2 articles set change 53337 --> 53337\n"
     ]
    }
   ],
   "source": [
    "phase2_dataset = Phase2Dataset.from_raw(\"data/phase2-1/raw/metadata.json\", \"data/phase2-1/raw/articles\", nproc=6)"
   ]
  },
  {
   "cell_type": "code",
   "execution_count": 3,
   "metadata": {},
   "outputs": [
    {
     "data": {
      "text/plain": [
       "13061"
      ]
     },
     "execution_count": 3,
     "metadata": {},
     "output_type": "execute_result"
    }
   ],
   "source": [
    "len(phase2_dataset.claims)"
   ]
  },
  {
   "cell_type": "code",
   "execution_count": 4,
   "metadata": {},
   "outputs": [
    {
     "data": {
      "text/plain": [
       "{\n",
       "  \"id\": 11102,\n",
       "  \"claim\": \"Did 19 ICE Agents Call For ICE To Be \\u2018Dissolved\\u2019?\",\n",
       "  \"claimant\": null,\n",
       "  \"label\": 1,\n",
       "  \"date\": \"2018-07-02 00:00:00\",\n",
       "  \"related_articles\": {\n",
       "    \"phase2/88779.html\": \"https://thinkprogress.org/ice-agents-propose-to-disband-their-own-agency-or-maybe-just-to-re-brand-it-c15521a98a6b/\",\n",
       "    \"phase2/88780.html\": \"https://www.texasobserver.org/ice-hsi-letter-kirstjen-nielsen-criminal-civil-deportation-zero-tolerance/\",\n",
       "    \"phase2/88781.html\": \"https://www.bizpacreview.com/2018/07/02/no-19-ice-agents-didnt-write-a-letter-asking-to-abolish-ice-but-the-media-ran-with-that-anyway-650415\"\n",
       "  },\n",
       "  \"explanation\": null,\n",
       "  \"support\": null,\n",
       "  \"dataset_name\": \"phase2\",\n",
       "  \"index\": \"phase2/11102\"\n",
       "}"
      ]
     },
     "execution_count": 4,
     "metadata": {},
     "output_type": "execute_result"
    }
   ],
   "source": [
    "phase2_dataset.claims[0]"
   ]
  },
  {
   "cell_type": "code",
   "execution_count": 5,
   "metadata": {},
   "outputs": [
    {
     "data": {
      "text/plain": [
       "53337"
      ]
     },
     "execution_count": 5,
     "metadata": {},
     "output_type": "execute_result"
    }
   ],
   "source": [
    "len(phase2_dataset.articles)"
   ]
  },
  {
   "cell_type": "code",
   "execution_count": 6,
   "metadata": {},
   "outputs": [
    {
     "data": {
      "text/plain": [
       "{\n",
       "  \"id\": \"25412.html\",\n",
       "  \"title\": \"1117 thecb\",\n",
       "  \"content\": null,\n",
       "  \"source\": \"google\",\n",
       "  \"url\": \"https://docs.google.com/document/d/e/2PACX-1vR2wT8gbmrTZnk93ZXf3SSPbUaV2mkjmXEy_S_xH3-U7cAtsZN2G_02hjTiqx-TKiKVxjIVXLF074Zo/pub\",\n",
       "  \"date\": null,\n",
       "  \"dataset_name\": \"phase2\",\n",
       "  \"index\": \"phase2/25412.html\"\n",
       "}"
      ]
     },
     "execution_count": 6,
     "metadata": {},
     "output_type": "execute_result"
    }
   ],
   "source": [
    "phase2_dataset.articles[0]"
   ]
  },
  {
   "cell_type": "markdown",
   "metadata": {},
   "source": [
    "# Combined\n"
   ]
  },
  {
   "cell_type": "code",
   "execution_count": null,
   "metadata": {},
   "outputs": [],
   "source": [
    "from valerie.datasets import CombinedDataset\n",
    "from valerie.utils import get_logger\n",
    "logger = get_logger()"
   ]
  },
  {
   "cell_type": "code",
   "execution_count": 2,
   "metadata": {},
   "outputs": [
    {
     "data": {
      "application/vnd.jupyter.widget-view+json": {
       "model_id": "2622491f312441eeb86b41de3f820e99",
       "version_major": 2,
       "version_minor": 0
      },
      "text/plain": [
       "HBox(children=(FloatProgress(value=0.0, description='phase2 to claims', max=13061.0, style=ProgressStyle(descr…"
      ]
     },
     "metadata": {},
     "output_type": "display_data"
    },
    {
     "name": "stderr",
     "output_type": "stream",
     "text": [
      "[2020-07-05 01:03:35,248] INFO:valerie.datasets: missed row to claim conversions: 0\n",
      "[2020-07-05 01:03:35,259] INFO:valerie.datasets: phase2 claims set change 13061 --> 13061\n"
     ]
    },
    {
     "name": "stdout",
     "output_type": "stream",
     "text": [
      "\n"
     ]
    },
    {
     "data": {
      "application/vnd.jupyter.widget-view+json": {
       "model_id": "25891c70aa1a4eca953647e94e383b34",
       "version_major": 2,
       "version_minor": 0
      },
      "text/plain": [
       "HBox(children=(FloatProgress(value=0.0, description='phase1 to claims', max=15555.0, style=ProgressStyle(descr…"
      ]
     },
     "metadata": {},
     "output_type": "display_data"
    },
    {
     "name": "stderr",
     "output_type": "stream",
     "text": [
      "[2020-07-05 01:03:40,971] INFO:valerie.datasets: missed row to claim conversions: 0\n",
      "[2020-07-05 01:03:40,983] INFO:valerie.datasets: phase1 claims set change 15555 --> 15555\n"
     ]
    },
    {
     "name": "stdout",
     "output_type": "stream",
     "text": [
      "\n"
     ]
    },
    {
     "data": {
      "application/vnd.jupyter.widget-view+json": {
       "model_id": "a6906f51456643009252e3b74e37cab4",
       "version_major": 2,
       "version_minor": 0
      },
      "text/plain": [
       "HBox(children=(FloatProgress(value=0.0, description='fake_news_top50 to claims', max=13961.0, style=ProgressSt…"
      ]
     },
     "metadata": {},
     "output_type": "display_data"
    },
    {
     "name": "stderr",
     "output_type": "stream",
     "text": [
      "[2020-07-05 01:03:43,877] INFO:valerie.datasets: missed row to claim conversions: 1\n",
      "[2020-07-05 01:03:43,885] INFO:valerie.datasets: fake_news_top50 claims set change 13960 --> 12372\n"
     ]
    },
    {
     "name": "stdout",
     "output_type": "stream",
     "text": [
      "\n"
     ]
    },
    {
     "data": {
      "application/vnd.jupyter.widget-view+json": {
       "model_id": "64c2580ee0814ac9a6f1030b97523fd9",
       "version_major": 2,
       "version_minor": 0
      },
      "text/plain": [
       "HBox(children=(FloatProgress(value=0.0, description='fake_news_kaggle to claims', max=20800.0, style=ProgressS…"
      ]
     },
     "metadata": {},
     "output_type": "display_data"
    },
    {
     "name": "stderr",
     "output_type": "stream",
     "text": [
      "[2020-07-05 01:03:49,238] INFO:valerie.datasets: missed row to claim conversions: 2515\n",
      "[2020-07-05 01:03:49,248] INFO:valerie.datasets: fake_news_kaggle claims set change 18285 --> 17931\n"
     ]
    },
    {
     "name": "stdout",
     "output_type": "stream",
     "text": [
      "\n"
     ]
    },
    {
     "data": {
      "application/vnd.jupyter.widget-view+json": {
       "model_id": "b7e5171574524444af93916e8ab9b4b7",
       "version_major": 2,
       "version_minor": 0
      },
      "text/plain": [
       "HBox(children=(FloatProgress(value=0.0, description='fake_news_net to claims', max=23196.0, style=ProgressStyl…"
      ]
     },
     "metadata": {},
     "output_type": "display_data"
    },
    {
     "name": "stderr",
     "output_type": "stream",
     "text": [
      "[2020-07-05 01:03:55,243] INFO:valerie.datasets: missed row to claim conversions: 330\n",
      "[2020-07-05 01:03:55,257] INFO:valerie.datasets: fake_news_net claims set change 22866 --> 21398\n"
     ]
    },
    {
     "name": "stdout",
     "output_type": "stream",
     "text": [
      "\n"
     ]
    },
    {
     "data": {
      "application/vnd.jupyter.widget-view+json": {
       "model_id": "b1e1c0139a1546e1b8a22b0b90cfa0be",
       "version_major": 2,
       "version_minor": 0
      },
      "text/plain": [
       "HBox(children=(FloatProgress(value=0.0, description='george_mcintire to claims', max=6335.0, style=ProgressSty…"
      ]
     },
     "metadata": {},
     "output_type": "display_data"
    },
    {
     "name": "stderr",
     "output_type": "stream",
     "text": [
      "[2020-07-05 01:03:56,706] INFO:valerie.datasets: missed row to claim conversions: 0\n",
      "[2020-07-05 01:03:56,711] INFO:valerie.datasets: george_mcintire claims set change 6335 --> 6256\n"
     ]
    },
    {
     "name": "stdout",
     "output_type": "stream",
     "text": [
      "\n"
     ]
    },
    {
     "data": {
      "application/vnd.jupyter.widget-view+json": {
       "model_id": "d70b586a758947158c72aa95804205e0",
       "version_major": 2,
       "version_minor": 0
      },
      "text/plain": [
       "HBox(children=(FloatProgress(value=0.0, description='isot to claims', max=44898.0, style=ProgressStyle(descrip…"
      ]
     },
     "metadata": {},
     "output_type": "display_data"
    },
    {
     "name": "stderr",
     "output_type": "stream",
     "text": [
      "[2020-07-05 01:04:10,541] INFO:valerie.datasets: missed row to claim conversions: 0\n",
      "[2020-07-05 01:04:10,566] INFO:valerie.datasets: isot claims set change 44898 --> 38726\n"
     ]
    },
    {
     "name": "stdout",
     "output_type": "stream",
     "text": [
      "\n"
     ]
    },
    {
     "data": {
      "application/vnd.jupyter.widget-view+json": {
       "model_id": "8a5034f766b34644b2f0d3b6c7f31991",
       "version_major": 2,
       "version_minor": 0
      },
      "text/plain": [
       "HBox(children=(FloatProgress(value=0.0, description='liar to claims', max=10240.0, style=ProgressStyle(descrip…"
      ]
     },
     "metadata": {},
     "output_type": "display_data"
    },
    {
     "name": "stderr",
     "output_type": "stream",
     "text": [
      "[2020-07-05 01:04:13,500] INFO:valerie.datasets: missed row to claim conversions: 0\n",
      "[2020-07-05 01:04:13,506] INFO:valerie.datasets: liar claims set change 10240 --> 10223\n"
     ]
    },
    {
     "name": "stdout",
     "output_type": "stream",
     "text": [
      "\n"
     ]
    },
    {
     "data": {
      "application/vnd.jupyter.widget-view+json": {
       "model_id": "06833e4222c74778a673402aa0dfb638",
       "version_major": 2,
       "version_minor": 0
      },
      "text/plain": [
       "HBox(children=(FloatProgress(value=0.0, description='mrisdal to claims', max=12999.0, style=ProgressStyle(desc…"
      ]
     },
     "metadata": {},
     "output_type": "display_data"
    },
    {
     "name": "stderr",
     "output_type": "stream",
     "text": [
      "[2020-07-05 01:04:17,386] INFO:valerie.datasets: missed row to claim conversions: 680\n",
      "[2020-07-05 01:04:17,394] INFO:valerie.datasets: mrisdal claims set change 12319 --> 11698\n",
      "[2020-07-05 01:04:17,395] INFO:valerie.datasets: ... constructing combined dataset ...\n",
      "[2020-07-05 01:04:17,403] INFO:valerie.datasets: phase2: 0 --> 13061 (+ 13061 = 13061 - 0)\n",
      "[2020-07-05 01:04:17,420] INFO:valerie.datasets: phase1: 13061 --> 20007 (+ 6946 = 15555 - 8609)\n",
      "[2020-07-05 01:04:17,429] INFO:valerie.datasets: fake_news_top50: 20007 --> 32379 (+ 12372 = 12372 - 0)\n",
      "[2020-07-05 01:04:17,444] INFO:valerie.datasets: fake_news_kaggle: 32379 --> 50310 (+ 17931 = 17931 - 0)\n",
      "[2020-07-05 01:04:17,463] INFO:valerie.datasets: fake_news_net: 50310 --> 71690 (+ 21380 = 21398 - 18)\n",
      "[2020-07-05 01:04:17,474] INFO:valerie.datasets: george_mcintire: 71690 --> 75897 (+ 4207 = 6256 - 2049)\n",
      "[2020-07-05 01:04:17,507] INFO:valerie.datasets: isot: 75897 --> 114600 (+ 38703 = 38726 - 23)\n",
      "[2020-07-05 01:04:17,520] INFO:valerie.datasets: liar: 114600 --> 123924 (+ 9324 = 10223 - 899)\n",
      "[2020-07-05 01:04:17,538] INFO:valerie.datasets: mrisdal: 123924 --> 126963 (+ 3039 = 11698 - 8659)\n"
     ]
    },
    {
     "name": "stdout",
     "output_type": "stream",
     "text": [
      "\n"
     ]
    },
    {
     "name": "stderr",
     "output_type": "stream",
     "text": [
      "[2020-07-05 01:04:17,632] INFO:valerie.datasets: combined claims set change 126963 --> 126963\n"
     ]
    }
   ],
   "source": [
    "combined_dataset = CombinedDataset.from_raw()"
   ]
  },
  {
   "cell_type": "code",
   "execution_count": 5,
   "metadata": {},
   "outputs": [
    {
     "name": "stdout",
     "output_type": "stream",
     "text": [
      "[(0, 57612), (2, 51419), (1, 17932)]\n"
     ]
    },
    {
     "data": {
      "image/png": "[encoded data removed]",
      "text/plain": [
       "<Figure size 432x288 with 1 Axes>"
      ]
     },
     "metadata": {
      "needs_background": "light"
     },
     "output_type": "display_data"
    },
    {
     "data": {
      "text/plain": [
       "{'len': 126963,\n",
       " 'max': 4000,\n",
       " 'min': 1,\n",
       " 'mean': 84.68277372147791,\n",
       " 'median': 74,\n",
       " 'mode': 65,\n",
       " 'stdev': 75.86531819751026}"
      ]
     },
     "execution_count": 5,
     "metadata": {},
     "output_type": "execute_result"
    }
   ],
   "source": [
    "import collections\n",
    "print(collections.Counter([c.label for c in combined_dataset.claims]).most_common())\n",
    "\n",
    "from valerie.utils import stats\n",
    "stats([len(c.claim) for c in combined_dataset.claims], plot=True)"
   ]
  },
  {
   "cell_type": "code",
   "execution_count": null,
   "metadata": {},
   "outputs": [],
   "source": []
  }
 ],
 "metadata": {
  "kernelspec": {
   "display_name": "Python 3",
   "language": "python",
   "name": "python3"
  },
  "language_info": {
   "codemirror_mode": {
    "name": "ipython",
    "version": 3
   },
   "file_extension": ".py",
   "mimetype": "text/x-python",
   "name": "python",
   "nbconvert_exporter": "python",
   "pygments_lexer": "ipython3",
   "version": "3.7.5"
  }
 },
 "nbformat": 4,
 "nbformat_minor": 4
}
