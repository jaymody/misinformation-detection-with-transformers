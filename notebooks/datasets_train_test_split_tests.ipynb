{
 "cells": [
  {
   "cell_type": "code",
   "execution_count": 1,
   "metadata": {},
   "outputs": [
    {
     "name": "stderr",
     "output_type": "stream",
     "text": [
      "/Users/jay/.pyenv/versions/3.7.5/envs/valerie/lib/python3.7/site-packages/pandas/compat/__init__.py:117: UserWarning: Could not import the lzma module. Your installed Python is incomplete. Attempting to use lzma compression will result in a RuntimeError.\n",
      "  warnings.warn(msg)\n"
     ]
    }
   ],
   "source": [
    "from valerie.utils import get_logger\n",
    "from valerie.datasets import Phase2Dataset, LeadersDataset, Phase2CombinedDataset, CombinedDataset\n",
    "logger = get_logger()"
   ]
  },
  {
   "cell_type": "code",
   "execution_count": 2,
   "metadata": {
    "tags": []
   },
   "outputs": [
    {
     "data": {
      "application/vnd.jupyter.widget-view+json": {
       "model_id": "9ce65366ec41426ca4cc3895e8cafe61",
       "version_major": 2,
       "version_minor": 0
      },
      "text/plain": [
       "HBox(children=(FloatProgress(value=0.0, description='Phase2Dataset to claims', max=13061.0, style=ProgressStyl…"
      ]
     },
     "metadata": {},
     "output_type": "display_data"
    },
    {
     "name": "stdout",
     "output_type": "stream",
     "text": [
      "\n",
      "[2020-07-07 18:54:34,716] INFO:valerie.datasets: missed row to claim conversions: 0\n",
      "[2020-07-07 18:54:34,724] INFO:valerie.datasets: Phase2Dataset claims set change 13061 --> 13061\n"
     ]
    },
    {
     "data": {
      "application/vnd.jupyter.widget-view+json": {
       "model_id": "a225148c113e4147a1436873ad262b7e",
       "version_major": 2,
       "version_minor": 0
      },
      "text/plain": [
       "HBox(children=(FloatProgress(value=0.0, description='Phase1Dataset to claims', max=15555.0, style=ProgressStyl…"
      ]
     },
     "metadata": {},
     "output_type": "display_data"
    },
    {
     "name": "stdout",
     "output_type": "stream",
     "text": [
      "\n",
      "[2020-07-07 18:54:40,620] INFO:valerie.datasets: missed row to claim conversions: 0\n",
      "[2020-07-07 18:54:40,632] INFO:valerie.datasets: Phase1Dataset claims set change 15555 --> 15555\n",
      "[2020-07-07 18:54:40,635] INFO:valerie.data: ... combining claims ...\n",
      "[2020-07-07 18:54:40,642] INFO:valerie.data: Phase2Dataset: 0 --> 13061 (+ 13061 = 13061 - 0)\n",
      "[2020-07-07 18:54:40,657] INFO:valerie.data: Phase1Dataset: 13061 --> 20007 (+ 6946 = 15555 - 8609)\n",
      "[2020-07-07 18:54:40,671] INFO:valerie.datasets: LeadersDataset claims set change 20007 --> 20007\n",
      "{\n",
      "  \"id\": 1985,\n",
      "  \"claim\": \"Mr. and Mrs. Leland Stanford decided to found their own university after being rebuffed by Harvard's president.\",\n",
      "  \"claimant\": null,\n",
      "  \"label\": 0,\n",
      "  \"date\": \"2019-04-11 00:00:00\",\n",
      "  \"related_articles\": {\n",
      "    \"Phase1Dataset/120058.txt\": \"Phase1Dataset/120058.txt\",\n",
      "    \"Phase1Dataset/142226.txt\": \"Phase1Dataset/142226.txt\",\n",
      "    \"Phase1Dataset/148871.txt\": \"Phase1Dataset/148871.txt\"\n",
      "  },\n",
      "  \"explanation\": null,\n",
      "  \"support\": null,\n",
      "  \"dataset_name\": \"Phase1Dataset\",\n",
      "  \"index\": \"Phase1Dataset/1985\"\n",
      "}\n",
      "[2020-07-07 18:54:40,680] INFO:valerie.datasets: ... performing train_test_split ...\n",
      "[2020-07-07 18:54:40,706] INFO:valerie.datasets: len of all claims:    20007\n",
      "[2020-07-07 18:54:40,706] INFO:valerie.datasets: len of train claims:  15005\n",
      "[2020-07-07 18:54:40,706] INFO:valerie.datasets: len of test claims:   5002\n",
      "[2020-07-07 18:54:40,706] INFO:valerie.datasets: ... performing train_test_split_subdataset on subdataset Phase2Dataset ...\n",
      "[2020-07-07 18:54:40,734] INFO:valerie.datasets: len of all claims:    20007\n",
      "[2020-07-07 18:54:40,734] INFO:valerie.datasets: len of train claims:  16741\n",
      "[2020-07-07 18:54:40,734] INFO:valerie.datasets: len of test claims:   3266\n"
     ]
    },
    {
     "data": {
      "application/vnd.jupyter.widget-view+json": {
       "model_id": "ad5b24a679f64604b1dde7c44dde6b6b",
       "version_major": 2,
       "version_minor": 0
      },
      "text/plain": [
       "HBox(children=(FloatProgress(value=0.0, description='Phase2Dataset to claims', max=13061.0, style=ProgressStyl…"
      ]
     },
     "metadata": {},
     "output_type": "display_data"
    },
    {
     "name": "stdout",
     "output_type": "stream",
     "text": [
      "\n",
      "[2020-07-07 18:54:46,026] INFO:valerie.datasets: missed row to claim conversions: 0\n",
      "[2020-07-07 18:54:46,034] INFO:valerie.datasets: Phase2Dataset claims set change 13061 --> 13061\n",
      "[2020-07-07 18:54:46,041] INFO:valerie.data: ... combining claims ...\n",
      "[2020-07-07 18:54:46,048] INFO:valerie.data: Phase2Dataset: 0 --> 13061 (+ 13061 = 13061 - 0)\n",
      "[2020-07-07 18:54:46,056] INFO:valerie.datasets: Phase2CombinedDataset claims set change 13061 --> 13061\n",
      "{\n",
      "  \"id\": 8656,\n",
      "  \"claim\": \"\\\"If you give guns to gangs, you can get out of jail free, if (California\\u2019s Proposition 57) passes. If you do a drive-by shooting, you can get out of jail free, if Proposition 57 passes. If you discharge guns on a school yard, you can get out of jail free.\\\"\",\n",
      "  \"claimant\": \"Loretta Sanchez\",\n",
      "  \"label\": 0,\n",
      "  \"date\": \"2016-10-05 00:00:00\",\n",
      "  \"related_articles\": {\n",
      "    \"Phase2Dataset/33983.html\": \"http://www.lao.ca.gov/BallotAnalysis/Proposition?number=57&year=2016\",\n",
      "    \"Phase2Dataset/33984.html\": \"http://www.voiceofsandiego.org/topics/government/sacramento-report-the-san-diego-split-over-prop-57/\",\n",
      "    \"Phase2Dataset/33986.html\": \"http://www.sacbee.com/news/politics-government/politics-columns-blogs/dan-walters/article79420247.html\"\n",
      "  },\n",
      "  \"explanation\": null,\n",
      "  \"support\": null,\n",
      "  \"dataset_name\": \"Phase2Dataset\",\n",
      "  \"index\": \"Phase2Dataset/8656\"\n",
      "}\n",
      "[2020-07-07 18:54:46,076] INFO:valerie.datasets: ... performing train_test_split ...\n",
      "[2020-07-07 18:54:46,094] INFO:valerie.datasets: len of all claims:    13061\n",
      "[2020-07-07 18:54:46,094] INFO:valerie.datasets: len of train claims:  9795\n",
      "[2020-07-07 18:54:46,094] INFO:valerie.datasets: len of test claims:   3266\n",
      "[2020-07-07 18:54:46,095] INFO:valerie.datasets: ... performing train_test_split_subdataset on subdataset Phase2Dataset ...\n",
      "[2020-07-07 18:54:46,116] INFO:valerie.datasets: len of all claims:    13061\n",
      "[2020-07-07 18:54:46,116] INFO:valerie.datasets: len of train claims:  9795\n",
      "[2020-07-07 18:54:46,117] INFO:valerie.datasets: len of test claims:   3266\n"
     ]
    },
    {
     "data": {
      "application/vnd.jupyter.widget-view+json": {
       "model_id": "8d6f38abbf5048d99b210000d6c5739c",
       "version_major": 2,
       "version_minor": 0
      },
      "text/plain": [
       "HBox(children=(FloatProgress(value=0.0, description='Phase2Dataset to claims', max=13061.0, style=ProgressStyl…"
      ]
     },
     "metadata": {},
     "output_type": "display_data"
    },
    {
     "name": "stdout",
     "output_type": "stream",
     "text": [
      "\n",
      "[2020-07-07 18:54:51,180] INFO:valerie.datasets: missed row to claim conversions: 0\n",
      "[2020-07-07 18:54:51,189] INFO:valerie.datasets: Phase2Dataset claims set change 13061 --> 13061\n"
     ]
    },
    {
     "data": {
      "application/vnd.jupyter.widget-view+json": {
       "model_id": "9977384b45ee4160adab7da18e6083de",
       "version_major": 2,
       "version_minor": 0
      },
      "text/plain": [
       "HBox(children=(FloatProgress(value=0.0, description='Phase1Dataset to claims', max=15555.0, style=ProgressStyl…"
      ]
     },
     "metadata": {},
     "output_type": "display_data"
    },
    {
     "name": "stdout",
     "output_type": "stream",
     "text": [
      "\n",
      "[2020-07-07 18:54:57,203] INFO:valerie.datasets: missed row to claim conversions: 0\n",
      "[2020-07-07 18:54:57,214] INFO:valerie.datasets: Phase1Dataset claims set change 15555 --> 15555\n"
     ]
    },
    {
     "data": {
      "application/vnd.jupyter.widget-view+json": {
       "model_id": "587dc1784efa4fc09fa81a52f2e2d233",
       "version_major": 2,
       "version_minor": 0
      },
      "text/plain": [
       "HBox(children=(FloatProgress(value=0.0, description='FakeNewsTop50Dataset to claims', max=13961.0, style=Progr…"
      ]
     },
     "metadata": {},
     "output_type": "display_data"
    },
    {
     "name": "stdout",
     "output_type": "stream",
     "text": [
      "\n",
      "[2020-07-07 18:55:00,169] INFO:valerie.datasets: missed row to claim conversions: 1\n",
      "[2020-07-07 18:55:00,177] INFO:valerie.datasets: FakeNewsTop50Dataset claims set change 13960 --> 12372\n"
     ]
    },
    {
     "data": {
      "application/vnd.jupyter.widget-view+json": {
       "model_id": "bc6dd20c39ac49a095186181eb1153a3",
       "version_major": 2,
       "version_minor": 0
      },
      "text/plain": [
       "HBox(children=(FloatProgress(value=0.0, description='FakeNewsKaggleDataset to claims', max=20800.0, style=Prog…"
      ]
     },
     "metadata": {},
     "output_type": "display_data"
    },
    {
     "name": "stdout",
     "output_type": "stream",
     "text": [
      "\n",
      "[2020-07-07 18:55:05,622] INFO:valerie.datasets: missed row to claim conversions: 2515\n",
      "[2020-07-07 18:55:05,632] INFO:valerie.datasets: FakeNewsKaggleDataset claims set change 18285 --> 17931\n"
     ]
    },
    {
     "data": {
      "application/vnd.jupyter.widget-view+json": {
       "model_id": "350d6afd121e469b8b84ccfdaf4f75db",
       "version_major": 2,
       "version_minor": 0
      },
      "text/plain": [
       "HBox(children=(FloatProgress(value=0.0, description='FakeNewsNetDataset to claims', max=23196.0, style=Progres…"
      ]
     },
     "metadata": {},
     "output_type": "display_data"
    },
    {
     "name": "stdout",
     "output_type": "stream",
     "text": [
      "\n",
      "[2020-07-07 18:55:11,859] INFO:valerie.datasets: missed row to claim conversions: 330\n",
      "[2020-07-07 18:55:11,870] INFO:valerie.datasets: FakeNewsNetDataset claims set change 22866 --> 21398\n"
     ]
    },
    {
     "data": {
      "application/vnd.jupyter.widget-view+json": {
       "model_id": "1a0ea7ce7f174a8dbb4f9c21a784e36c",
       "version_major": 2,
       "version_minor": 0
      },
      "text/plain": [
       "HBox(children=(FloatProgress(value=0.0, description='GeorgeMcIntireDataset to claims', max=6335.0, style=Progr…"
      ]
     },
     "metadata": {},
     "output_type": "display_data"
    },
    {
     "name": "stdout",
     "output_type": "stream",
     "text": [
      "\n",
      "[2020-07-07 18:55:13,315] INFO:valerie.datasets: missed row to claim conversions: 0\n",
      "[2020-07-07 18:55:13,318] INFO:valerie.datasets: GeorgeMcIntireDataset claims set change 6335 --> 6256\n"
     ]
    },
    {
     "data": {
      "application/vnd.jupyter.widget-view+json": {
       "model_id": "f7a9b74e234945a7bdc08954899d07ec",
       "version_major": 2,
       "version_minor": 0
      },
      "text/plain": [
       "HBox(children=(FloatProgress(value=0.0, description='ISOTDataset to claims', max=44898.0, style=ProgressStyle(…"
      ]
     },
     "metadata": {},
     "output_type": "display_data"
    },
    {
     "name": "stdout",
     "output_type": "stream",
     "text": [
      "\n",
      "[2020-07-07 18:55:27,317] INFO:valerie.datasets: missed row to claim conversions: 0\n",
      "[2020-07-07 18:55:27,339] INFO:valerie.datasets: ISOTDataset claims set change 44898 --> 38726\n"
     ]
    },
    {
     "data": {
      "application/vnd.jupyter.widget-view+json": {
       "model_id": "08cfe4be30794ff1a5dcb0519cd5a204",
       "version_major": 2,
       "version_minor": 0
      },
      "text/plain": [
       "HBox(children=(FloatProgress(value=0.0, description='LiarDataset to claims', max=10240.0, style=ProgressStyle(…"
      ]
     },
     "metadata": {},
     "output_type": "display_data"
    },
    {
     "name": "stdout",
     "output_type": "stream",
     "text": [
      "\n",
      "[2020-07-07 18:55:30,343] INFO:valerie.datasets: missed row to claim conversions: 0\n",
      "[2020-07-07 18:55:30,348] INFO:valerie.datasets: LiarDataset claims set change 10240 --> 10223\n"
     ]
    },
    {
     "data": {
      "application/vnd.jupyter.widget-view+json": {
       "model_id": "88d3f93e855a482790b3098a99d3ee7e",
       "version_major": 2,
       "version_minor": 0
      },
      "text/plain": [
       "HBox(children=(FloatProgress(value=0.0, description='MrisdalDataset to claims', max=12999.0, style=ProgressSty…"
      ]
     },
     "metadata": {},
     "output_type": "display_data"
    },
    {
     "name": "stdout",
     "output_type": "stream",
     "text": [
      "\n",
      "[2020-07-07 18:55:34,435] INFO:valerie.datasets: missed row to claim conversions: 680\n",
      "[2020-07-07 18:55:34,441] INFO:valerie.datasets: MrisdalDataset claims set change 12319 --> 11698\n",
      "[2020-07-07 18:55:34,441] INFO:valerie.data: ... combining claims ...\n",
      "[2020-07-07 18:55:34,449] INFO:valerie.data: Phase2Dataset: 0 --> 13061 (+ 13061 = 13061 - 0)\n",
      "[2020-07-07 18:55:34,465] INFO:valerie.data: Phase1Dataset: 13061 --> 20007 (+ 6946 = 15555 - 8609)\n",
      "[2020-07-07 18:55:34,472] INFO:valerie.data: FakeNewsTop50Dataset: 20007 --> 32379 (+ 12372 = 12372 - 0)\n",
      "[2020-07-07 18:55:34,486] INFO:valerie.data: FakeNewsKaggleDataset: 32379 --> 50310 (+ 17931 = 17931 - 0)\n",
      "[2020-07-07 18:55:34,503] INFO:valerie.data: FakeNewsNetDataset: 50310 --> 71690 (+ 21380 = 21398 - 18)\n",
      "[2020-07-07 18:55:34,513] INFO:valerie.data: GeorgeMcIntireDataset: 71690 --> 75897 (+ 4207 = 6256 - 2049)\n",
      "[2020-07-07 18:55:34,543] INFO:valerie.data: ISOTDataset: 75897 --> 114600 (+ 38703 = 38726 - 23)\n",
      "[2020-07-07 18:55:34,555] INFO:valerie.data: LiarDataset: 114600 --> 123924 (+ 9324 = 10223 - 899)\n",
      "[2020-07-07 18:55:34,572] INFO:valerie.data: MrisdalDataset: 123924 --> 126963 (+ 3039 = 11698 - 8659)\n",
      "[2020-07-07 18:55:34,661] INFO:valerie.datasets: CombinedDataset claims set change 126963 --> 126963\n",
      "{\n",
      "  \"id\": \"22384\",\n",
      "  \"claim\": \"Barack Obama\\u2019s Final Arms-Export Totals Doubles That of Bush Administration\",\n",
      "  \"claimant\": null,\n",
      "  \"label\": 0,\n",
      "  \"date\": \"2016-11-11\",\n",
      "  \"related_articles\": null,\n",
      "  \"explanation\": null,\n",
      "  \"support\": null,\n",
      "  \"dataset_name\": \"ISOTDataset\",\n",
      "  \"index\": \"ISOTDataset/22384\"\n",
      "}\n",
      "[2020-07-07 18:55:34,820] INFO:valerie.datasets: ... performing train_test_split ...\n",
      "[2020-07-07 18:55:34,994] INFO:valerie.datasets: len of all claims:    126963\n",
      "[2020-07-07 18:55:34,994] INFO:valerie.datasets: len of train claims:  95222\n",
      "[2020-07-07 18:55:34,994] INFO:valerie.datasets: len of test claims:   31741\n",
      "[2020-07-07 18:55:34,995] INFO:valerie.datasets: ... performing train_test_split_subdataset on subdataset Phase2Dataset ...\n",
      "[2020-07-07 18:55:35,096] INFO:valerie.datasets: len of all claims:    126963\n",
      "[2020-07-07 18:55:35,096] INFO:valerie.datasets: len of train claims:  123697\n",
      "[2020-07-07 18:55:35,096] INFO:valerie.datasets: len of test claims:   3266\n"
     ]
    }
   ],
   "source": [
    "for dataset_class in [LeadersDataset, Phase2CombinedDataset, CombinedDataset]:\n",
    "    dataset = dataset_class.from_raw()\n",
    "    print(dataset.claims[0])\n",
    "    \n",
    "    dataset.train_test_split()\n",
    "    assert dataset.claims\n",
    "    assert dataset.train_claims\n",
    "    assert dataset.test_claims\n",
    "    assert len(dataset.claims) == len(dataset.train_claims) + len(dataset.test_claims)\n",
    "    \n",
    "    dataset.train_test_split_subdataset(Phase2Dataset.__name__)\n",
    "    assert dataset.claims\n",
    "    assert dataset.train_claims\n",
    "    assert dataset.test_claims\n",
    "    assert len(dataset.claims) == len(dataset.train_claims) + len(dataset.test_claims)\n",
    "    \n",
    "    for claim in dataset.test_claims:\n",
    "        assert claim.dataset_name == Phase2Dataset.__name__"
   ]
  },
  {
   "cell_type": "code",
   "execution_count": null,
   "metadata": {},
   "outputs": [],
   "source": []
  }
 ],
 "metadata": {
  "kernelspec": {
   "display_name": "Python 3",
   "language": "python",
   "name": "python3"
  },
  "language_info": {
   "codemirror_mode": {
    "name": "ipython",
    "version": 3
   },
   "file_extension": ".py",
   "mimetype": "text/x-python",
   "name": "python",
   "nbconvert_exporter": "python",
   "pygments_lexer": "ipython3",
   "version": "3.7.5"
  }
 },
 "nbformat": 4,
 "nbformat_minor": 4
}
