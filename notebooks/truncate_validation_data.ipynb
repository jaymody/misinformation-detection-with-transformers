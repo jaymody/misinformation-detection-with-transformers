{
 "cells": [
  {
   "cell_type": "code",
   "execution_count": 1,
   "metadata": {},
   "outputs": [],
   "source": [
    "import json"
   ]
  },
  {
   "cell_type": "code",
   "execution_count": 2,
   "metadata": {},
   "outputs": [],
   "source": [
    "with open(\"data/phase2-validation/raw/2_labels.json\") as fi:\n",
    "    metadata_labelled = json.load(fi)"
   ]
  },
  {
   "cell_type": "code",
   "execution_count": 3,
   "metadata": {},
   "outputs": [],
   "source": [
    "with open(\"data/phase2-validation/raw/val_metadata_p2.json\") as fi:\n",
    "    metadata_unlabelled = json.load(fi)"
   ]
  },
  {
   "cell_type": "code",
   "execution_count": 4,
   "metadata": {},
   "outputs": [],
   "source": [
    "metadata_unlabelled_out = metadata_unlabelled[:100]"
   ]
  },
  {
   "cell_type": "code",
   "execution_count": 6,
   "metadata": {},
   "outputs": [],
   "source": [
    "metadata_labelled_out = {}\n",
    "for claim in metadata_unlabelled_out:\n",
    "    _id = str(claim[\"id\"])\n",
    "    metadata_labelled_out[_id] = metadata_labelled[_id]"
   ]
  },
  {
   "cell_type": "code",
   "execution_count": 8,
   "metadata": {},
   "outputs": [
    {
     "name": "stdout",
     "output_type": "stream",
     "text": [
      "100\n",
      "100\n"
     ]
    }
   ],
   "source": [
    "print(len(metadata_unlabelled_out))\n",
    "print(len(metadata_labelled_out))\n",
    "assert len(metadata_unlabelled_out) == len(metadata_labelled_out)"
   ]
  },
  {
   "cell_type": "code",
   "execution_count": 9,
   "metadata": {},
   "outputs": [],
   "source": [
    "unlabelled_out_claims_set = set([str(claim[\"id\"]) for claim in metadata_unlabelled_out])\n",
    "labelled_out_claims_set = set(metadata_labelled_out.keys())"
   ]
  },
  {
   "cell_type": "code",
   "execution_count": 10,
   "metadata": {},
   "outputs": [],
   "source": [
    "assert unlabelled_out_claims_set == labelled_out_claims_set"
   ]
  },
  {
   "cell_type": "code",
   "execution_count": 11,
   "metadata": {},
   "outputs": [],
   "source": [
    "with open(\"data/phase2-validation/100/metadata-unlabelled.json\", \"w\") as fo:\n",
    "    json.dump(metadata_unlabelled_out, fo)"
   ]
  },
  {
   "cell_type": "code",
   "execution_count": 12,
   "metadata": {},
   "outputs": [],
   "source": [
    "with open(\"data/phase2-validation/100/metadata-labelled.json\", \"w\") as fo:\n",
    "    json.dump(metadata_labelled_out, fo)"
   ]
  },
  {
   "cell_type": "code",
   "execution_count": null,
   "metadata": {},
   "outputs": [],
   "source": []
  }
 ],
 "metadata": {
  "kernelspec": {
   "display_name": "Python 3",
   "language": "python",
   "name": "python3"
  },
  "language_info": {
   "codemirror_mode": {
    "name": "ipython",
    "version": 3
   },
   "file_extension": ".py",
   "mimetype": "text/x-python",
   "name": "python",
   "nbconvert_exporter": "python",
   "pygments_lexer": "ipython3",
   "version": "3.7.5"
  }
 },
 "nbformat": 4,
 "nbformat_minor": 4
}
