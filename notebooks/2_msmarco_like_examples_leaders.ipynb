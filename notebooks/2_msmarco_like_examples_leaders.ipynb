{
 "cells": [
  {
   "cell_type": "code",
   "execution_count": 1,
   "metadata": {},
   "outputs": [],
   "source": [
    "import pickle\n",
    "import random\n",
    "\n",
    "from tqdm.auto import tqdm\n",
    "\n",
    "from valerie.utils import get_logger\n",
    "from valerie.preprocessing import extract_words_from_url, clean_text\n",
    "from valerie.datasets import Phase1Dataset, Phase2Dataset, LeadersDataset\n",
    "from valerie.modeling import SequenceClassificationExample"
   ]
  },
  {
   "cell_type": "code",
   "execution_count": 2,
   "metadata": {},
   "outputs": [],
   "source": [
    "logger = get_logger()"
   ]
  },
  {
   "cell_type": "code",
   "execution_count": 3,
   "metadata": {},
   "outputs": [],
   "source": [
    "# !gsutil cp gs://valerie-bucket/data/phase1/processed/articles_dict.pkl data/phase1/processed/articles_dict.pkl\n",
    "# !gsutil cp gs://valerie-bucket/data/phase2-3/processed/articles_dict.pkl data/phase2-3/processed/articles_dict.pkl"
   ]
  },
  {
   "cell_type": "code",
   "execution_count": 4,
   "metadata": {},
   "outputs": [
    {
     "data": {
      "application/vnd.jupyter.widget-view+json": {
       "model_id": "ded252610ad24e62b71fae11ca618414",
       "version_major": 2,
       "version_minor": 0
      },
      "text/plain": [
       "HBox(children=(FloatProgress(value=0.0, description='Phase1Dataset to claims', max=15555.0, style=ProgressStyl…"
      ]
     },
     "metadata": {},
     "output_type": "display_data"
    },
    {
     "name": "stdout",
     "output_type": "stream",
     "text": [
      "\n",
      "[2020-07-11 20:08:16,680] INFO:valerie.datasets: missed row to claim conversions: 0\n",
      "[2020-07-11 20:08:16,694] INFO:valerie.datasets: Phase1Dataset claims set change 15555 --> 15555\n"
     ]
    },
    {
     "data": {
      "application/vnd.jupyter.widget-view+json": {
       "model_id": "1a54af6c101c4f72827202aa55990d43",
       "version_major": 2,
       "version_minor": 0
      },
      "text/plain": [
       "HBox(children=(FloatProgress(value=0.0, description='Phase2Dataset to claims', max=13102.0, style=ProgressStyl…"
      ]
     },
     "metadata": {},
     "output_type": "display_data"
    },
    {
     "name": "stdout",
     "output_type": "stream",
     "text": [
      "\n",
      "[2020-07-11 20:08:20,700] INFO:valerie.datasets: missed row to claim conversions: 0\n",
      "[2020-07-11 20:08:20,713] INFO:valerie.datasets: Phase2Dataset claims set change 13102 --> 13102\n"
     ]
    },
    {
     "data": {
      "application/vnd.jupyter.widget-view+json": {
       "model_id": "d95a189e9b64425694d62b2dd3e4e2fd",
       "version_major": 2,
       "version_minor": 0
      },
      "text/plain": [
       "HBox(children=(FloatProgress(value=0.0, description='Phase2Dataset to claims', max=13102.0, style=ProgressStyl…"
      ]
     },
     "metadata": {},
     "output_type": "display_data"
    },
    {
     "name": "stdout",
     "output_type": "stream",
     "text": [
      "\n",
      "[2020-07-11 20:08:24,882] INFO:valerie.datasets: missed row to claim conversions: 0\n",
      "[2020-07-11 20:08:24,907] INFO:valerie.datasets: Phase2Dataset claims set change 13102 --> 13102\n"
     ]
    },
    {
     "data": {
      "application/vnd.jupyter.widget-view+json": {
       "model_id": "e29f37f07e864ab0a67d8d60d6a402ca",
       "version_major": 2,
       "version_minor": 0
      },
      "text/plain": [
       "HBox(children=(FloatProgress(value=0.0, description='Phase1Dataset to claims', max=15555.0, style=ProgressStyl…"
      ]
     },
     "metadata": {},
     "output_type": "display_data"
    },
    {
     "name": "stdout",
     "output_type": "stream",
     "text": [
      "\n",
      "[2020-07-11 20:08:29,903] INFO:valerie.datasets: missed row to claim conversions: 0\n",
      "[2020-07-11 20:08:29,918] INFO:valerie.datasets: Phase1Dataset claims set change 15555 --> 15555\n",
      "[2020-07-11 20:08:29,923] INFO:valerie.data: ... combining claims ...\n",
      "[2020-07-11 20:08:29,934] INFO:valerie.data: Phase2Dataset: 0 --> 13102 (+ 13102 = 13102 - 0)\n",
      "[2020-07-11 20:08:29,947] INFO:valerie.data: Phase1Dataset: 13102 --> 20073 (+ 6971 = 15555 - 8584)\n",
      "[2020-07-11 20:08:29,955] INFO:valerie.datasets: LeadersDataset claims set change 20073 --> 20073\n"
     ]
    }
   ],
   "source": [
    "phase1_dataset = Phase1Dataset.from_raw()\n",
    "phase2_dataset = Phase2Dataset.from_raw()\n",
    "leaders_dataset = LeadersDataset.from_raw()"
   ]
  },
  {
   "cell_type": "code",
   "execution_count": 10,
   "metadata": {},
   "outputs": [
    {
     "data": {
      "text/plain": [
       "500"
      ]
     },
     "execution_count": 10,
     "metadata": {},
     "output_type": "execute_result"
    }
   ],
   "source": [
    "claims_dict = {claim.index: claim for claim in leaders_dataset.claims}\n",
    "len(claims_dict)"
   ]
  },
  {
   "cell_type": "code",
   "execution_count": 6,
   "metadata": {},
   "outputs": [],
   "source": [
    "with open(\"data/phase1/processed/articles_dict.pkl\", \"rb\") as fi:\n",
    "    articles1_dict = pickle.load(fi)\n",
    "\n",
    "with open(\"data/phase2-3/processed/articles_dict.pkl\", \"rb\") as fi:\n",
    "    articles2_dict = pickle.load(fi)\n",
    "\n",
    "articles_dict = {article.index: article for article in list(articles1_dict.values()) + list(articles2_dict.values())}"
   ]
  },
  {
   "cell_type": "code",
   "execution_count": 7,
   "metadata": {},
   "outputs": [
    {
     "data": {
      "text/plain": [
       "118433"
      ]
     },
     "execution_count": 7,
     "metadata": {},
     "output_type": "execute_result"
    }
   ],
   "source": [
    "len(articles_dict)"
   ]
  },
  {
   "cell_type": "code",
   "execution_count": 8,
   "metadata": {},
   "outputs": [],
   "source": [
    "all_articles_index_set = set(articles_dict.keys())\n",
    "all_articles_index_list = list(set(articles_dict.keys()))"
   ]
  },
  {
   "cell_type": "code",
   "execution_count": 19,
   "metadata": {},
   "outputs": [
    {
     "data": {
      "application/vnd.jupyter.widget-view+json": {
       "model_id": "aa3a2a35b61b4f0291a911b4e8a251ee",
       "version_major": 2,
       "version_minor": 0
      },
      "text/plain": [
       "HBox(children=(FloatProgress(value=0.0, max=500.0), HTML(value='')))"
      ]
     },
     "metadata": {},
     "output_type": "display_data"
    },
    {
     "name": "stdout",
     "output_type": "stream",
     "text": [
      "\n"
     ]
    }
   ],
   "source": [
    "def create_text_a(claim):\n",
    "    text_a = claim.claim\n",
    "    text_a += \" \"\n",
    "    text_a += claim.claimant if claim.claimant else \"no claimant\"\n",
    "    text_a += \" \"\n",
    "    text_a += claim.date.split()[0].split(\"T\")[0] if claim.date else \"no date\"\n",
    "    return clean_text(text_a)\n",
    "\n",
    "def create_text_b(article):\n",
    "    text_b = \"\"\n",
    "    if article.source:\n",
    "        text_b += article.source + \". \"\n",
    "    if article.title:\n",
    "        text_b += article.title + \". \"\n",
    "    if article.url:\n",
    "        url_words = extract_words_from_url(article.url)\n",
    "        if url_words:\n",
    "            text_b += \" \".join(url_words) + \". \"\n",
    "    if article.content:\n",
    "        text_b += article.content\n",
    "    return clean_text(text_b)\n",
    "    \n",
    "\n",
    "examples = []\n",
    "for k, claim in tqdm(claims_dict.items()):\n",
    "    examples_to_add = []\n",
    "\n",
    "    text_a = create_text_a(claim)\n",
    "    related_articles_index_set = set(claim.related_articles.keys())\n",
    "    \n",
    "    for article_index in claim.related_articles.keys():\n",
    "        article = articles_dict[article_index]\n",
    "        text_b = create_text_b(article)\n",
    "            \n",
    "        if not text_b:\n",
    "            continue\n",
    "\n",
    "        examples_to_add.append(SequenceClassificationExample(\n",
    "            guid=claim.index,\n",
    "            text_a=text_a,\n",
    "            text_b=text_b,\n",
    "            label=1, # related article\n",
    "            art_id=article.index\n",
    "        ))\n",
    "    \n",
    "    for i in range(30 - len(examples_to_add)):\n",
    "        # get a random article from the entire article corpora\n",
    "        article_idx = random.choice(all_articles_index_list)\n",
    "        article = articles_dict[article_idx]\n",
    "        text_b = create_text_b(article)\n",
    "        \n",
    "        # make sure the article isn't a related article\n",
    "        while article_idx not in related_articles_index_set and not text_b:\n",
    "            article_idx = random.choice(all_articles_index_list)\n",
    "            article = articles_dict[article_idx]\n",
    "            text_b = create_text_b(article)\n",
    "        \n",
    "        examples_to_add.append(SequenceClassificationExample(\n",
    "            guid=claim.index,\n",
    "            text_a=text_a,\n",
    "            text_b=text_b,\n",
    "            label=0, # unrelated article\n",
    "            art_id=article.index\n",
    "        ))\n",
    "    examples.extend(examples_to_add)"
   ]
  },
  {
   "cell_type": "code",
   "execution_count": 20,
   "metadata": {},
   "outputs": [
    {
     "data": {
      "text/plain": [
       "{\n",
       "  \"guid\": \"Phase2Dataset/11153\",\n",
       "  \"text_a\": \"\\u201cThe head of the Russian Lower House Committee for Eurasian Integration says the recent proposal to split Russia into several parts, voiced by a Latvian MP, is proof of NATO\\u2019s hostile plans.\\u201dRT 2018-07-30\",\n",
       "  \"text_b\": \"tampabay.Crisafulli: Why the Florida House opposes Medicaid expansion.tampa bay opinion columns cris full why the florida house opposes medicaid expansion.Crisafulli: Why the Florida House opposes Medicaid expansion In 2012, the U.S. Supreme Court gave states the option to expand Medicaid under Obamacare and Florida has chosen not to expand. There are principled reasons for declining to grow a program that currently covers 3.7 million Floridians at a cost of $23.5 billion per year, or about one-third of Florida's budget. We oppose expanding Medicaid because it is a broken system with poor health outcomes, high inflation, unseverable federal strings, and no incentive for personal responsibility for those who are able to provide for themselves. Under current law, Florida provides for our most vulnerable: low-income children, pregnant women, the elderly and disabled people. Under federal law, other low-income Floridians have access to health care subsidies to buy private insurance for less than the average cost of a wireless phone bill. In fact, if we choose Obamacare expansion, 600,000 will lose eligibility for their subsidies, of which 257,000 would be forced into Medicaid. Those who claim we should expand Medicaid to get Florida's money back should note that we already receive over $15 billion more each year than we send to Washington. It's deficit spending. The national debt burden today is $145,000 per household. Medicaid expansion would not be financed with the hard-earned dollars we have already sent to Washington \\u2014 it would be financed by mortgaging our children's and grandchildren's future. The Florida Senate disagrees and has unfortunately partnered with the Obama administration to demand Medicaid expansion. They suggest existing safety net funding (the Low Income Pool, or LIP) and our state budget are tied to federal health care policy goals. What is LIP? It's a federal program that provides $1.3 billion to hospitals and other providers, using additional local matching dollars. It was approved in 2006 to replace a prior program, in place for decades. Last year, the federal government told us that LIP needs to end in its current form, yet gave no guidance about what a new program should look like. Florida entered into talks with the federal government. Months later, the state was suddenly told that continued LIP funding is linked to Medicaid expansion. The implication is that if we don't expand, we won't get LIP funds. Eliminating LIP has serious consequences for some Florida hospitals and primary care programs. The federal government should approve a new program. If that does not happen, we need to take a serious look at what hospitals really need from taxpayers and whether hospitals can be more prudent and efficient. If we lose the federal LIP funds, we can create a more limited, state-funded program or we can live without LIP by pursuing other policy options aimed at reducing costs and increasing access to quality health care. Such options include ideas that the Florida House has championed for years. We support expanding the use of telemedicine and expanding the scope of practice for advance practice nurses to treat patients. We support encouraging direct primary care, which restores the doctor/patient relationship so health care is available at dramatically lower costs. We support expanding medical malpractice reform to reduce frivolous lawsuits that increase health care costs, and expanding choices for where patients get their health care by eliminating unnecessary government regulations. We support breaking geographic monopolies for hospitals. We support allowing consumers to buy health insurance across state lines. The LIP experience points to the difficulty of working with an unreliable, unpredictable federal partner more committed to a political goal than good government. I am hopeful the LIP negotiations will move past the Medicaid expansion debate to bring a swift resolution that creates a reasonable hospital funding program. In the meantime, the best course for Florida is to separate Medicaid expansion discussions and finish our state budget. Manufacturing a budget crisis in order to leverage a federal policy preference is not in the best interest of 19 million Floridians who are counting on us to do our job. Florida's safety net population and budget should not suffer because we disagree with the federal government on health care policy. We must have a budget by July 1, and the Florida House of Representatives stands ready to meet our constitutional obligation. The House made multiple offers to the Senate to restart the stalled budget process that would set aside state monies as a contingency fund for our safety net pending the outcome of the talks with the federal government. Our offer still stands. I believe we can responsibly craft a budget and together move toward common-ground policy ideas that are in the best interest of all Floridians. \",\n",
       "  \"label\": 0,\n",
       "  \"art_id\": \"Phase2Dataset/46787.html\"\n",
       "}"
      ]
     },
     "execution_count": 20,
     "metadata": {},
     "output_type": "execute_result"
    }
   ],
   "source": [
    "examples[101]"
   ]
  },
  {
   "cell_type": "code",
   "execution_count": null,
   "metadata": {},
   "outputs": [],
   "source": []
  },
  {
   "cell_type": "code",
   "execution_count": null,
   "metadata": {},
   "outputs": [],
   "source": []
  },
  {
   "cell_type": "code",
   "execution_count": null,
   "metadata": {},
   "outputs": [],
   "source": []
  }
 ],
 "metadata": {
  "kernelspec": {
   "display_name": "Python 3",
   "language": "python",
   "name": "python3"
  },
  "language_info": {
   "codemirror_mode": {
    "name": "ipython",
    "version": 3
   },
   "file_extension": ".py",
   "mimetype": "text/x-python",
   "name": "python",
   "nbconvert_exporter": "python",
   "pygments_lexer": "ipython3",
   "version": "3.7.7"
  }
 },
 "nbformat": 4,
 "nbformat_minor": 4
}
